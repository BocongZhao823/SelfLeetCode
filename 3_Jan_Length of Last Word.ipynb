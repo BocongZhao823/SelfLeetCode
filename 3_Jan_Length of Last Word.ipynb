{
 "cells": [
  {
   "attachments": {},
   "cell_type": "markdown",
   "metadata": {},
   "source": [
    "### 58. Length of Last Word"
   ]
  },
  {
   "attachments": {},
   "cell_type": "markdown",
   "metadata": {},
   "source": [
    "Given a string s consisting of words and spaces, return the length of the last word in the string.\n",
    "\n",
    "A word is a maximal \n",
    "substring\n",
    " consisting of non-space characters only."
   ]
  },
  {
   "attachments": {},
   "cell_type": "markdown",
   "metadata": {},
   "source": [
    "A substring is a contiguous non-empty sequence of characters within a string."
   ]
  },
  {
   "cell_type": "code",
   "execution_count": 160,
   "metadata": {},
   "outputs": [],
   "source": [
    "class Solution:\n",
    "    def lengthOfLastWord(s: str) -> int:\n",
    "\n",
    "        # Save all the index of spaces (inside the sentence) into 1 list\n",
    "        spaceIndex = []\n",
    "\n",
    "        # For each character inside s\n",
    "        for i in range(len(s)):\n",
    "            # if that character is a space\n",
    "            if \" \" == s[i]:\n",
    "                # Save its index to a list\n",
    "                spaceIndex.append(i)\n",
    "\n",
    "        print(\"All space index are\",spaceIndex)\n",
    "\n",
    "        # Case 1: \"a\"\n",
    "        # no space exist inside a sentence\n",
    "        # i.e., there is only 1 word exist\n",
    "        # the len of the last word == len of list s\n",
    "        if len(spaceIndex) == 0:\n",
    "            lenLastWord = len(s)\n",
    "\n",
    "        else:\n",
    "            \n",
    "            lastSpace = spaceIndex[-1]\n",
    "\n",
    "            # Case 2: \"Hello World\"\n",
    "            # Check if the last index of sapce is NOT the last index of the entire list s\n",
    "            # Note since index counts from 0, so add 1 when its comparing with length\n",
    "            if lastSpace + 1 != len(s):\n",
    "                lastWord = s[lastSpace+1:]\n",
    "                lenLastWord = len(lastWord)\n",
    "            else:\n",
    "                \n",
    "                # Case 3: \"   fly me   to   the moon  \"\n",
    "                # A list save all individal words inside a sentence (omit spaces)\n",
    "                all = []\n",
    "                \n",
    "                for i in range(len(spaceIndex)):\n",
    "                    print(\"The chosen index is\", i)\n",
    "                    # Since i starts from 0, thus, add 1 to i\n",
    "                    lastSpace = spaceIndex[-(i+1)]\n",
    "                    print(\"The chosen last space is\",lastSpace)\n",
    "                    \n",
    "                    # Check if the last index of sapce is at the last index of the entire list s\n",
    "                    # Note since index counts from 0, so add 1 when its comparing with length\n",
    "                    if lastSpace + 1 == len(s):\n",
    "                        pass\n",
    "                    # If the contents behind that space is NOT a space (i.e., words exist)\n",
    "                    elif s[lastSpace+1] != \" \":\n",
    "                        # Get that word\n",
    "                        # Note a word is located between 2 spaces \n",
    "                        lastWord = s[lastSpace +1: spaceIndex[-(i+1) +1] ]\n",
    "                        # Save that word to a list\n",
    "                        all.append(lastWord)\n",
    "                \n",
    "                print(\"All words inside a sentence are\",all)\n",
    "\n",
    "                # Case 4: \"a \"\n",
    "                if len(all) == 0:\n",
    "                    lastWord = s[:spaceIndex[0]]\n",
    "\n",
    "                else:\n",
    "                    # The 1st saving word is the last word inside a sentence\n",
    "                    lastWord = all[0]\n",
    "                lenLastWord = len(lastWord)\n",
    "               \n",
    "        return lenLastWord\n",
    "        "
   ]
  },
  {
   "cell_type": "code",
   "execution_count": 142,
   "metadata": {},
   "outputs": [
    {
     "name": "stdout",
     "output_type": "stream",
     "text": [
      "All space index are [5]\n"
     ]
    },
    {
     "data": {
      "text/plain": [
       "5"
      ]
     },
     "execution_count": 142,
     "metadata": {},
     "output_type": "execute_result"
    }
   ],
   "source": [
    "Solution.lengthOfLastWord(\"Hello World\")"
   ]
  },
  {
   "cell_type": "code",
   "execution_count": 161,
   "metadata": {},
   "outputs": [
    {
     "name": "stdout",
     "output_type": "stream",
     "text": [
      "All space index are [0, 1, 2, 6, 9, 10, 11, 14, 15, 16, 20, 25, 26]\n",
      "The chosen index is 0\n",
      "The chosen last space is 26\n",
      "The chosen index is 1\n",
      "The chosen last space is 25\n",
      "The chosen index is 2\n",
      "The chosen last space is 20\n",
      "The chosen index is 3\n",
      "The chosen last space is 16\n",
      "The chosen index is 4\n",
      "The chosen last space is 15\n",
      "The chosen index is 5\n",
      "The chosen last space is 14\n",
      "The chosen index is 6\n",
      "The chosen last space is 11\n",
      "The chosen index is 7\n",
      "The chosen last space is 10\n",
      "The chosen index is 8\n",
      "The chosen last space is 9\n",
      "The chosen index is 9\n",
      "The chosen last space is 6\n",
      "The chosen index is 10\n",
      "The chosen last space is 2\n",
      "The chosen index is 11\n",
      "The chosen last space is 1\n",
      "The chosen index is 12\n",
      "The chosen last space is 0\n",
      "All words inside a sentence are ['moon', 'the', 'to', 'me', 'fly']\n"
     ]
    },
    {
     "data": {
      "text/plain": [
       "4"
      ]
     },
     "execution_count": 161,
     "metadata": {},
     "output_type": "execute_result"
    }
   ],
   "source": [
    "Solution.lengthOfLastWord(\"   fly me   to   the moon  \")"
   ]
  },
  {
   "cell_type": "code",
   "execution_count": 146,
   "metadata": {},
   "outputs": [
    {
     "name": "stdout",
     "output_type": "stream",
     "text": [
      "All space index are []\n"
     ]
    },
    {
     "data": {
      "text/plain": [
       "1"
      ]
     },
     "execution_count": 146,
     "metadata": {},
     "output_type": "execute_result"
    }
   ],
   "source": [
    "Solution.lengthOfLastWord(\"a\")"
   ]
  },
  {
   "cell_type": "code",
   "execution_count": 147,
   "metadata": {},
   "outputs": [
    {
     "name": "stdout",
     "output_type": "stream",
     "text": [
      "All space index are [5]\n",
      "The chosen index is 0\n",
      "The chosen last space is 5\n",
      "All words inside a sentence are []\n"
     ]
    },
    {
     "data": {
      "text/plain": [
       "5"
      ]
     },
     "execution_count": 147,
     "metadata": {},
     "output_type": "execute_result"
    }
   ],
   "source": [
    "Solution.lengthOfLastWord(\"about \")"
   ]
  },
  {
   "cell_type": "code",
   "execution_count": 148,
   "metadata": {},
   "outputs": [
    {
     "name": "stdout",
     "output_type": "stream",
     "text": [
      "All space index are [0, 6]\n",
      "The chosen index is 0\n",
      "The chosen last space is 6\n",
      "The chosen index is 1\n",
      "The chosen last space is 0\n",
      "All words inside a sentence are ['']\n"
     ]
    },
    {
     "data": {
      "text/plain": [
       "0"
      ]
     },
     "execution_count": 148,
     "metadata": {},
     "output_type": "execute_result"
    }
   ],
   "source": [
    "Solution.lengthOfLastWord(\" about \")"
   ]
  },
  {
   "cell_type": "code",
   "execution_count": 149,
   "metadata": {},
   "outputs": [
    {
     "name": "stdout",
     "output_type": "stream",
     "text": [
      "All space index are [3, 4, 5, 6]\n",
      "The chosen index is 0\n",
      "The chosen last space is 6\n",
      "The chosen index is 1\n",
      "The chosen last space is 5\n",
      "The chosen index is 2\n",
      "The chosen last space is 4\n",
      "The chosen index is 3\n",
      "The chosen last space is 3\n",
      "All words inside a sentence are []\n"
     ]
    },
    {
     "data": {
      "text/plain": [
       "3"
      ]
     },
     "execution_count": 149,
     "metadata": {},
     "output_type": "execute_result"
    }
   ],
   "source": [
    "Solution.lengthOfLastWord(\"day    \")"
   ]
  },
  {
   "cell_type": "code",
   "execution_count": 162,
   "metadata": {},
   "outputs": [
    {
     "name": "stdout",
     "output_type": "stream",
     "text": [
      "All space index are [5, 8, 10, 15, 19]\n",
      "The chosen index is 0\n",
      "The chosen last space is 19\n",
      "The chosen index is 1\n",
      "The chosen last space is 15\n",
      "The chosen index is 2\n",
      "The chosen last space is 10\n",
      "The chosen index is 3\n",
      "The chosen last space is 8\n",
      "The chosen index is 4\n",
      "The chosen last space is 5\n",
      "All words inside a sentence are ['day', 'nice', 'a', 'is']\n"
     ]
    },
    {
     "data": {
      "text/plain": [
       "3"
      ]
     },
     "execution_count": 162,
     "metadata": {},
     "output_type": "execute_result"
    }
   ],
   "source": [
    "Solution.lengthOfLastWord(\"Today is a nice day \")"
   ]
  }
 ],
 "metadata": {
  "kernelspec": {
   "display_name": "Python 3",
   "language": "python",
   "name": "python3"
  },
  "language_info": {
   "codemirror_mode": {
    "name": "ipython",
    "version": 3
   },
   "file_extension": ".py",
   "mimetype": "text/x-python",
   "name": "python",
   "nbconvert_exporter": "python",
   "pygments_lexer": "ipython3",
   "version": "3.9.13"
  },
  "orig_nbformat": 4,
  "vscode": {
   "interpreter": {
    "hash": "e24dad31b70f1ca84e4fa801b027387d3dbd09bc703469d381e644d7caa34431"
   }
  }
 },
 "nbformat": 4,
 "nbformat_minor": 2
}
