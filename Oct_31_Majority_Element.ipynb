{
 "cells": [
  {
   "cell_type": "markdown",
   "metadata": {},
   "source": [
    "# **169. Majority Element**"
   ]
  },
  {
   "cell_type": "markdown",
   "metadata": {},
   "source": [
    "Given an array nums of size n, return the majority element.\n",
    "\n",
    "The majority element is the element that appears more than ⌊n / 2⌋ times. You may assume that the majority element always exists in the array.\n",
    "\n",
    " \n",
    "\n",
    "**Example 1:**\n",
    "\n",
    "Input: nums = [3,2,3]\n",
    "Output: 3\n",
    "\n",
    "**Example 2:**\n",
    "\n",
    "Input: nums = [2,2,1,1,1,2,2]\n",
    "Output: 2\n",
    " \n",
    "\n",
    "Constraints:\n",
    "\n",
    "n == nums.length\n",
    "1 <= n <= 5 * 104\n",
    "-109 <= nums[i] <= 109\n",
    " \n",
    "\n",
    "Follow-up: Could you solve the problem in linear time and in O(1) space?"
   ]
  },
  {
   "cell_type": "code",
   "execution_count": 29,
   "metadata": {},
   "outputs": [],
   "source": [
    "class Solution:\n",
    "    def majorityElement(nums: list[int]) -> int:\n",
    "        uniqueList = []\n",
    "        \n",
    "        for i in range(len(nums)):\n",
    "            if nums[i] not in uniqueList:\n",
    "                uniqueList.append(nums[i])\n",
    "            \n",
    "        countList = [0]*len(uniqueList)\n",
    "        \n",
    "        \n",
    "        for i in range(len(nums)):\n",
    "            for t in range(len(uniqueList)):\n",
    "                if uniqueList[t] == nums[i]:\n",
    "                    countList[t] += 1\n",
    "        \n",
    "        \n",
    "        maxnum = 0\n",
    "        for t in range(len(countList)):\n",
    "            if maxnum < countList[t]:\n",
    "                maxnum = countList[t]\n",
    "                answer = uniqueList[t]\n",
    "        \n",
    "        return answer"
   ]
  },
  {
   "cell_type": "code",
   "execution_count": 30,
   "metadata": {},
   "outputs": [
    {
     "data": {
      "text/plain": [
       "2"
      ]
     },
     "execution_count": 30,
     "metadata": {},
     "output_type": "execute_result"
    }
   ],
   "source": [
    "nums = [2,2,1,1,1,2,2]\n",
    "Solution.majorityElement(nums)"
   ]
  }
 ],
 "metadata": {
  "kernelspec": {
   "display_name": "Python 3",
   "language": "python",
   "name": "python3"
  },
  "language_info": {
   "codemirror_mode": {
    "name": "ipython",
    "version": 3
   },
   "file_extension": ".py",
   "mimetype": "text/x-python",
   "name": "python",
   "nbconvert_exporter": "python",
   "pygments_lexer": "ipython3",
   "version": "3.9.13"
  }
 },
 "nbformat": 4,
 "nbformat_minor": 2
}
