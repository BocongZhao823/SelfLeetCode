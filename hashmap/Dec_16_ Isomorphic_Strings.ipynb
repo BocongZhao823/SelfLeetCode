{
 "cells": [
  {
   "cell_type": "markdown",
   "metadata": {},
   "source": [
    "# 205. Isomorphic Strings\n",
    "\n",
    "Given two strings s and t, determine if they are isomorphic.\n",
    "\n",
    "Two strings s and t are isomorphic if the characters in s can be replaced to get t.\n",
    "\n",
    "All occurrences of a character must be replaced with another character while preserving the order of characters. No two characters may map to the same character, but a character may map to itself.\n",
    "\n",
    " \n",
    "\n",
    "### Example 1:\n",
    "\n",
    "Input: s = \"egg\", t = \"add\"\n",
    "\n",
    "Output: true\n",
    "\n",
    "### Example 2:\n",
    "\n",
    "Input: s = \"foo\", t = \"bar\"\n",
    "\n",
    "Output: false\n",
    "\n",
    "### Example 3:\n",
    "\n",
    "Input: s = \"paper\", t = \"title\"\n",
    "\n",
    "Output: true\n",
    " \n",
    "\n",
    "### Constraints:\n",
    "\n",
    "1 <= s.length <= 5 * 104\n",
    "\n",
    "t.length == s.length\n",
    "\n",
    "s and t consist of any valid ascii character."
   ]
  },
  {
   "cell_type": "markdown",
   "metadata": {},
   "source": [
    "### Tutorial \n",
    "\n",
    "https://www.youtube.com/watch?v=7yF-U1hLEqQ"
   ]
  },
  {
   "cell_type": "code",
   "execution_count": null,
   "metadata": {},
   "outputs": [],
   "source": [
    "from collections import defaultdict\n",
    "\n",
    "class Solution:\n",
    "    def isIsomorphic(s: str, t: str) -> bool:\n",
    "        myHashmap = defaultdict(str)\n",
    "        "
   ]
  },
  {
   "cell_type": "code",
   "execution_count": null,
   "metadata": {},
   "outputs": [],
   "source": [
    "s = \"egg\" \n",
    "t = \"add\"\n",
    "Solution.isIsomorphic(s,t)"
   ]
  }
 ],
 "metadata": {
  "kernelspec": {
   "display_name": "Python 3",
   "language": "python",
   "name": "python3"
  },
  "language_info": {
   "name": "python",
   "version": "3.9.13"
  }
 },
 "nbformat": 4,
 "nbformat_minor": 2
}
