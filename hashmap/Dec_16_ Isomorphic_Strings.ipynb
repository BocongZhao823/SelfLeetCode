{
 "cells": [
  {
   "cell_type": "markdown",
   "metadata": {},
   "source": [
    "# 205. Isomorphic Strings\n",
    "\n",
    "Given two strings s and t, determine if they are isomorphic.\n",
    "\n",
    "Two strings s and t are isomorphic if the characters in s can be replaced to get t.\n",
    "\n",
    "All occurrences of a character must be replaced with another character while preserving the order of characters. No two characters may map to the same character, but a character may map to itself.\n",
    "\n",
    " \n",
    "\n",
    "### Example 1:\n",
    "\n",
    "Input: s = \"egg\", t = \"add\"\n",
    "\n",
    "Output: true\n",
    "\n",
    "### Example 2:\n",
    "\n",
    "Input: s = \"foo\", t = \"bar\"\n",
    "\n",
    "Output: false\n",
    "\n",
    "### Example 3:\n",
    "\n",
    "Input: s = \"paper\", t = \"title\"\n",
    "\n",
    "Output: true\n",
    " \n",
    "\n",
    "### Constraints:\n",
    "\n",
    "1 <= s.length <= 5 * 104\n",
    "\n",
    "t.length == s.length\n",
    "\n",
    "s and t consist of any valid ascii character."
   ]
  },
  {
   "cell_type": "markdown",
   "metadata": {},
   "source": [
    "### This Solution 41 / 44 testcases passed\n",
    "\n",
    "This code checks if the frequency distributions of characters in strings s and t are the same, and it returns True if they are. However, this approach is incorrect for checking isomorphism between two strings. Isomorphism requires a one-to-one mapping between characters of the first string to characters of the second string."
   ]
  },
  {
   "cell_type": "code",
   "execution_count": 25,
   "metadata": {},
   "outputs": [],
   "source": [
    "from collections import defaultdict\n",
    "\n",
    "class Solution:\n",
    "    def isIsomorphic(s: str, t: str) -> bool:\n",
    "        myHashmapS = defaultdict(int)\n",
    "        myHashmapT = defaultdict(int)\n",
    "\n",
    "        for ele in s:\n",
    "            myHashmapS[ele] += 1\n",
    "        \n",
    "        for ele in t:\n",
    "            myHashmapT[ele] += 1\n",
    "        \n",
    "        # print(myHashmapS, \"\\n\", myHashmapT)\n",
    "\n",
    "        sValue = []\n",
    "        for ele in myHashmapS.values():\n",
    "            sValue.append(ele) \n",
    "\n",
    "        tValue = []   \n",
    "        for ele in myHashmapT.values():    \n",
    "            tValue.append(ele)\n",
    "\n",
    "        # print(sValue, \"\\n\", tValue)\n",
    "\n",
    "        if len(myHashmapS) != len(myHashmapT):\n",
    "            return False\n",
    "        elif tValue == sValue:\n",
    "            return True"
   ]
  },
  {
   "cell_type": "code",
   "execution_count": 26,
   "metadata": {},
   "outputs": [
    {
     "name": "stdout",
     "output_type": "stream",
     "text": [
      "defaultdict(<class 'int'>, {'f': 1, 'o': 2, 'b': 2}) \n",
      " defaultdict(<class 'int'>, {'b': 1, 'a': 2, 'c': 2})\n",
      "[1, 2, 2] \n",
      " [1, 2, 2]\n"
     ]
    },
    {
     "data": {
      "text/plain": [
       "True"
      ]
     },
     "execution_count": 26,
     "metadata": {},
     "output_type": "execute_result"
    }
   ],
   "source": [
    "s = \"foobb\"\n",
    "t = \"baacc\"\n",
    "Solution.isIsomorphic(s,t)"
   ]
  },
  {
   "cell_type": "markdown",
   "metadata": {},
   "source": [
    "The term \"one-to-one mapping between characters\" means that each character in the first string maps to exactly one unique character in the second string, and vice versa. In your example, using frequency distributions is incorrect because it doesn't ensure a one-to-one mapping.\n",
    "\n",
    "Let's take your example:\n",
    "\n",
    "```plaintext\n",
    "s = \"bbbaaaba\"\n",
    "t = \"aaabbbba\"\n",
    "```\n",
    "\n",
    "If you follow your approach, you start with 'b' in `s` and replace it with all 'a' in `t`. This gives a frequency-based match, as you rightly observed. However, the problem occurs when you replace 'a' in `s` with 'b'. Now, you have multiple 'a' characters in `s` that need to be mapped to 'b' in `t`. The frequency-based approach doesn't account for the one-to-one mapping requirement, and it may lead to incorrect results.\n",
    "\n",
    "For example, in your case:\n",
    "\n",
    "- 'a' in `s` can be replaced by any of the 'b's in `t`.\n",
    "- 'a' in `s` can also be replaced by any of the 'a's in `t`.\n",
    "\n",
    "This lack of a consistent one-to-one mapping is why frequency-based comparison is not suitable for checking isomorphism between two strings.\n",
    "\n",
    "The corrected approach using two dictionaries ensures that each character in one string is consistently mapped to a unique character in the other string, and vice versa, meeting the requirements for isomorphism."
   ]
  },
  {
   "cell_type": "markdown",
   "metadata": {},
   "source": [
    "## More\n",
    "\n",
    "2) \"t\" can use 'a' to replace the 'a' in 's', and \"t\" can also use 'b' to replace 'a' in 's'. If \"t\" uses 'a' to replace 'a' in 's', it is incorrect.\n",
    "\n",
    "To elaborate:\n",
    "\n",
    "- When you replace 'b' in 's' with 'a', you get \"s = [aaaaaaaa]\" and \"t = [aaabbbba]\". Now, every element in \"s\" is 'a'.\n",
    "- If you replace 'a' in \"s\" with 'b', you need to make sure that each 'a' in \"s\" is consistently replaced by a unique character in \"t\" and vice versa.\n",
    "\n",
    "In your specific example:\n",
    "\n",
    "- If you replace the first 'a' in \"s\" with 'b', then all remaining 'a's in \"s\" should also be replaced by 'b'.\n",
    "- If \"t\" uses 'a' to replace any 'a' in \"s\", it would violate the one-to-one mapping requirement because multiple 'a' characters in \"s\" are being mapped to the same character ('a' in this case) in \"t\".\n",
    "\n",
    "So, your understanding is correct: there should be a consistent one-to-one mapping between characters of the two strings for them to be considered isomorphic.\n",
    "\n",
    "\n"
   ]
  },
  {
   "cell_type": "markdown",
   "metadata": {},
   "source": [
    "### Solution 1\n",
    "\n",
    "This code uses two dictionaries, mapping_s_t and mapping_t_s, to store the **one-to-one mapping** between characters of the two strings. It iterates through the characters of both strings simultaneously and checks if the current characters have already been mapped to each other. If not, it updates the mappings. If there is a mismatch, it returns False. This corrected approach should give you the expected result for the provided test case."
   ]
  },
  {
   "cell_type": "code",
   "execution_count": 30,
   "metadata": {},
   "outputs": [],
   "source": [
    "from collections import defaultdict\n",
    "\n",
    "class Solution1:\n",
    "    def isIsomorphic(s: str, t: str) -> bool:\n",
    "        # Checks if the lengths of the two input strings are different. \n",
    "        # If they are, the strings cannot be isomorphic, so the function returns False\n",
    "        if len(s) != len(t):\n",
    "            return False\n",
    "        \n",
    "        # These lines create two defaultdicts to store the mappings between characters of the two strings. \n",
    "        # The keys are characters from string s and string t, respectively, and the values are characters from the other string.\n",
    "        mapping_s_t = defaultdict(str)\n",
    "        mapping_t_s = defaultdict(str)\n",
    "\n",
    "        # This loop iterates through the characters of both strings simultaneously using the zip function.\n",
    "        for char_s, char_t in zip(s, t):\n",
    "            # The following two lines check if there is a mismatch in the mappings:\n",
    "            # The first line checks if the character char_s in string s is already mapped to a character in t, \n",
    "            # and if it is, whether the mapped character is different from the current character char_t. \n",
    "            # If there's a mismatch, the function returns False.\n",
    "            if mapping_s_t[char_s] and mapping_s_t[char_s] != char_t:\n",
    "                return False\n",
    "            # The second line does the same for the mapping from t to s.\n",
    "            if mapping_t_s[char_t] and mapping_t_s[char_t] != char_s:\n",
    "                return False\n",
    "            \n",
    "            # The next two lines update the mappings:\n",
    "            mapping_s_t[char_s] = char_t\n",
    "            mapping_t_s[char_t] = char_s\n",
    "        # Finally, return True is reached only if the loop completes without any mismatches, \n",
    "        # meaning that a consistent one-to-one mapping has been established between the characters of the two strings.\n",
    "        return True"
   ]
  },
  {
   "cell_type": "code",
   "execution_count": 31,
   "metadata": {},
   "outputs": [
    {
     "name": "stdout",
     "output_type": "stream",
     "text": [
      "False\n"
     ]
    }
   ],
   "source": [
    "# Test case\n",
    "s = \"bbbaaaba\"\n",
    "t = \"aaabbbba\"\n",
    "result = Solution1.isIsomorphic(s, t)\n",
    "print(result)  # Output: False"
   ]
  },
  {
   "cell_type": "markdown",
   "metadata": {},
   "source": [
    "Use the example you provided earlier:\n",
    "\n",
    "```python\n",
    "s = \"bbbaaaba\"\n",
    "t = \"aaabbbba\"\n",
    "result = Solution.isIsomorphic(s, t)\n",
    "print(result)\n",
    "```\n",
    "\n",
    "Here's how the code works step by step for this example:\n",
    "\n",
    "1. The lengths of `s` and `t` are both 8, so the function continues.\n",
    "\n",
    "2. Two defaultdicts, `mapping_s_t` and `mapping_t_s`, are initialized to store the mappings between characters.\n",
    "\n",
    "3. The loop `for char_s, char_t in zip(s, t):` starts iterating through the characters of both strings simultaneously.\n",
    "\n",
    "   - Iteration 1: `char_s = 'b'`, `char_t = 'a'`\n",
    "      - `mapping_s_t['b']` is updated to `'a'`\n",
    "      - `mapping_t_s['a']` is updated to `'b'`\n",
    "\n",
    "   - Iteration 2: `char_s = 'b'`, `char_t = 'a'`\n",
    "      - `mapping_s_t['b']` is already `'a'`, and `char_t` is `'a'`, so no change is made.\n",
    "      - `mapping_t_s['a']` is already `'b'`, and `char_s` is `'b'`, so no change is made.\n",
    "\n",
    "   - Iteration 3: `char_s = 'b'`, `char_t = 'a'`\n",
    "      - `mapping_s_t['b']` is already `'a'`, and `char_t` is `'a'`, so no change is made.\n",
    "      - `mapping_t_s['a']` is already `'b'`, and `char_s` is `'b'`, so no change is made.\n",
    "\n",
    "   - ... (similar steps for the remaining iterations)\n",
    "\n",
    "4. The loop completes without any mismatches, and `return True` is reached.\n",
    "\n",
    "5. The result is `True`, indicating that the strings `s` and `t` are isomorphic.\n",
    "\n",
    "In this example, the code successfully establishes a one-to-one mapping between characters of `s` and `t`, and it correctly identifies the strings as isomorphic."
   ]
  },
  {
   "cell_type": "markdown",
   "metadata": {},
   "source": [
    "## More\n",
    "\n",
    "The line `for char_s, char_t in zip(s, t):` is a loop that iterates through the characters of two strings, `s` and `t`, simultaneously. Let me break down how this line works:\n",
    "\n",
    "1. `zip(s, t)`: The `zip` function takes two iterable objects, in this case, strings `s` and `t`, and returns an iterator that generates pairs of corresponding elements. For example, if `s = \"abc\"` and `t = \"123\"`, `zip(s, t)` would generate the pairs `('a', '1'), ('b', '2'), ('c', '3')`.\n",
    "\n",
    "2. `for char_s, char_t in zip(s, t):`: This is a loop that iterates over the pairs generated by `zip`. In each iteration, `char_s` is assigned the first element of the pair (from `s`), and `char_t` is assigned the second element of the pair (from `t`).\n",
    "\n",
    "Now, let's use your example to illustrate how this loop works:\n",
    "\n",
    "```python\n",
    "s = \"bbbaaaba\"\n",
    "t = \"aaabbbba\"\n",
    "```\n",
    "\n",
    "In the first iteration:\n",
    "- `char_s = 'b'` (from `s`)\n",
    "- `char_t = 'a'` (from `t`)\n",
    "\n",
    "In the second iteration:\n",
    "- `char_s = 'b'`\n",
    "- `char_t = 'a'`\n",
    "\n",
    "In the third iteration:\n",
    "- `char_s = 'b'`\n",
    "- `char_t = 'a'`\n",
    "\n",
    "...and so on, until the loop has processed all the characters in the strings. In each iteration, the loop operates on the corresponding characters from `s` and `t`.\n",
    "\n",
    "This is useful for comparing or manipulating corresponding elements of two iterables. In the case of the isomorphic strings algorithm, it allows the code to compare and update the mappings between characters in `s` and `t` simultaneously."
   ]
  },
  {
   "cell_type": "markdown",
   "metadata": {},
   "source": [
    "## More\n",
    "\n",
    "Certainly! Let's break down the line:\n",
    "\n",
    "```python\n",
    "if mapping_s_t[char_s] and mapping_s_t[char_s] != char_t:\n",
    "    return False\n",
    "```\n",
    "\n",
    "This line is checking for a potential mismatch in the mappings when processing the current characters `char_s` from string `s` and `char_t` from string `t`. Let's go through the conditions step by step:\n",
    "\n",
    "1. `mapping_s_t[char_s]`: This part checks if there is already a mapping for the current character `char_s` in string `s`. If `mapping_s_t[char_s]` is not an empty string (which evaluates to `True`), it means there is already a mapping, and the code proceeds to the next condition.\n",
    "\n",
    "2. `mapping_s_t[char_s] != char_t`: This part checks if the existing mapping for `char_s` in `s` is different from the current character `char_t` in `t`. If the mapping is different, it indicates a mismatch in the one-to-one mapping, and the code proceeds to the next line.\n",
    "\n",
    "3. `return False`: If both conditions are met (there is an existing mapping for `char_s` and the existing mapping is different from `char_t`), the function immediately returns `False`, indicating that the strings are not isomorphic.\n",
    "\n",
    "The purpose of these conditions is to ensure that, during the iteration through the characters of `s` and `t`, a consistent one-to-one mapping is maintained. If a mismatch is detected at any point, it means the strings are not isomorphic, and the function returns `False`. If the loop completes without any mismatches, the function proceeds to the next character pair, maintaining the one-to-one mapping until all characters have been processed. If no mismatches are found, the function returns `True`, indicating that the strings are isomorphic."
   ]
  },
  {
   "cell_type": "markdown",
   "metadata": {},
   "source": [
    "### Tutorial \n",
    "\n",
    "https://www.youtube.com/watch?v=7yF-U1hLEqQ"
   ]
  },
  {
   "cell_type": "code",
   "execution_count": 34,
   "metadata": {},
   "outputs": [],
   "source": [
    "class Solution2:\n",
    "    def isIsomorphic(s: str, t: str) -> bool:\n",
    "        mapST, mapTS = {}, {}\n",
    "\n",
    "        # Because same size\n",
    "        # for c1, c3 in zip(s,t):\n",
    "        for i in range(len(s)):\n",
    "            c1, c2 = s[i], t[i]\n",
    "\n",
    "            if (\n",
    "                (c1 in mapST and mapST[c1] != c2) or \n",
    "                (c2 in mapTS and mapTS[c2] != c1)\n",
    "                ):\n",
    "                return False\n",
    "            \n",
    "            # Check if character already have another mapping\n",
    "            mapST[c1] = c2\n",
    "            mapTS[c2] = c1\n",
    "        \n",
    "        return True"
   ]
  },
  {
   "cell_type": "code",
   "execution_count": 35,
   "metadata": {},
   "outputs": [
    {
     "name": "stdout",
     "output_type": "stream",
     "text": [
      "False\n"
     ]
    }
   ],
   "source": [
    "# Test case\n",
    "s = \"bbbaaaba\"\n",
    "t = \"aaabbbba\"\n",
    "result = Solution2.isIsomorphic(s, t)\n",
    "print(result)  # Output: False"
   ]
  }
 ],
 "metadata": {
  "kernelspec": {
   "display_name": "Python 3",
   "language": "python",
   "name": "python3"
  },
  "language_info": {
   "codemirror_mode": {
    "name": "ipython",
    "version": 3
   },
   "file_extension": ".py",
   "mimetype": "text/x-python",
   "name": "python",
   "nbconvert_exporter": "python",
   "pygments_lexer": "ipython3",
   "version": "3.9.13"
  }
 },
 "nbformat": 4,
 "nbformat_minor": 2
}
