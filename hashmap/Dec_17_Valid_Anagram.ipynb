{
 "cells": [
  {
   "cell_type": "markdown",
   "metadata": {},
   "source": [
    "# 242. Valid Anagram\n",
    "\n",
    "Given two strings s and t, return true if t is an anagram of s, and false otherwise.\n",
    "\n",
    "An Anagram is a word or phrase formed by rearranging the letters of a different word or phrase, typically using all the original letters exactly once.\n",
    "\n",
    "### Example 1:\n",
    "\n",
    "Input: s = \"anagram\", t = \"nagaram\"\n",
    "\n",
    "Output: true\n",
    "\n",
    "### Example 2:\n",
    "\n",
    "Input: s = \"rat\", t = \"car\"\n",
    "\n",
    "Output: false \n",
    "\n",
    "### Constraints:\n",
    "\n",
    "1 <= s.length, t.length <= 5 * 104\n",
    "\n",
    "s and t consist of lowercase English letters.\n",
    " \n",
    "Follow up: What if the inputs contain Unicode characters? How would you adapt your solution to such a case?"
   ]
  },
  {
   "cell_type": "code",
   "execution_count": 13,
   "metadata": {},
   "outputs": [],
   "source": [
    "from collections import defaultdict\n",
    "class Solution:\n",
    "    def isAnagram(s: str, t: str) -> bool:\n",
    "        my_mapT = defaultdict(int)\n",
    "        my_mapS = defaultdict(int)\n",
    "\n",
    "        for ele in s:\n",
    "            my_mapS[ele] += 1\n",
    "        for ele in t:\n",
    "            my_mapT[ele] += 1\n",
    "\n",
    "        print(my_mapS, \"\\n\", my_mapT)\n",
    "\n",
    "        if my_mapT == my_mapS:\n",
    "            return True\n",
    "        else:\n",
    "            return False"
   ]
  },
  {
   "cell_type": "code",
   "execution_count": 15,
   "metadata": {},
   "outputs": [
    {
     "name": "stdout",
     "output_type": "stream",
     "text": [
      "defaultdict(<class 'int'>, {'r': 1, 'a': 1, 't': 1}) \n",
      " defaultdict(<class 'int'>, {'t': 1, 'a': 1, 'r': 1})\n"
     ]
    },
    {
     "data": {
      "text/plain": [
       "True"
      ]
     },
     "execution_count": 15,
     "metadata": {},
     "output_type": "execute_result"
    }
   ],
   "source": [
    "s = \"rat\" \n",
    "t = \"tar\"\n",
    "Solution.isAnagram(s,t)"
   ]
  }
 ],
 "metadata": {
  "kernelspec": {
   "display_name": "Python 3",
   "language": "python",
   "name": "python3"
  },
  "language_info": {
   "codemirror_mode": {
    "name": "ipython",
    "version": 3
   },
   "file_extension": ".py",
   "mimetype": "text/x-python",
   "name": "python",
   "nbconvert_exporter": "python",
   "pygments_lexer": "ipython3",
   "version": "3.9.13"
  }
 },
 "nbformat": 4,
 "nbformat_minor": 2
}
