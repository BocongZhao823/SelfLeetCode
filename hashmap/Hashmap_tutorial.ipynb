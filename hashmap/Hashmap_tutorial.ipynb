{
 "cells": [
  {
   "cell_type": "markdown",
   "metadata": {},
   "source": [
    "# Hash map Tutorial\n",
    "https://www.youtube.com/watch?v=RcZsTI5h0kg"
   ]
  },
  {
   "cell_type": "code",
   "execution_count": 1,
   "metadata": {},
   "outputs": [
    {
     "name": "stdout",
     "output_type": "stream",
     "text": [
      "{'Canada': ['Calgary', 'Vancouver', 'Toronto']}\n"
     ]
    }
   ],
   "source": [
    "# Tutorial Example\n",
    "# Initializing \n",
    "city_map = {} # OR city_map = dict()\n",
    "# Add 1st key-value pair\n",
    "cities = [\"Calgary\", \"Vancouver\", \"Toronto\"]\n",
    "# Try to assign these cities to the key of Canada\n",
    "# Initial the key -- Canada\n",
    "city_map[\"Canada\"] = []\n",
    "# Add cities to this empty array \n",
    "city_map[\"Canada\"] += cities\n",
    "\n",
    "print(city_map)"
   ]
  },
  {
   "cell_type": "code",
   "execution_count": 2,
   "metadata": {},
   "outputs": [
    {
     "name": "stdout",
     "output_type": "stream",
     "text": [
      "defaultdict(<class 'list'>, {'Canada': ['Calgary', 'Vancouver', 'Toronto'], 'USA': ['New York City', 'Austin', 'Seattle'], 'England': ['London', 'Manchester']})\n",
      "cities are dict_values([['Calgary', 'Vancouver', 'Toronto'], ['New York City', 'Austin', 'Seattle'], ['London', 'Manchester']])\n"
     ]
    }
   ],
   "source": [
    "# To avoid initialized empty key to your array every single time\n",
    "from collections import defaultdict\n",
    "city_map = defaultdict(list)\n",
    "\n",
    "cities = [\"Calgary\", \"Vancouver\", \"Toronto\"]\n",
    "cities2 = [\"New York City\", \"Austin\", \"Seattle\"]\n",
    "cities3 = [\"London\", \"Manchester\"]\n",
    "city_map[\"Canada\"] += cities\n",
    "city_map[\"USA\"] += cities2\n",
    "city_map[\"England\"] += cities3\n",
    " \n",
    "print(city_map)\n",
    "\n",
    "# Retrieving Data\n",
    "# hashmap.keys() --> All keys from directionary in the form of a list\n",
    "# hashmap.values() --> All values\n",
    "# hashmap.items() --> A list of keys and values tupes \n",
    "city_list = city_map.values()\n",
    "print(f\"cities are {city_list}\")"
   ]
  }
 ],
 "metadata": {
  "kernelspec": {
   "display_name": "Python 3",
   "language": "python",
   "name": "python3"
  },
  "language_info": {
   "codemirror_mode": {
    "name": "ipython",
    "version": 3
   },
   "file_extension": ".py",
   "mimetype": "text/x-python",
   "name": "python",
   "nbconvert_exporter": "python",
   "pygments_lexer": "ipython3",
   "version": "3.9.13"
  }
 },
 "nbformat": 4,
 "nbformat_minor": 2
}
