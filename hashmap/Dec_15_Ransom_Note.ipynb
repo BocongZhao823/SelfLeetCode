{
 "cells": [
  {
   "cell_type": "markdown",
   "metadata": {},
   "source": [
    "# 383. Ransom Note\n",
    "\n",
    "Given two strings ransomNote and magazine, return true if ransomNote can be constructed by using the letters from magazine and false otherwise.\n",
    "\n",
    "Each letter in magazine can only be used once in ransomNote.\n",
    "\n",
    "### Example 1:\n",
    "\n",
    "Input: ransomNote = \"a\", magazine = \"b\"\n",
    "\n",
    "Output: false\n",
    "\n",
    "### Example 2:\n",
    "\n",
    "Input: ransomNote = \"aa\", magazine = \"ab\"\n",
    "\n",
    "Output: false\n",
    "\n",
    "### Example 3:\n",
    "\n",
    "Input: ransomNote = \"aa\", magazine = \"aab\"\n",
    "\n",
    "Output: true\n",
    " \n",
    "### Constraints:\n",
    "\n",
    "1 <= ransomNote.length, magazine.length <= 105\n",
    "ransomNote and magazine consist of lowercase English letters."
   ]
  },
  {
   "cell_type": "markdown",
   "metadata": {},
   "source": [
    "### The solution considered order in magazine. But the question asked that randomly using letter in magazine to check if it can construct ransomNote. 50 / 128 testcases passed"
   ]
  },
  {
   "cell_type": "code",
   "execution_count": 197,
   "metadata": {},
   "outputs": [],
   "source": [
    "from collections import defaultdict\n",
    "class Solution:\n",
    "    def canConstruct(ransomNote: str, magazine: str) -> bool:\n",
    "        my_map = defaultdict(list)\n",
    "\n",
    "        n = len(ransomNote)\n",
    "        for i in range(0,len(magazine)):\n",
    "            key = magazine[i:i+n]\n",
    "            if key == ransomNote:\n",
    "                my_map[key].append(ransomNote)\n",
    "            #print(my_map)\n",
    "        \n",
    "        if len(my_map) != 0:\n",
    "            return True\n",
    "        else:\n",
    "            return False\n",
    "        "
   ]
  },
  {
   "cell_type": "code",
   "execution_count": 198,
   "metadata": {},
   "outputs": [
    {
     "data": {
      "text/plain": [
       "False"
      ]
     },
     "execution_count": 198,
     "metadata": {},
     "output_type": "execute_result"
    }
   ],
   "source": [
    "ransomNote = \"aa\"\n",
    "magazine = \"cpadb\"\n",
    "Solution.canConstruct(ransomNote, magazine)"
   ]
  },
  {
   "cell_type": "markdown",
   "metadata": {},
   "source": [
    "### Solution 1 works, but beyond expected time limit"
   ]
  },
  {
   "cell_type": "code",
   "execution_count": 206,
   "metadata": {},
   "outputs": [],
   "source": [
    "from collections import defaultdict\n",
    "class Solution1:\n",
    "    def canConstruct(ransomNote: str, magazine: str) -> bool:\n",
    "        my_mapKey = defaultdict(list)\n",
    "        my_mapEle = defaultdict(list)\n",
    "\n",
    "        ########################################\n",
    "        ransomNote = sorted(ransomNote)\n",
    "        magazine = sorted(magazine)\n",
    "\n",
    "        #########################################\n",
    "        goOn = True\n",
    "        saveI = -1\n",
    "        while goOn:\n",
    "            for i in range(len(magazine)):\n",
    "                if magazine[i] == ransomNote[0]:\n",
    "                    saveI = i\n",
    "                    goOn = False\n",
    "\n",
    "        if saveI > -1:\n",
    "            magazine = magazine[saveI:]\n",
    "        \n",
    "        print(f\"old key{ransomNote}\")\n",
    "        print(f\"old elements{magazine}\")\n",
    "\n",
    "        ############################################\n",
    "        for keyNote in ransomNote:\n",
    "            my_mapKey[keyNote].append(keyNote)\n",
    "        \n",
    "        for keyEle in magazine:\n",
    "            my_mapEle[keyEle].append(keyEle)\n",
    "\n",
    "        print(my_mapKey)\n",
    "        print(my_mapEle)\n",
    "\n",
    "        ############################################\n",
    "        keyValue = my_mapKey.values()\n",
    "        eleValue = my_mapEle.values()\n",
    "        print(keyValue)\n",
    "        print(eleValue)\n",
    "\n",
    "        ############################################\n",
    "        keyInx = my_mapKey.keys()\n",
    "        eleInx = my_mapEle.keys()\n",
    "        print(keyInx)\n",
    "        print(eleInx)\n",
    "        ############################################\n",
    "\n",
    "        count = 0\n",
    "        for val in keyValue:\n",
    "            for ele in eleValue:\n",
    "                if val == ele:\n",
    "                    count +=1\n",
    "\n",
    "        ############################################\n",
    "        if count == len(keyValue):\n",
    "            return True\n",
    "        else:\n",
    "            return False\n",
    "        "
   ]
  },
  {
   "cell_type": "code",
   "execution_count": 207,
   "metadata": {},
   "outputs": [
    {
     "name": "stdout",
     "output_type": "stream",
     "text": [
      "old key['c', 'h', 'k', 'k', 'z']\n",
      "old elements['c', 'd', 'e', 'h', 'k', 'k', 'z']\n",
      "defaultdict(<class 'list'>, {'c': ['c'], 'h': ['h'], 'k': ['k', 'k'], 'z': ['z']})\n",
      "defaultdict(<class 'list'>, {'c': ['c'], 'd': ['d'], 'e': ['e'], 'h': ['h'], 'k': ['k', 'k'], 'z': ['z']})\n",
      "dict_values([['c'], ['h'], ['k', 'k'], ['z']])\n",
      "dict_values([['c'], ['d'], ['e'], ['h'], ['k', 'k'], ['z']])\n",
      "dict_keys(['c', 'h', 'k', 'z'])\n",
      "dict_keys(['c', 'd', 'e', 'h', 'k', 'z'])\n"
     ]
    },
    {
     "data": {
      "text/plain": [
       "True"
      ]
     },
     "execution_count": 207,
     "metadata": {},
     "output_type": "execute_result"
    }
   ],
   "source": [
    "ransomNote = \"czkkh\"\n",
    "magazine = \"zbacdeakkh\"\n",
    "Solution1.canConstruct(ransomNote, magazine)"
   ]
  },
  {
   "cell_type": "code",
   "execution_count": 201,
   "metadata": {},
   "outputs": [
    {
     "name": "stdout",
     "output_type": "stream",
     "text": [
      "old key['a', 'a']\n",
      "old elements['a', 'b', 'c', 'd', 'p']\n",
      "defaultdict(<class 'list'>, {'a': ['a', 'a']})\n",
      "defaultdict(<class 'list'>, {'a': ['a'], 'b': ['b'], 'c': ['c'], 'd': ['d'], 'p': ['p']})\n",
      "dict_values([['a', 'a']])\n",
      "dict_values([['a'], ['b'], ['c'], ['d'], ['p']])\n",
      "dict_keys(['a'])\n",
      "dict_keys(['a', 'b', 'c', 'd', 'p'])\n"
     ]
    },
    {
     "data": {
      "text/plain": [
       "False"
      ]
     },
     "execution_count": 201,
     "metadata": {},
     "output_type": "execute_result"
    }
   ],
   "source": [
    "ransomNote = \"aa\"\n",
    "magazine = \"cpadb\"\n",
    "Solution1.canConstruct(ransomNote, magazine)"
   ]
  },
  {
   "cell_type": "markdown",
   "metadata": {},
   "source": [
    "### Changes made for solution 2: --> 128 / 128 testcases passed\n",
    "\n",
    "Removed unnecessary sorting of strings.\n",
    "\n",
    "Simplified the loop to find the starting index of the matching character in the magazine. --> However, this should not include\n",
    "\n",
    "Removed unnecessary print statements.\n",
    "\n",
    "Changed the data structure for counting occurrences to a regular dictionary with integer values.\n",
    "\n",
    "Counted occurrences and compared counts directly, eliminating the need for nested loops.\n",
    "\n",
    "This revised version should provide a more efficient and correct solution to the problem."
   ]
  },
  {
   "cell_type": "code",
   "execution_count": 202,
   "metadata": {},
   "outputs": [],
   "source": [
    "from collections import defaultdict\n",
    "\n",
    "class Solution2:\n",
    "    @staticmethod\n",
    "    def canConstruct(ransomNote: str, magazine: str) -> bool:\n",
    "        # Using defaultdict with lists is unnecessary, a regular dictionary is sufficient.\n",
    "        my_mapKey = defaultdict(int)\n",
    "        my_mapEle = defaultdict(int)\n",
    "\n",
    "        # Sorting the strings is unnecessary for the approach you are using.\n",
    "\n",
    "        # Find the starting index of the matching character in magazine.\n",
    "        # However, this should not include, for example if [bad] and [abnd] --> then [abnd] will become [bnd] which is wrong \n",
    "        # saveI = -1\n",
    "        # for i in range(len(magazine)):\n",
    "        #     if magazine[i] == ransomNote[0]:\n",
    "        #         saveI = i\n",
    "        #         break  # Break once the first matching character is found.\n",
    "\n",
    "        # if saveI > -1:\n",
    "        #     magazine = magazine[saveI:]\n",
    "\n",
    "        # Remove unnecessary print statements.\n",
    "        print(f\"old key {ransomNote}\")\n",
    "        print(f\"old elements {magazine}\")\n",
    "\n",
    "        # Count the occurrences of each character in ransomNote and magazine.\n",
    "        for keyNote in ransomNote:\n",
    "            my_mapKey[keyNote] += 1\n",
    "\n",
    "        for keyEle in magazine:\n",
    "            my_mapEle[keyEle] += 1\n",
    "\n",
    "        print(my_mapKey)\n",
    "        print(my_mapEle)\n",
    "\n",
    "        # Compare the counts of characters in ransomNote and magazine.\n",
    "        for key, count in my_mapKey.items():\n",
    "            if my_mapEle[key] < count:\n",
    "                return False\n",
    "\n",
    "        return True\n"
   ]
  },
  {
   "cell_type": "code",
   "execution_count": 203,
   "metadata": {},
   "outputs": [
    {
     "name": "stdout",
     "output_type": "stream",
     "text": [
      "old key aa\n",
      "old elements aab\n",
      "defaultdict(<class 'int'>, {'a': 2})\n",
      "defaultdict(<class 'int'>, {'a': 2, 'b': 1})\n",
      "True\n"
     ]
    }
   ],
   "source": [
    "# Example usage:\n",
    "ransom_note = \"aa\"\n",
    "magazine_text = \"aab\"\n",
    "result = Solution2.canConstruct(ransom_note, magazine_text)\n",
    "print(result)"
   ]
  },
  {
   "cell_type": "markdown",
   "metadata": {},
   "source": [
    "Where the comparison between the counts of characters in ransomNote and magazine takes place. \n",
    "\n",
    "Here's a step-by-step explanation:\n",
    "\n",
    "for **key, count in my_mapKey.items():** --> This loop iterates over each unique character in **ransomNote** (represented by keys in **my_mapKey**). For each character, it retrieves the count of occurrences in **ransomNote** and stores it in the variable **count**.\n",
    "\n",
    "if my_mapEle[key] < count: --> Within the loop, it checks if the count of the current character ( key ) in magazine (represented by my_mapEle[key]) is less than the count of the same character in ransomNote (count). If it is, it means there are not enough occurrences of the character in magazine to satisfy the requirements of the ransom note.\n",
    "\n",
    "return False: If the condition in the above if statement is met for any character, the function immediately returns False, indicating that the ransom note cannot be constructed.\n",
    "\n",
    "The loop continues for all characters in ransomNote, performing the comparison for each one.\n",
    "\n",
    "If the loop completes without returning False, it means that there are enough occurrences of each character in magazine to construct the ransom note, and it returns True.\n",
    "\n",
    "In summary, this part of the code compares the counts of each unique character in ransomNote with the counts of the same characters in magazine. If at any point there are not enough occurrences of a character in magazine to satisfy the requirements of the ransom note, the function returns False. If the loop completes without any issues, it returns True, indicating that the ransom note can be constructed from the characters in the magazine."
   ]
  }
 ],
 "metadata": {
  "kernelspec": {
   "display_name": "Python 3",
   "language": "python",
   "name": "python3"
  },
  "language_info": {
   "codemirror_mode": {
    "name": "ipython",
    "version": 3
   },
   "file_extension": ".py",
   "mimetype": "text/x-python",
   "name": "python",
   "nbconvert_exporter": "python",
   "pygments_lexer": "ipython3",
   "version": "3.9.13"
  }
 },
 "nbformat": 4,
 "nbformat_minor": 2
}
