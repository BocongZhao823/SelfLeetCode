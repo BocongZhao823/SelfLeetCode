{
 "cells": [
  {
   "cell_type": "markdown",
   "metadata": {},
   "source": [
    "# 49. Group Anagrams\n",
    "\n",
    "Given an array of strings strs, group the anagrams together. You can return the answer in any order.\n",
    "\n",
    "An Anagram is a word or phrase formed by rearranging the letters of a different word or phrase, typically using all the original letters exactly once.\n",
    "\n",
    "### Example 1:\n",
    "\n",
    "Input: strs = [\"eat\",\"tea\",\"tan\",\"ate\",\"nat\",\"bat\"]\n",
    "\n",
    "Output: [[\"bat\"],[\"nat\",\"tan\"],[\"ate\",\"eat\",\"tea\"]]\n",
    "\n",
    "### Example 2:\n",
    "\n",
    "Input: strs = [\"\"]\n",
    "\n",
    "Output: [[\"\"]]\n",
    "\n",
    "### Example 3:\n",
    "\n",
    "Input: strs = [\"a\"]\n",
    "\n",
    "Output: [[\"a\"]]\n",
    " \n",
    "### Constraints:\n",
    "\n",
    "1 <= strs.length <= 104\n",
    "\n",
    "0 <= strs[i].length <= 100\n",
    "\n",
    "strs[i] consists of lowercase English letters."
   ]
  },
  {
   "cell_type": "markdown",
   "metadata": {},
   "source": [
    "# Hash map Tutorial\n",
    "https://www.youtube.com/watch?v=RcZsTI5h0kg"
   ]
  },
  {
   "cell_type": "code",
   "execution_count": 1,
   "metadata": {},
   "outputs": [
    {
     "name": "stdout",
     "output_type": "stream",
     "text": [
      "{'Canada': ['Calgary', 'Vancouver', 'Toronto']}\n"
     ]
    }
   ],
   "source": [
    "# Tutorial Example\n",
    "# Initializing \n",
    "city_map = {} # OR city_map = dict()\n",
    "# Add 1st key-value pair\n",
    "cities = [\"Calgary\", \"Vancouver\", \"Toronto\"]\n",
    "# Try to assign these cities to the key of Canada\n",
    "# Initial the key -- Canada\n",
    "city_map[\"Canada\"] = []\n",
    "# Add cities to this empty array \n",
    "city_map[\"Canada\"] += cities\n",
    "\n",
    "print(city_map)"
   ]
  },
  {
   "cell_type": "code",
   "execution_count": 2,
   "metadata": {},
   "outputs": [
    {
     "name": "stdout",
     "output_type": "stream",
     "text": [
      "defaultdict(<class 'list'>, {'Canada': ['Calgary', 'Vancouver', 'Toronto'], 'USA': ['New York City', 'Austin', 'Seattle'], 'England': ['London', 'Manchester']})\n",
      "cities are dict_values([['Calgary', 'Vancouver', 'Toronto'], ['New York City', 'Austin', 'Seattle'], ['London', 'Manchester']])\n"
     ]
    }
   ],
   "source": [
    "# To avoid initialized empty key to your array every single time\n",
    "from collections import defaultdict\n",
    "city_map = defaultdict(list)\n",
    "\n",
    "cities = [\"Calgary\", \"Vancouver\", \"Toronto\"]\n",
    "cities2 = [\"New York City\", \"Austin\", \"Seattle\"]\n",
    "cities3 = [\"London\", \"Manchester\"]\n",
    "city_map[\"Canada\"] += cities\n",
    "city_map[\"USA\"] += cities2\n",
    "city_map[\"England\"] += cities3\n",
    " \n",
    "print(city_map)\n",
    "\n",
    "# Retrieving Data\n",
    "# hashmap.keys() --> All keys from directionary in the form of a list\n",
    "# hashmap.values() --> All values\n",
    "# hashmap.items() --> A list of keys and values tupes \n",
    "city_list = city_map.values()\n",
    "print(f\"cities are {city_list}\")"
   ]
  },
  {
   "cell_type": "markdown",
   "metadata": {},
   "source": [
    "# Analysis \n",
    "\n",
    "Given an array of strings\n",
    "\n",
    "goal is to return an array that groups all anagram together.\n",
    "\n",
    "An anagram is a group or a pair of words where all of the words have the same amount of letters.\n",
    "\n",
    "E.g., [\"nat\", \"tan\"] --> Both have 1 \"a\", 1 \"t\", 1 \"n\"\n",
    "\n",
    "**We want to go through each word in the strings & check if it's combination of letters is already a key in the hash map**\n",
    "\n",
    "**So we would get to \"eat\" and check is the combination of 1A, 1E, 1T is a key in the hash map. --> If it is, add this word \"eat\" to the array associated with that key**\n",
    "\n",
    "**Then check \"tea\" --> Is 1e, 1a, 1t already in there? --> Yes, it is.**\n",
    "\n",
    "After build up the entire hash map, go through the *value* of the hash map and append it to output result list.\n"
   ]
  },
  {
   "cell_type": "markdown",
   "metadata": {},
   "source": [
    "Since the output needs to group the anagrams, it is suitable to use dict to store the different anagrams.\n",
    "\n",
    "Thus, we need to **find a common key for those anagrams.**\n",
    "\n",
    "And one of the best choices is **the sorted string as all the anagrams have the same anagrams.**"
   ]
  },
  {
   "cell_type": "code",
   "execution_count": 3,
   "metadata": {},
   "outputs": [],
   "source": [
    "from collections import defaultdict\n",
    "class Solution:\n",
    "    def groupAnagrams(strs: list[str]) -> list[list[str]]:\n",
    "        # Initialize hash map\n",
    "        anagram_map = defaultdict(list) # Initialize the key as an empty list\n",
    "        # As request, output in a list\n",
    "        result = []\n",
    "        \n",
    "        # Go through each of the word and see if it is in anagram\n",
    "        # & for which anagram it is, we need to add that to the anagram\n",
    "        for s in strs: # for each string\n",
    "            # Check if the word match a key in anagram\n",
    "            # Sort the string in alphabet increasing order --> Sorting the Letters:\n",
    "            # If we sort words in alphabetical order, \n",
    "            # all of the anagrams will end up being the same combination of letters\n",
    "            # E.g., [\"ate\", \"eat\", \"tea\"] --resorted--> [\"aet\"] --> this would be the key in anagram map\n",
    "            \n",
    "            # lists are mutable & mutable cannot be key --> use tuple (unmutable data type)\n",
    "            # This line sorts the letters of the string s alphabetically \n",
    "            # and converts the result into a tuple. \n",
    "            # For example, if s is \"eat,\" then sorted_s becomes the tuple ('a', 'e', 't').\n",
    "            sorted_s = tuple(sorted(s))\n",
    "            \n",
    "            # Using Sorted Tuple as Key:\n",
    "            # Here, the sorted tuple sorted_s is used as the key in the anagram_map dictionary. \n",
    "            # The values corresponding to these keys are lists, and the original string s is appended to the list associated with the key sorted_s.\n",
    "            # When you sort the letters of the words and use the sorted tuple as a key, you are essentially grouping anagrams together. \n",
    "            # Anagrams will have the same sorted representation, and they will be appended to the same list in the dictionary, making it easy to retrieve all anagrams later.\n",
    "            # if you have words like \"ate,\" \"eat,\" and \"tea,\" they will all be sorted to the tuple ('a', 'e', 't'), and they will be appended to the list associated with this key in the anagram_map.\n",
    "            # Then add the original unsorted word to that key\n",
    "            anagram_map[sorted_s].append(s)\n",
    "            \n",
    "        print(anagram_map)\n",
    "\n",
    "        # Add result\n",
    "        for value in anagram_map.values():\n",
    "            result.append(value)\n",
    "        \n",
    "        return result"
   ]
  },
  {
   "cell_type": "code",
   "execution_count": 4,
   "metadata": {},
   "outputs": [
    {
     "name": "stdout",
     "output_type": "stream",
     "text": [
      "defaultdict(<class 'list'>, {('a', 'e', 't'): ['eat', 'tea', 'ate'], ('a', 'n', 't'): ['tan', 'nat'], ('a', 'b', 't'): ['bat']})\n"
     ]
    },
    {
     "data": {
      "text/plain": [
       "[['eat', 'tea', 'ate'], ['tan', 'nat'], ['bat']]"
      ]
     },
     "execution_count": 4,
     "metadata": {},
     "output_type": "execute_result"
    }
   ],
   "source": [
    "strs = [\"eat\",\"tea\",\"tan\",\"ate\",\"nat\",\"bat\"]\n",
    "Solution.groupAnagrams(strs)"
   ]
  },
  {
   "cell_type": "code",
   "execution_count": 5,
   "metadata": {},
   "outputs": [],
   "source": [
    "class Solution1:\n",
    "    def groupAnagrams(strs: list[str]) -> list[list[str]]:\n",
    "        strs_table = {}\n",
    "\n",
    "        for string in strs:\n",
    "            sorted_string = ''.join(sorted(string))\n",
    "\n",
    "            if sorted_string not in strs_table:\n",
    "                strs_table[sorted_string] = []\n",
    "\n",
    "            strs_table[sorted_string].append(string)\n",
    "\n",
    "        return list(strs_table.values())"
   ]
  },
  {
   "cell_type": "code",
   "execution_count": 6,
   "metadata": {},
   "outputs": [
    {
     "data": {
      "text/plain": [
       "[['eat', 'tea', 'ate'], ['tan', 'nat'], ['bat']]"
      ]
     },
     "execution_count": 6,
     "metadata": {},
     "output_type": "execute_result"
    }
   ],
   "source": [
    "strs = [\"eat\",\"tea\",\"tan\",\"ate\",\"nat\",\"bat\"]\n",
    "Solution1.groupAnagrams(strs)"
   ]
  }
 ],
 "metadata": {
  "kernelspec": {
   "display_name": "Python 3",
   "language": "python",
   "name": "python3"
  },
  "language_info": {
   "codemirror_mode": {
    "name": "ipython",
    "version": 3
   },
   "file_extension": ".py",
   "mimetype": "text/x-python",
   "name": "python",
   "nbconvert_exporter": "python",
   "pygments_lexer": "ipython3",
   "version": "3.9.13"
  }
 },
 "nbformat": 4,
 "nbformat_minor": 2
}
