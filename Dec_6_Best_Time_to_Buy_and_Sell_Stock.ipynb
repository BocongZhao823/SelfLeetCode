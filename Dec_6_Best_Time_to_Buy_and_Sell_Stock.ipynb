{
 "cells": [
  {
   "cell_type": "markdown",
   "metadata": {},
   "source": [
    "# 121. Best Time to Buy and Sell Stock"
   ]
  },
  {
   "cell_type": "markdown",
   "metadata": {},
   "source": [
    "You are given an array prices where prices[i] is the price of a given stock on the ith day.\n",
    "\n",
    "You want to maximize your profit by choosing a single day to buy one stock and choosing a different day in the future to sell that stock.\n",
    "\n",
    "Return the maximum profit you can achieve from this transaction. If you cannot achieve any profit, return 0.\n",
    "\n",
    "### Example 1:\n",
    "\n",
    "Input: prices = [7,1,5,3,6,4]\n",
    "\n",
    "Output: 5\n",
    "\n",
    "Explanation: Buy on day 2 (price = 1) and sell on day 5 (price = 6), profit = 6-1 = 5.\n",
    "\n",
    "Note that buying on day 2 and selling on day 1 is not allowed because you must buy before you sell.\n",
    "\n",
    "### Example 2:\n",
    "\n",
    "Input: prices = [7,6,4,3,1]\n",
    "\n",
    "Output: 0\n",
    "\n",
    "Explanation: In this case, no transactions are done and the max profit = 0.\n",
    " \n",
    "\n",
    "### Constraints:\n",
    "\n",
    "1 <= prices.length <= 105\n",
    "\n",
    "0 <= prices[i] <= 104"
   ]
  },
  {
   "cell_type": "markdown",
   "metadata": {},
   "source": [
    "### This Solution think too less (154 / 212 testcases passed). Only care about buy at the lowest price, but forget to calculate the potential profit if buy and sell at earlier days."
   ]
  },
  {
   "cell_type": "code",
   "execution_count": 1,
   "metadata": {},
   "outputs": [],
   "source": [
    "class Solution:\n",
    "    def maxProfit(prices: list[int]) -> int:\n",
    "        # Find the min stock price\n",
    "        # Find on which day I get such lowest stock price\n",
    "        n = len(prices)\n",
    "        min = 1000000\n",
    "        dayIndex = 0\n",
    "        for i in range(n):\n",
    "            if prices[i] < min:\n",
    "                min = prices[i]\n",
    "                dayIndex = i    \n",
    "        print(\"buy day \",dayIndex)\n",
    "        print(\"buy price \",min)\n",
    "\n",
    "        # Only care about the prices after I bought the stock\n",
    "        # i.e., the day after I bought the stock\n",
    "        # i.e., if I bought stock on day 1, then sell stock on day 2 --> as request by question \n",
    "        # Since I cannot sell the price in a previous day\n",
    "        newPriceList = prices[dayIndex + 1 :]\n",
    "        print(\"rest days' price \", newPriceList)\n",
    "        \n",
    "\n",
    "        # Find the highest price in these future days\n",
    "        m = len(newPriceList)\n",
    "        max = 0\n",
    "        newDayIndex = 0\n",
    "        for t in range(m):\n",
    "            if newPriceList[t] > max:\n",
    "                max = newPriceList[t]\n",
    "                newDayIndex = t\n",
    "        # sellDay = dayIndex + newDayIndex + 2 # as both index count from 0, so add 2 back\n",
    "\n",
    "        # Find if sell at that future day can make any profit or not \n",
    "        profit = max - min \n",
    "        if profit > 0:\n",
    "            return profit\n",
    "        else:\n",
    "            return 0 "
   ]
  },
  {
   "cell_type": "code",
   "execution_count": 2,
   "metadata": {},
   "outputs": [
    {
     "name": "stdout",
     "output_type": "stream",
     "text": [
      "buy day  2\n",
      "buy price  1\n",
      "rest days' price  []\n"
     ]
    },
    {
     "data": {
      "text/plain": [
       "0"
      ]
     },
     "execution_count": 2,
     "metadata": {},
     "output_type": "execute_result"
    }
   ],
   "source": [
    "prices = [2,4,1]\n",
    "# output = 2\n",
    "Solution.maxProfit(prices)"
   ]
  },
  {
   "cell_type": "code",
   "execution_count": 3,
   "metadata": {},
   "outputs": [
    {
     "name": "stdout",
     "output_type": "stream",
     "text": [
      "buy day  1\n",
      "buy price  1\n",
      "rest days' price  [5, 3, 6, 4]\n"
     ]
    },
    {
     "data": {
      "text/plain": [
       "5"
      ]
     },
     "execution_count": 3,
     "metadata": {},
     "output_type": "execute_result"
    }
   ],
   "source": [
    "prices = [7,1,5,3,6,4]\n",
    "# output = 5\n",
    "Solution.maxProfit(prices)"
   ]
  },
  {
   "cell_type": "markdown",
   "metadata": {},
   "source": [
    "### This Solution 1 is driven by profit, it can kind of solve the task, however Memory Limit Exceeded (198 / 212 testcases passed). Maybe when the following prices are 0, skip the calculate can save the memory."
   ]
  },
  {
   "cell_type": "code",
   "execution_count": 4,
   "metadata": {},
   "outputs": [],
   "source": [
    "class Solution1:\n",
    "    def maxProfit(prices: list[int]) -> int:\n",
    "\n",
    "        # Try led by profit\n",
    "        # If buy at day 1 --> sell at day 2 OR sell at day 3 etc\n",
    "        # If buy at day 2 --> sell at day 3 OR sell at day 4 etc..\n",
    "        n = len(prices)\n",
    "        profit = -1 \n",
    "        # Save the profit if buy at day x and sell at day x+1/x+2/x+3/...\n",
    "        # then if buy at day x+1 and sell at day x+2/x+3/...\n",
    "        profitList = []\n",
    "        for i in range(n):\n",
    "            # Not buy at the last day, as we cannot sell the stock at this stage, profit will be 0\n",
    "            if i == n:\n",
    "                return 0 \n",
    "            else:\n",
    "                # Buy at day index i, then only care about days after i \n",
    "                newPriceList = prices[i + 1 :]\n",
    "                m = len(newPriceList)\n",
    "                #print(\"Rest days' price \", newPriceList)\n",
    "                profitEach = []\n",
    "                for t in range(m):\n",
    "                    profit = newPriceList[t] - prices[i]\n",
    "                    #print(f\"Buy on {i} at ${prices[i]}, Sell on {t} at ${newPriceList[t]}, profit ${profit}\")\n",
    "                    profitEach.append(profit)\n",
    "                    #print(f\"The profit list for buying at day index {t} is {profitEach}\")\n",
    "        \n",
    "            profitList.append(profitEach)\n",
    "        \n",
    "        #print(\"Entire profit list \",profitList)\n",
    "        \n",
    "        # Find buy on which day can get the highest profit\n",
    "        maxPEachDay = []\n",
    "        #maxSellDay = []\n",
    "        for list in profitList:\n",
    "            #print(f\"Profit is {list}\")\n",
    "            n = len(list)\n",
    "            max = -9999999\n",
    "            #sellDayIndex = -1\n",
    "            for i in range(n):\n",
    "                if list[i] > max:\n",
    "                    max = list[i]\n",
    "                    #sellDayIndex = i\n",
    "            \n",
    "            #print(f\"max is {max}\")\n",
    "            maxPEachDay.append(max) \n",
    "            #print(\"Sell day profit $\",maxPEachDay)\n",
    "\n",
    "        maxFinal = -999999999999999 \n",
    "        for k in range(len(maxPEachDay)):\n",
    "            if maxPEachDay[k] > maxFinal:\n",
    "                maxFinal = maxPEachDay[k]\n",
    "        \n",
    "        if maxFinal > 0:\n",
    "            return maxFinal        \n",
    "        else:\n",
    "            return 0 "
   ]
  },
  {
   "cell_type": "code",
   "execution_count": 5,
   "metadata": {},
   "outputs": [
    {
     "data": {
      "text/plain": [
       "0"
      ]
     },
     "execution_count": 5,
     "metadata": {},
     "output_type": "execute_result"
    }
   ],
   "source": [
    "prices = [7,6,4,3,1]\n",
    "# output = 0\n",
    "Solution1.maxProfit(prices)"
   ]
  },
  {
   "cell_type": "code",
   "execution_count": 6,
   "metadata": {},
   "outputs": [
    {
     "data": {
      "text/plain": [
       "5"
      ]
     },
     "execution_count": 6,
     "metadata": {},
     "output_type": "execute_result"
    }
   ],
   "source": [
    "prices = [7,1,5,3,6,4]\n",
    "# output = 5\n",
    "Solution1.maxProfit(prices)"
   ]
  },
  {
   "cell_type": "code",
   "execution_count": 7,
   "metadata": {},
   "outputs": [
    {
     "data": {
      "text/plain": [
       "2"
      ]
     },
     "execution_count": 7,
     "metadata": {},
     "output_type": "execute_result"
    }
   ],
   "source": [
    "prices = [2,4,1]\n",
    "# output = 2\n",
    "Solution1.maxProfit(prices)"
   ]
  },
  {
   "cell_type": "markdown",
   "metadata": {},
   "source": [
    "### Solution 2 is a bit better. As if 3 zero price following up, then stop look at stock price and assume profit is 0. However, Memory Limit Exceeded 199 / 212 testcases passed. This is because if there is a huge price list and all of them are none-zeros"
   ]
  },
  {
   "cell_type": "code",
   "execution_count": 55,
   "metadata": {},
   "outputs": [],
   "source": [
    "class Solution2:\n",
    "    def maxProfit(prices: list[int]) -> int:\n",
    "        # Try led by profit\n",
    "        # If buy at day 1 --> sell at day 2 OR sell at day 3 etc\n",
    "        # If buy at day 2 --> sell at day 3 OR sell at day 4 etc..\n",
    "        n = len(prices)\n",
    "        profit = -1 \n",
    "        # Save the profit if buy at day x and sell at day x+1/x+2/x+3/...\n",
    "        # then if buy at day x+1 and sell at day x+2/x+3/...\n",
    "        profitList = []\n",
    "        indexList = []\n",
    "        # If 3 zero price following up, then stop look at stock price and assume profit is 0\n",
    "        for j in range(n):\n",
    "            if j < n - 3:\n",
    "                if prices[j] == prices [j + 1] == prices [j + 2] == prices [j + 3] == 0:\n",
    "                    indexList.append(j) \n",
    "        \n",
    "        if len(indexList)!=0:\n",
    "            index = min(indexList)\n",
    "            prices = prices[:index]\n",
    "        \n",
    "        newN = len(prices)\n",
    "        for i in range(newN):\n",
    "            # Not buy at the last day, as we cannot sell the stock at this stage, profit will be 0\n",
    "            if i == n:\n",
    "                return 0 \n",
    "            else:\n",
    "                # Buy at day index i, then only care about days after i \n",
    "                newPriceList = prices[i + 1 :]\n",
    "                m = len(newPriceList)\n",
    "                # print(\"Rest days' price \", newPriceList)\n",
    "                profitEach = []\n",
    "                for t in range(m):\n",
    "                    if newPriceList[t] > prices[i]:\n",
    "                        profit = newPriceList[t] - prices[i]\n",
    "                        # print(f\"Buy on {i} at ${prices[i]}, Sell on {t} at ${newPriceList[t]}, profit ${profit}\")\n",
    "                        # Only care about profit if it is greater than 0    \n",
    "                        profitEach.append(profit)\n",
    "                        # print(f\"The profit list for buying at day index {t} is {profitEach}\")\n",
    "        \n",
    "            profitList.append(profitEach)\n",
    "        \n",
    "        # print(\"Entire profit list \",profitList)\n",
    "        \n",
    "        # Find buy on which day can get the highest profit\n",
    "        maxPEachDay = []\n",
    "        #maxSellDay = []\n",
    "        for list in profitList:\n",
    "            #print(f\"Profit is {list}\")\n",
    "            n = len(list)\n",
    "            max = -9999999\n",
    "            #sellDayIndex = -1\n",
    "            for i in range(n):\n",
    "                if list[i] > max:\n",
    "                    max = list[i]\n",
    "                    #sellDayIndex = i\n",
    "            \n",
    "            #print(f\"max is {max}\")\n",
    "            maxPEachDay.append(max) \n",
    "            #print(\"Sell day profit $\",maxPEachDay)\n",
    "\n",
    "        maxFinal = -999999999999999 \n",
    "        for k in range(len(maxPEachDay)):\n",
    "            if maxPEachDay[k] > maxFinal:\n",
    "                maxFinal = maxPEachDay[k]\n",
    "        \n",
    "        if maxFinal > 0:\n",
    "            return maxFinal        \n",
    "        else:\n",
    "            return 0 "
   ]
  },
  {
   "cell_type": "code",
   "execution_count": 51,
   "metadata": {},
   "outputs": [
    {
     "data": {
      "text/plain": [
       "0"
      ]
     },
     "execution_count": 51,
     "metadata": {},
     "output_type": "execute_result"
    }
   ],
   "source": [
    "prices = [7,6,4,3,1]\n",
    "# output = 0\n",
    "Solution2.maxProfit(prices)"
   ]
  },
  {
   "cell_type": "code",
   "execution_count": 52,
   "metadata": {},
   "outputs": [
    {
     "data": {
      "text/plain": [
       "2"
      ]
     },
     "execution_count": 52,
     "metadata": {},
     "output_type": "execute_result"
    }
   ],
   "source": [
    "prices = [2,4,1]\n",
    "# output = 2\n",
    "Solution2.maxProfit(prices)"
   ]
  },
  {
   "cell_type": "code",
   "execution_count": 53,
   "metadata": {},
   "outputs": [
    {
     "data": {
      "text/plain": [
       "5"
      ]
     },
     "execution_count": 53,
     "metadata": {},
     "output_type": "execute_result"
    }
   ],
   "source": [
    "prices = [7,1,5,3,6,4]\n",
    "# output = 5\n",
    "Solution2.maxProfit(prices)"
   ]
  },
  {
   "cell_type": "markdown",
   "metadata": {},
   "source": [
    "### Solution 3: As we only care about the profit, maybe we could sort the list after the day I bought the stock. Thus, I only need to calculate the profit for 1st element in rest list. As that will bring the maximum profit. --> BUT STILL Time Limit Exceeded 199 / 212 testcases passed\n",
    "\n",
    "For example: [2,45,1,0,55]\n",
    "\n",
    "Buy at day 1, then list [55,45,1,0]\n",
    "\n",
    "Buy at day 2, then list [55,1,0]\n",
    "\n",
    "Buy at day 3, then list [55,0]"
   ]
  },
  {
   "cell_type": "code",
   "execution_count": 78,
   "metadata": {},
   "outputs": [],
   "source": [
    "class Solution3:\n",
    "    def maxProfit(prices: list[int]) -> int:\n",
    "        n = len(prices)\n",
    "        profitList = []\n",
    "        sellPrice = 0\n",
    "        profit = 0\n",
    "        for i in range(n):\n",
    "            # Not buy at the last day, as we cannot sell the stock at this stage, profit will be 0\n",
    "            if i == n:\n",
    "                return 0 \n",
    "            else:\n",
    "                # Buy at day index i, then only care about days after i \n",
    "                newPriceList = prices[i + 1 :]\n",
    "                # Sort this new price list from the minimum price to the maximum price [7,1,5,3,6,4] --> become [1, 3, 4, 5, 6, 7]\n",
    "                sortNewPrice = sorted(newPriceList)\n",
    "                # Get the maximum sell price \n",
    "                if len(sortNewPrice) != 0:\n",
    "                    sellPrice = sortNewPrice[-1]\n",
    "                # profit \n",
    "                if sellPrice > 0:\n",
    "                    profit = sellPrice - prices[i]\n",
    "                if profit > 0:\n",
    "                    profitList.append(profit)\n",
    "        \n",
    "        if len(profitList) != 0:\n",
    "            maxProfit = sorted(profitList)[-1]\n",
    "            return(maxProfit)\n",
    "        else:\n",
    "            return 0"
   ]
  },
  {
   "cell_type": "code",
   "execution_count": 79,
   "metadata": {},
   "outputs": [
    {
     "data": {
      "text/plain": [
       "6"
      ]
     },
     "execution_count": 79,
     "metadata": {},
     "output_type": "execute_result"
    }
   ],
   "source": [
    "prices = [0,1,5,3,6,4]\n",
    "Solution3.maxProfit(prices)"
   ]
  },
  {
   "cell_type": "markdown",
   "metadata": {},
   "source": [
    "### O(n^2) solution "
   ]
  },
  {
   "cell_type": "code",
   "execution_count": 88,
   "metadata": {},
   "outputs": [],
   "source": [
    "class Solution4:\n",
    "    def maxProfit(prices: list[int]) -> int:\n",
    "       \n",
    "        n = len(prices)\n",
    "        sellPrice = 0\n",
    "        profit = 0\n",
    "        currentProfit = 0\n",
    "        for i in range(n):\n",
    "            # Not buy at the last day, as we cannot sell the stock at this stage, profit will be 0\n",
    "            if i == n:\n",
    "                return 0 \n",
    "            else:\n",
    "                # Buy at day index i, then only care about days after i \n",
    "                newPriceList = prices[i + 1 :]\n",
    "                # Sort this new price list from the minimum price to the maximum price [7,1,5,3,6,4] --> become [1, 3, 4, 5, 6, 7]\n",
    "                sortNewPrice = sorted(newPriceList)\n",
    "                \n",
    "                # Get the maximum sell price \n",
    "                if len(sortNewPrice) != 0:\n",
    "                    sellPrice = sortNewPrice[-1]\n",
    "                # profit \n",
    "                if sellPrice > 0:\n",
    "                    currentProfit = sellPrice - prices[i]\n",
    "                if currentProfit > profit :\n",
    "                    profit = currentProfit\n",
    "        return profit"
   ]
  },
  {
   "cell_type": "code",
   "execution_count": 89,
   "metadata": {},
   "outputs": [
    {
     "data": {
      "text/plain": [
       "6"
      ]
     },
     "execution_count": 89,
     "metadata": {},
     "output_type": "execute_result"
    }
   ],
   "source": [
    "prices = [0,1,5,3,6,4]\n",
    "Solution4.maxProfit(prices)"
   ]
  },
  {
   "cell_type": "markdown",
   "metadata": {},
   "source": [
    "### O(n) solution\n",
    "### https://youtu.be/ioFPBdChabY?si=1sjrL5sFnCWNUfFK"
   ]
  },
  {
   "cell_type": "markdown",
   "metadata": {},
   "source": [
    "A brute force approach would calculate every possible buy-sell combination and would run in O(n^2), but we can reduce this to O(n) by avoiding unncessary computations. The strategy below iterates once for every sell date, and handles two cases:\n",
    "\n",
    "If buy price < sell price, calculate the profit and compare it to the max profit so far. If it is greater than the max profit, replace it. Also, there is no need to go back and calculate profits using this sell date as a buy date, since we can always achieve a higher profit from using the original buy date (which is at a lower price).\n",
    "If sell price <= buy date, simply update the buy date to be the current sell date, since we have found a lower price to buy from.\n",
    "At the end, return profit, which will contain the maximum profit achievable."
   ]
  },
  {
   "cell_type": "code",
   "execution_count": 90,
   "metadata": {},
   "outputs": [],
   "source": [
    "class SolutionFinal(object):\n",
    "    def maxProfit(prices):\n",
    "        profit = 0\n",
    "        buy = prices[0]\n",
    "        for sell in prices[1:]:\n",
    "            if sell > buy:\n",
    "                profit = max(profit, sell - buy)\n",
    "            else:\n",
    "                buy = sell\n",
    "        \n",
    "        return profit"
   ]
  },
  {
   "cell_type": "code",
   "execution_count": 91,
   "metadata": {},
   "outputs": [
    {
     "data": {
      "text/plain": [
       "6"
      ]
     },
     "execution_count": 91,
     "metadata": {},
     "output_type": "execute_result"
    }
   ],
   "source": [
    "prices = [0,1,5,3,6,4]\n",
    "SolutionFinal.maxProfit(prices)"
   ]
  }
 ],
 "metadata": {
  "kernelspec": {
   "display_name": "Python 3",
   "language": "python",
   "name": "python3"
  },
  "language_info": {
   "codemirror_mode": {
    "name": "ipython",
    "version": 3
   },
   "file_extension": ".py",
   "mimetype": "text/x-python",
   "name": "python",
   "nbconvert_exporter": "python",
   "pygments_lexer": "ipython3",
   "version": "3.9.13"
  }
 },
 "nbformat": 4,
 "nbformat_minor": 2
}
