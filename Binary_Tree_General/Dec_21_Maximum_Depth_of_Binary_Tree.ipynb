{
 "cells": [
  {
   "cell_type": "markdown",
   "metadata": {},
   "source": [
    "# 104. Maximum Depth of Binary Tree\n",
    "\n",
    "Given the root of a binary tree, return its maximum depth.\n",
    "\n",
    "A binary tree's maximum depth is the number of nodes along the longest path from the root node down to the farthest leaf node.\n",
    "\n",
    "### Example 1:\n",
    "```\n",
    "    3\n",
    "   /  \\\n",
    "  9    20\n",
    "       / \\\n",
    "      15  7\n",
    "```\n",
    "\n",
    "Input: root = [3,9,20,null,null,15,7]\n",
    "\n",
    "Output: 3\n",
    "\n",
    "### Example 2:\n",
    "```\n",
    "    1\n",
    "     \\\n",
    "      2\n",
    "```\n",
    "\n",
    "Input: root = [1,null,2]\n",
    "\n",
    "Output: 2\n",
    " \n",
    "\n",
    "### Constraints:\n",
    "\n",
    "The number of nodes in the tree is in the range [0, 104].\n",
    "\n",
    "-100 <= Node.val <= 100"
   ]
  },
  {
   "cell_type": "markdown",
   "metadata": {},
   "source": [
    "## This is NOT a correct answer & Haven't solve yet"
   ]
  },
  {
   "cell_type": "code",
   "execution_count": 28,
   "metadata": {},
   "outputs": [],
   "source": [
    "from typing import Optional, List\n",
    "\n",
    "# Definition for a binary tree node.\n",
    "class TreeNode:\n",
    "    def __init__(self, val=0, left=None, right=None):\n",
    "        self.val = val\n",
    "        self.left = left\n",
    "        self.right = right\n",
    "\n",
    "class Solution:\n",
    "    def maxDepth(self, root: Optional[TreeNode]) -> int:\n",
    "        result = []\n",
    "        deepResult = Solution.inorderRecursive(root, result)\n",
    "        return deepResult\n",
    "\n",
    "    @staticmethod\n",
    "    def inorderRecursive(node, result):\n",
    "        deep = 0\n",
    "        if node:\n",
    "            deep += 1  # Increment the depth when a node is visited\n",
    "            result.append(node.val)  # Append the value of the node\n",
    "            deep += Solution.inorderRecursive(node.left, result)  # Increment depth for the left subtree\n",
    "            deep += Solution.inorderRecursive(node.right, result)  # Increment depth for the right subtree\n",
    "        return deep\n"
   ]
  },
  {
   "cell_type": "code",
   "execution_count": 29,
   "metadata": {},
   "outputs": [
    {
     "data": {
      "text/plain": [
       "2"
      ]
     },
     "execution_count": 29,
     "metadata": {},
     "output_type": "execute_result"
    }
   ],
   "source": [
    "# Create the root  [1,null,2]\n",
    "root = TreeNode(1)\n",
    "root.right = TreeNode(2)\n",
    "mySol = Solution()\n",
    "mySol.maxDepth(root)"
   ]
  }
 ],
 "metadata": {
  "kernelspec": {
   "display_name": "Python 3",
   "language": "python",
   "name": "python3"
  },
  "language_info": {
   "codemirror_mode": {
    "name": "ipython",
    "version": 3
   },
   "file_extension": ".py",
   "mimetype": "text/x-python",
   "name": "python",
   "nbconvert_exporter": "python",
   "pygments_lexer": "ipython3",
   "version": "3.9.13"
  }
 },
 "nbformat": 4,
 "nbformat_minor": 2
}
