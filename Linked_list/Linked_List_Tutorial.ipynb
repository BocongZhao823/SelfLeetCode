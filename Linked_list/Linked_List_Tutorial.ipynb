{
 "cells": [
  {
   "cell_type": "markdown",
   "metadata": {},
   "source": [
    "# Linked List Tutorial\n",
    "\n",
    "- traversal operation\n",
    "- adding\n",
    "- deleting "
   ]
  },
  {
   "cell_type": "markdown",
   "metadata": {},
   "source": [
    "## Traversal Operation\n",
    "https://youtu.be/xRTdfZsAz6Y?si=AuFCW9IAgzmythnA\n",
    "\n",
    "1. Start with the head of the linked list,\n",
    "   Access the data if head is not NULL\n",
    "2. Goto Next Node Access Node data\n",
    "3. Continue until last node"
   ]
  },
  {
   "cell_type": "markdown",
   "metadata": {},
   "source": [
    "## Inserting/Adding Elements At The Beginning Of The Linked List\n",
    "\n",
    "https://youtu.be/B-zO18TJKYQ?si=UZRiLvkCi4t8t0A9"
   ]
  },
  {
   "cell_type": "markdown",
   "metadata": {},
   "source": [
    "## Inserting/Adding Elements At The End Of The Linked List\n",
    "\n",
    "https://youtu.be/o8tWJCFWEPU?si=X4nfrgQlzs-2aRSW"
   ]
  },
  {
   "cell_type": "code",
   "execution_count": 10,
   "metadata": {},
   "outputs": [],
   "source": [
    "# Create Node\n",
    "class Node:\n",
    "    def __init__(self, data):\n",
    "        self.data = data\n",
    "        self.ref = None\n",
    "\n",
    "# Create linked list (to link those nodes)\n",
    "class linkedList:\n",
    "    def __init__(self):\n",
    "        self.head = None # Create an empty linked list\n",
    "\n",
    "    # If Linked list is empty \n",
    "    ## --> If head is None, means linked list is empty \n",
    "    def print_LL(self):\n",
    "        if self.head is None:\n",
    "            print(\"Linked list is empty!\")\n",
    "        # If Linked List is not empty\n",
    "        else:\n",
    "            n = self.head\n",
    "            while n is not None:\n",
    "                print(n.data, \"--->\", end = \" \")\n",
    "                n = n.ref\n",
    "    \n",
    "    # Add element at the Begining \n",
    "    def add_begin(self,data):\n",
    "        # create node\n",
    "        new_node = Node(data)\n",
    "        new_node.ref = self.head\n",
    "        self.head = new_node\n",
    "    \n",
    "    # Add element at the end\n",
    "    def add_end(self,data):\n",
    "        # create node\n",
    "        new_node = Node(data)\n",
    "        # Check if linked list is empty or not\n",
    "        if self.head is None:\n",
    "            self.head = new_node\n",
    "        else:\n",
    "            # Go to the last node\n",
    "            n = self.head\n",
    "            while n.ref is not None:\n",
    "                n = n.ref\n",
    "            # Change the reference of the last node to this newly added node\n",
    "            n.ref = new_node"
   ]
  },
  {
   "cell_type": "code",
   "execution_count": 11,
   "metadata": {},
   "outputs": [
    {
     "name": "stdout",
     "output_type": "stream",
     "text": [
      "<__main__.Node object at 0x000002DB36EB15E0>\n"
     ]
    }
   ],
   "source": [
    "node1 = Node(10)\n",
    "print(node1)"
   ]
  },
  {
   "cell_type": "code",
   "execution_count": 16,
   "metadata": {},
   "outputs": [
    {
     "name": "stdout",
     "output_type": "stream",
     "text": [
      "Linked list is empty!\n"
     ]
    }
   ],
   "source": [
    "LL1 = linkedList()\n",
    "LL1.print_LL()"
   ]
  },
  {
   "cell_type": "code",
   "execution_count": 14,
   "metadata": {},
   "outputs": [
    {
     "name": "stdout",
     "output_type": "stream",
     "text": [
      "20 ---> 10 ---> 100 ---> 500 ---> "
     ]
    }
   ],
   "source": [
    "LL1 = linkedList()\n",
    "LL1.add_begin(10)\n",
    "LL1.add_end(100)\n",
    "LL1.add_end(500)\n",
    "LL1.add_begin(20)\n",
    "LL1.print_LL()"
   ]
  },
  {
   "cell_type": "markdown",
   "metadata": {},
   "source": [
    "Explain line by line:\n",
    "\n",
    "```python\n",
    "# Create Node\n",
    "class Node:\n",
    "    def __init__(self, data):\n",
    "        self.data = data\n",
    "        self.ref = None\n",
    "```\n",
    "This defines a class `Node` representing a node in a linked list. Each node has a `data` attribute to store the data and a `ref` attribute to reference the next node in the linked list.\n",
    "\n",
    "```python\n",
    "# Create linked list (to link those nodes)\n",
    "class linkedList:\n",
    "    def __init__(self):\n",
    "        self.head = None  # Create an empty linked list\n",
    "```\n",
    "This defines a class `linkedList` representing the linked list itself. It has an attribute `head`, which initially is set to `None` to indicate an empty linked list.\n",
    "\n",
    "```python\n",
    "# If Linked list is empty\n",
    "## --> If head is None, means linked list is empty\n",
    "def print_LL(self):\n",
    "    if self.head is None:\n",
    "        print(\"Linked list is empty!\")\n",
    "    # If Linked List is not empty\n",
    "    else:\n",
    "        n = self.head\n",
    "        while n is not None:\n",
    "            print(n.data)\n",
    "            n = n.ref\n",
    "```\n",
    "This method `print_LL` is used to print the elements of the linked list. It checks if the linked list is empty by verifying if `self.head` is `None`. If it's empty, it prints a message indicating that the linked list is empty. If the linked list is not empty, it iterates through the linked list using a while loop, printing the data of each node (`n.data`) and updating the current node `n` to the next node in the linked list (`n.ref`). The loop continues until it reaches the end of the linked list."
   ]
  }
 ],
 "metadata": {
  "kernelspec": {
   "display_name": "Python 3",
   "language": "python",
   "name": "python3"
  },
  "language_info": {
   "codemirror_mode": {
    "name": "ipython",
    "version": 3
   },
   "file_extension": ".py",
   "mimetype": "text/x-python",
   "name": "python",
   "nbconvert_exporter": "python",
   "pygments_lexer": "ipython3",
   "version": "3.9.13"
  }
 },
 "nbformat": 4,
 "nbformat_minor": 2
}
