{
 "cells": [
  {
   "cell_type": "markdown",
   "metadata": {},
   "source": [
    "# 141. Linked List Cycle\n",
    "\n",
    "Given head, the head of a linked list, determine if the linked list has a cycle in it.\n",
    "\n",
    "There is a cycle in a linked list if there is some node in the list that can be reached again by continuously following the next pointer. Internally, pos is used to denote the index of the node that tail's next pointer is connected to. Note that pos is not passed as a parameter.\n",
    "\n",
    "Return true if there is a cycle in the linked list. Otherwise, return false.\n",
    "\n",
    "### Examples:\n",
    "\n",
    "#### Example 1:\n",
    "\n",
    "```plaintext\n",
    "Input: head = [3,2,0,-4], pos = 1\n",
    "Output: true\n",
    "Explanation: There is a cycle in the linked list, where the tail connects to the 1st node (0-indexed).\n",
    "```\n",
    "\n",
    "#### Example 2:\n",
    "\n",
    "```plaintext\n",
    "Input: head = [1,2], pos = 0\n",
    "Output: true\n",
    "Explanation: There is a cycle in the linked list, where the tail connects to the 0th node.\n",
    "```\n",
    "\n",
    "#### Example 3:\n",
    "\n",
    "```plaintext\n",
    "Input: head = [1], pos = -1\n",
    "Output: false\n",
    "Explanation: There is no cycle in the linked list.\n",
    "```\n",
    "\n",
    "### Constraints:\n",
    "\n",
    "- The number of nodes in the list is in the range [0, 10^4].\n",
    "- Node values are in the range [-10^5, 10^5].\n",
    "- `pos` is -1 or a valid index in the linked-list."
   ]
  },
  {
   "cell_type": "markdown",
   "metadata": {},
   "source": [
    "### Analysis:\n",
    "\n",
    "1. **Understanding the Problem:**\n",
    "   - Determine if a linked list has a cycle.\n",
    "   - The cycle can be detected by checking if any node is visited more than once while traversing the list.\n",
    "\n",
    "2. **Approach:**\n",
    "   - Use two pointers, a slow pointer that moves one step at a time and a fast pointer that moves two steps at a time.\n",
    "   - If there is a cycle, the fast pointer will eventually catch up with the slow pointer.\n",
    "\n",
    "3. **Input Handling:**\n",
    "   - Consider the constraints and handle edge cases, such as an empty list or a list with only one node.\n",
    "\n",
    "4. **Memory Constraint:**\n",
    "   - The follow-up question asks if you can solve it using O(1) (constant) memory. This suggests that you should avoid using additional data structures like a set."
   ]
  },
  {
   "cell_type": "code",
   "execution_count": 2,
   "metadata": {},
   "outputs": [],
   "source": [
    "from typing import Optional"
   ]
  },
  {
   "cell_type": "code",
   "execution_count": 4,
   "metadata": {},
   "outputs": [],
   "source": [
    "# Definition for singly-linked list.\n",
    "class ListNode:\n",
    "     def __init__(self, x):\n",
    "         self.val = x\n",
    "         self.next = None\n",
    "\n",
    "class Solution:\n",
    "    def hasCycle(self, head: Optional[ListNode]) -> bool:\n",
    "        pass"
   ]
  },
  {
   "cell_type": "code",
   "execution_count": 5,
   "metadata": {},
   "outputs": [],
   "source": [
    "head = [1,2]\n",
    "mySol = Solution()\n",
    "mySol.hasCycle(head)"
   ]
  },
  {
   "cell_type": "markdown",
   "metadata": {},
   "source": [
    "## Analysis \n",
    "\n",
    "It seems like you are using the type hint `Optional` from the `typing` module in your code. The `Optional` type hint is used to indicate that a particular argument or variable can be either of a specified type or `None`.\n",
    "\n",
    "In your case, you are using it in the method signature for `head`:\n",
    "\n",
    "```python\n",
    "def hasCycle(self, head: Optional[ListNode]) -> bool:\n",
    "```\n",
    "\n",
    "The `Optional[ListNode]` suggests that `head` can be either of type `ListNode` or `None`. The underline (or error) you are seeing might be due to the fact that the `Optional` type hint is not imported.\n",
    "\n",
    "To resolve this issue, you should add the following import statement at the beginning of your file:\n",
    "\n",
    "```python\n",
    "from typing import Optional\n",
    "```\n",
    "\n",
    "So your code would look like this:\n",
    "\n",
    "```python\n",
    "# Definition for singly-linked list.\n",
    "from typing import Optional\n",
    "\n",
    "class ListNode:\n",
    "    def __init__(self, x):\n",
    "        self.val = x\n",
    "        self.next = None\n",
    "\n",
    "class Solution:\n",
    "    def hasCycle(self, head: Optional[ListNode]) -> bool:\n",
    "        # Your implementation here\n",
    "```\n",
    "\n",
    "Make sure to add this import statement, and the error underline should disappear. This is assuming that you have the `typing` module available in your Python environment, which is the case for Python 3.5 and later versions. If you are using an older version of Python, consider upgrading to a newer version."
   ]
  },
  {
   "cell_type": "code",
   "execution_count": null,
   "metadata": {},
   "outputs": [],
   "source": []
  }
 ],
 "metadata": {
  "kernelspec": {
   "display_name": "Python 3",
   "language": "python",
   "name": "python3"
  },
  "language_info": {
   "codemirror_mode": {
    "name": "ipython",
    "version": 3
   },
   "file_extension": ".py",
   "mimetype": "text/x-python",
   "name": "python",
   "nbconvert_exporter": "python",
   "pygments_lexer": "ipython3",
   "version": "3.9.13"
  }
 },
 "nbformat": 4,
 "nbformat_minor": 2
}
