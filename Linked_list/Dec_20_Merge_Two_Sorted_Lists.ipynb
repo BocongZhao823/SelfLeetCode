{
 "cells": [
  {
   "cell_type": "markdown",
   "metadata": {},
   "source": [
    "# 21. Merge Two Sorted Lists\n",
    "\n",
    "You are given the heads of two sorted linked lists list1 and list2.\n",
    "\n",
    "Merge the two lists into one sorted list. The list should be made by splicing together the nodes of the first two lists.\n",
    "\n",
    "Return the head of the merged linked list.\n",
    "\n",
    "### Example 1:\n",
    "\n",
    "Input: list1 = [1,2,4], list2 = [1,3,4]\n",
    "\n",
    "Output: [1,1,2,3,4,4]\n",
    "\n",
    "### Example 2:\n",
    "\n",
    "Input: list1 = [], list2 = []\n",
    "\n",
    "Output: []\n",
    "\n",
    "### Example 3:\n",
    "\n",
    "Input: list1 = [], list2 = [0]\n",
    "\n",
    "Output: [0]\n",
    " \n",
    "### Constraints:\n",
    "\n",
    "The number of nodes in both lists is in the range [0, 50].\n",
    "\n",
    "-100 <= Node.val <= 100\n",
    "\n",
    "Both list1 and list2 are sorted in non-decreasing order."
   ]
  },
  {
   "cell_type": "code",
   "execution_count": 4,
   "metadata": {},
   "outputs": [],
   "source": [
    "from typing import Optional\n",
    "\n",
    "# Definition for singly-linked list.\n",
    "class ListNode:\n",
    "    def __init__(self, val=0, next=None):\n",
    "        self.val = val\n",
    "        self.next = next\n",
    "\n",
    "    def __str__(self):\n",
    "        return str(self.val)\n",
    "\n",
    "    def print_linked_list(self):\n",
    "        result = []\n",
    "        current = self\n",
    "        while current:\n",
    "            result.append(str(current.val))\n",
    "            current = current.next\n",
    "        return ' -> '.join(result)\n",
    "\n",
    "class Solution:\n",
    "    def mergeTwoLists(self, list1: Optional[ListNode], list2: Optional[ListNode]) -> Optional[ListNode]:\n",
    "        pass"
   ]
  },
  {
   "cell_type": "code",
   "execution_count": 9,
   "metadata": {},
   "outputs": [
    {
     "name": "stdout",
     "output_type": "stream",
     "text": [
      "1 -> 2 -> 4\n",
      "1 -> 3 -> 4\n"
     ]
    }
   ],
   "source": [
    "list1 = ListNode(1)\n",
    "list1.next = ListNode(2)\n",
    "list1.next.next = ListNode(4)\n",
    "\n",
    "list2 = ListNode(1)\n",
    "list2.next = ListNode(3)\n",
    "list2.next.next = ListNode(4)\n",
    "\n",
    "print(f\"{ListNode.print_linked_list(list1)}\\n{ListNode.print_linked_list(list2)}\")\n",
    "mySol = Solution()\n",
    "mySol.mergeTwoLists(list1,list2)"
   ]
  }
 ],
 "metadata": {
  "kernelspec": {
   "display_name": "Python 3",
   "language": "python",
   "name": "python3"
  },
  "language_info": {
   "codemirror_mode": {
    "name": "ipython",
    "version": 3
   },
   "file_extension": ".py",
   "mimetype": "text/x-python",
   "name": "python",
   "nbconvert_exporter": "python",
   "pygments_lexer": "ipython3",
   "version": "3.9.13"
  }
 },
 "nbformat": 4,
 "nbformat_minor": 2
}
