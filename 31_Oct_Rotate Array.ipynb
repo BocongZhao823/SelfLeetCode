{
 "cells": [
  {
   "cell_type": "markdown",
   "metadata": {},
   "source": [
    "# **189. Rotate Array**"
   ]
  },
  {
   "cell_type": "markdown",
   "metadata": {},
   "source": [
    "Given an integer array nums, rotate the array to the right by k steps, where k is non-negative.\n",
    "\n",
    "**Example 1:**\n",
    "\n",
    "\n",
    "Input: nums = [1,2,3,4,5,6,7], k = 3\n",
    "\n",
    "Output: [5,6,7,1,2,3,4]\n",
    "\n",
    "Explanation:\n",
    "\n",
    "rotate 1 steps to the right: [7,1,2,3,4,5,6]\n",
    "\n",
    "rotate 2 steps to the right: [6,7,1,2,3,4,5]\n",
    "\n",
    "rotate 3 steps to the right: [5,6,7,1,2,3,4]\n",
    "\n",
    "**Example 2:**\n",
    "\n",
    "\n",
    "Input: nums = [-1,-100,3,99], k = 2\n",
    "\n",
    "Output: [3,99,-1,-100]\n",
    "\n",
    "Explanation: \n",
    "\n",
    "rotate 1 steps to the right: [99,-1,-100,3]\n",
    "\n",
    "rotate 2 steps to the right: [3,99,-1,-100]\n",
    " \n",
    "\n",
    "**Constraints:**\n",
    "\n",
    "1 <= nums.length <= 105\n",
    "-231 <= nums[i] <= 231 - 1\n",
    "0 <= k <= 105\n",
    " \n",
    "\n",
    "Follow up:\n",
    "\n",
    "Try to come up with as many solutions as you can. There are at least three different ways to solve this problem.\n",
    "Could you do it in-place with O(1) extra space?"
   ]
  },
  {
   "cell_type": "markdown",
   "metadata": {},
   "source": [
    "### This solution can well solve the problem\n",
    "\n",
    "When there is no enough space for rotation, creat spaces and delete useless spaces after finish rotation "
   ]
  },
  {
   "cell_type": "code",
   "execution_count": 1,
   "metadata": {},
   "outputs": [],
   "source": [
    "class Solution:\n",
    "    def rotate(nums: list[int], k: int) -> None:\n",
    "        \"\"\"\n",
    "        Do not return anything, modify nums in-place instead.\n",
    "        \"\"\"\n",
    "        n = len(nums)\n",
    "\n",
    "        # Add ks 0 inside the new list, after the 0s, add origianl nums list\n",
    "        # If nums = [1,2,3,4,5,6,7] and k = 3\n",
    "        # Then newList = [0, 0, 0, 1, 2, 3, 4, 5, 6, 7]\n",
    "        newList =  [0]*k + nums\n",
    "        #print(newList)\n",
    "        m = len(newList)\n",
    "        \n",
    "        for i in range(m-1):\n",
    "            if i < k :\n",
    "                # Put the last element (i.e., m-1 index) into the kth position (i.e., k-1 index)\n",
    "                # [0, 0, 0, 1, 2, 3, 4, 5, 6, 7] --> [0, 0, 7, 1, 2, 3, 4, 5, 6, 7]\n",
    "                # Then pust the second last element (i.e., m-1-1 index) into the k-1th position (i.e., k-2 index)\n",
    "                # [0, 0, 7, 1, 2, 3, 4, 5, 6, 7] --> [0, 6, 7, 1, 2, 3, 4, 5, 6, 7]\n",
    "                newList[k-i-1] = newList[m-i-1]\n",
    "                #print(newList)\n",
    "\n",
    "        # Only need the first n elements\n",
    "        z = newList[:n]\n",
    "\n",
    "        # Replace each element in z into nums\n",
    "        for i in range(n):\n",
    "            nums[i] = z[i]\n",
    "\n",
    "        return nums\n",
    "\n",
    "       "
   ]
  },
  {
   "cell_type": "code",
   "execution_count": 2,
   "metadata": {},
   "outputs": [
    {
     "data": {
      "text/plain": [
       "[5, 6, 7, 1, 2, 3, 4]"
      ]
     },
     "execution_count": 2,
     "metadata": {},
     "output_type": "execute_result"
    }
   ],
   "source": [
    "nums = [1,2,3,4,5,6,7]\n",
    "k = 3\n",
    "#Output: [5,6,7,1,2,3,4]\n",
    "Solution.rotate(nums, k)"
   ]
  },
  {
   "cell_type": "markdown",
   "metadata": {},
   "source": [
    "### Solution2 can solve the problem, just need to modify it a bit"
   ]
  },
  {
   "cell_type": "code",
   "execution_count": 3,
   "metadata": {},
   "outputs": [],
   "source": [
    "class Solution2:\n",
    "    def rotate(nums: list[int], k: int) -> None:\n",
    "        \"\"\"\n",
    "        Do not return anything, modify nums in-place instead.\n",
    "        \"\"\"\n",
    "        m = len(nums)\n",
    "        \n",
    "        for i in range(m-1):\n",
    "            if i < k:\n",
    "                nums =  [0] + nums\n",
    "                print(nums)\n",
    "                nums[0] = nums[-1]\n",
    "                nums = nums[0:m]\n",
    "\n",
    "        return nums"
   ]
  },
  {
   "cell_type": "code",
   "execution_count": 4,
   "metadata": {},
   "outputs": [
    {
     "name": "stdout",
     "output_type": "stream",
     "text": [
      "[0, 1, 2, 3, 4, 5, 6, 7]\n",
      "[0, 7, 1, 2, 3, 4, 5, 6]\n",
      "[0, 6, 7, 1, 2, 3, 4, 5]\n"
     ]
    },
    {
     "data": {
      "text/plain": [
       "[5, 6, 7, 1, 2, 3, 4]"
      ]
     },
     "execution_count": 4,
     "metadata": {},
     "output_type": "execute_result"
    }
   ],
   "source": [
    "nums = [1,2,3,4,5,6,7]\n",
    "k = 3\n",
    "#Output: [5,6,7,1,2,3,4]\n",
    "Solution2.rotate(nums, k)"
   ]
  },
  {
   "cell_type": "markdown",
   "metadata": {},
   "source": [
    "### Solution3 does not solve the problem, but it is an interesting trail"
   ]
  },
  {
   "cell_type": "code",
   "execution_count": 5,
   "metadata": {},
   "outputs": [],
   "source": [
    "class Solution3:\n",
    "    def rotate(nums: list[int], k: int) -> None:\n",
    "        \"\"\"\n",
    "        Do not return anything, modify nums in-place instead.\n",
    "        \"\"\"\n",
    "        m = len(nums)\n",
    "        \n",
    "        for i in range(m-1):\n",
    "            if i < k:\n",
    "                #nums =  [0] + nums\n",
    "                print(nums)\n",
    "                a = nums[i]\n",
    "                print(a)\n",
    "                \n",
    "                nums[i] = nums[m-1-i]\n",
    "                print(nums)\n",
    "                nums[m-1-i] = a\n",
    "                print(nums, \"\\n\")\n",
    "                #nums = nums[0:m]"
   ]
  },
  {
   "cell_type": "code",
   "execution_count": 6,
   "metadata": {},
   "outputs": [
    {
     "name": "stdout",
     "output_type": "stream",
     "text": [
      "[1, 2, 3, 4, 5, 6, 7]\n",
      "1\n",
      "[7, 2, 3, 4, 5, 6, 7]\n",
      "[7, 2, 3, 4, 5, 6, 1] \n",
      "\n",
      "[7, 2, 3, 4, 5, 6, 1]\n",
      "2\n",
      "[7, 6, 3, 4, 5, 6, 1]\n",
      "[7, 6, 3, 4, 5, 2, 1] \n",
      "\n",
      "[7, 6, 3, 4, 5, 2, 1]\n",
      "3\n",
      "[7, 6, 5, 4, 5, 2, 1]\n",
      "[7, 6, 5, 4, 3, 2, 1] \n",
      "\n"
     ]
    }
   ],
   "source": [
    "nums = [1,2,3,4,5,6,7]\n",
    "k = 3\n",
    "#Output: [5,6,7,1,2,3,4]\n",
    "Solution3.rotate(nums, k)"
   ]
  },
  {
   "cell_type": "markdown",
   "metadata": {},
   "source": [
    "### Solution4 does not solve the problem, but it is an interesting trail"
   ]
  },
  {
   "cell_type": "code",
   "execution_count": 7,
   "metadata": {},
   "outputs": [],
   "source": [
    "class Solution4:\n",
    "    def rotate(nums: list[int], k: int) -> None:\n",
    "        \"\"\"\n",
    "        Do not return anything, modify nums in-place instead.\n",
    "        \"\"\"\n",
    "        m = len(nums)\n",
    "        for i in range(m-1):\n",
    "            if i < k:\n",
    "                print(nums)\n",
    "                lastValue = nums[-1-i]\n",
    "                print(lastValue)\n",
    "                firstValue = nums[i]\n",
    "                print(firstValue)\n",
    "                nums[i] = lastValue\n",
    "                nums[-1-i] = firstValue\n",
    "                print(nums, \"\\n\")\n",
    "                #nums = nums[0:m]\n",
    "        \n",
    "        print(nums, \"\\n\")"
   ]
  },
  {
   "cell_type": "code",
   "execution_count": 8,
   "metadata": {},
   "outputs": [
    {
     "name": "stdout",
     "output_type": "stream",
     "text": [
      "[1, 2, 3, 4, 5, 6, 7]\n",
      "7\n",
      "1\n",
      "[7, 2, 3, 4, 5, 6, 1] \n",
      "\n",
      "[7, 2, 3, 4, 5, 6, 1]\n",
      "6\n",
      "2\n",
      "[7, 6, 3, 4, 5, 2, 1] \n",
      "\n",
      "[7, 6, 3, 4, 5, 2, 1]\n",
      "5\n",
      "3\n",
      "[7, 6, 5, 4, 3, 2, 1] \n",
      "\n",
      "[7, 6, 5, 4, 3, 2, 1] \n",
      "\n"
     ]
    }
   ],
   "source": [
    "nums = [1,2,3,4,5,6,7]\n",
    "k = 3\n",
    "#Output: [5,6,7,1,2,3,4]\n",
    "Solution4.rotate(nums, k)"
   ]
  },
  {
   "cell_type": "markdown",
   "metadata": {},
   "source": [
    "### Solution5 is part of Solution6 & it does not solve the problem, but it is an interesting trail"
   ]
  },
  {
   "cell_type": "code",
   "execution_count": 9,
   "metadata": {},
   "outputs": [],
   "source": [
    "class Solution5:\n",
    "    def rotate(nums: list[int], k: int) -> None:\n",
    "        \"\"\"\n",
    "        Do not return anything, modify nums in-place instead.\n",
    "        \"\"\"\n",
    "        m = len(nums)\n",
    "\n",
    "        # Loop through k times\n",
    "        for i in range(k):\n",
    "            if i < k:\n",
    "                print(nums)\n",
    "\n",
    "                # Save the last element\n",
    "                lastValue = nums[-1]\n",
    "                print(lastValue)\n",
    "\n",
    "                # Make every element shift right 1 position\n",
    "                # Origianl second last element located in the last postion\n",
    "                # That's why I save the origianl element in last postion, it has been covered\n",
    "                # Original element located in the 6th postion now move to the 7th postion\n",
    "                # Original element located in the 5th postion now move to the 6th postion\n",
    "                for t in range(m-1):\n",
    "                    nums[m-1-t] = nums[m-2-t]\n",
    "                    print(nums)\n",
    "                \n",
    "                print(\"after right shift\", nums)\n",
    "\n",
    "                # Now Add back the original last element to the 0th index \n",
    "                # Finish one rotation\n",
    "                nums[0] = lastValue\n",
    "                print(\"finish\", i+1, \"loop\",nums, \"\\n\")\n",
    "        \n",
    "        print(\"final result\", nums)"
   ]
  },
  {
   "cell_type": "code",
   "execution_count": 10,
   "metadata": {},
   "outputs": [
    {
     "name": "stdout",
     "output_type": "stream",
     "text": [
      "[1, 2, 3, 4, 5, 6, 7]\n",
      "7\n",
      "[1, 2, 3, 4, 5, 6, 6]\n",
      "[1, 2, 3, 4, 5, 5, 6]\n",
      "[1, 2, 3, 4, 4, 5, 6]\n",
      "[1, 2, 3, 3, 4, 5, 6]\n",
      "[1, 2, 2, 3, 4, 5, 6]\n",
      "[1, 1, 2, 3, 4, 5, 6]\n",
      "after right shift [1, 1, 2, 3, 4, 5, 6]\n",
      "finish 1 loop [7, 1, 2, 3, 4, 5, 6] \n",
      "\n",
      "[7, 1, 2, 3, 4, 5, 6]\n",
      "6\n",
      "[7, 1, 2, 3, 4, 5, 5]\n",
      "[7, 1, 2, 3, 4, 4, 5]\n",
      "[7, 1, 2, 3, 3, 4, 5]\n",
      "[7, 1, 2, 2, 3, 4, 5]\n",
      "[7, 1, 1, 2, 3, 4, 5]\n",
      "[7, 7, 1, 2, 3, 4, 5]\n",
      "after right shift [7, 7, 1, 2, 3, 4, 5]\n",
      "finish 2 loop [6, 7, 1, 2, 3, 4, 5] \n",
      "\n",
      "[6, 7, 1, 2, 3, 4, 5]\n",
      "5\n",
      "[6, 7, 1, 2, 3, 4, 4]\n",
      "[6, 7, 1, 2, 3, 3, 4]\n",
      "[6, 7, 1, 2, 2, 3, 4]\n",
      "[6, 7, 1, 1, 2, 3, 4]\n",
      "[6, 7, 7, 1, 2, 3, 4]\n",
      "[6, 6, 7, 1, 2, 3, 4]\n",
      "after right shift [6, 6, 7, 1, 2, 3, 4]\n",
      "finish 3 loop [5, 6, 7, 1, 2, 3, 4] \n",
      "\n",
      "final result [5, 6, 7, 1, 2, 3, 4]\n"
     ]
    }
   ],
   "source": [
    "nums = [1,2,3,4,5,6,7]\n",
    "k = 3\n",
    "#Output: [5,6,7,1,2,3,4]\n",
    "Solution5.rotate(nums, k)"
   ]
  },
  {
   "cell_type": "code",
   "execution_count": 11,
   "metadata": {},
   "outputs": [
    {
     "name": "stdout",
     "output_type": "stream",
     "text": [
      "[1, 2]\n",
      "2\n",
      "[1, 1]\n",
      "after right shift [1, 1]\n",
      "finish 1 loop [2, 1] \n",
      "\n",
      "[2, 1]\n",
      "1\n",
      "[2, 2]\n",
      "after right shift [2, 2]\n",
      "finish 2 loop [1, 2] \n",
      "\n",
      "final result [1, 2]\n"
     ]
    }
   ],
   "source": [
    "nums = [1,2]\n",
    "k = 2\n",
    "# expected: [1,2]\n",
    "Solution5.rotate(nums, k)"
   ]
  },
  {
   "cell_type": "code",
   "execution_count": 12,
   "metadata": {},
   "outputs": [
    {
     "name": "stdout",
     "output_type": "stream",
     "text": [
      "[1, 2]\n",
      "2\n",
      "[1, 1]\n",
      "after right shift [1, 1]\n",
      "finish 1 loop [2, 1] \n",
      "\n",
      "[2, 1]\n",
      "1\n",
      "[2, 2]\n",
      "after right shift [2, 2]\n",
      "finish 2 loop [1, 2] \n",
      "\n",
      "[1, 2]\n",
      "2\n",
      "[1, 1]\n",
      "after right shift [1, 1]\n",
      "finish 3 loop [2, 1] \n",
      "\n",
      "final result [2, 1]\n"
     ]
    }
   ],
   "source": [
    "nums = [1,2]\n",
    "k = 3\n",
    "# expected: [2,1]\n",
    "Solution5.rotate(nums, k)"
   ]
  },
  {
   "cell_type": "markdown",
   "metadata": {},
   "source": [
    "### This Solution 6 can solve 34/38 Leetcode problems\n",
    " \n",
    "But if the input size is super large, this algorithmn cannot generate an output within limited time."
   ]
  },
  {
   "cell_type": "code",
   "execution_count": 13,
   "metadata": {},
   "outputs": [],
   "source": [
    "class Solution6:\n",
    "    def rotate(nums: list[int], k: int) -> None:\n",
    "        \"\"\"\n",
    "        Do not return anything, modify nums in-place instead.\n",
    "        \"\"\"\n",
    "        m = len(nums)\n",
    "\n",
    "        # Loop through k times\n",
    "        for i in range(k):\n",
    "            #print(nums)\n",
    "\n",
    "            # Save the last element\n",
    "            lastValue = nums[-1]\n",
    "            #print(lastValue)\n",
    "\n",
    "            # Make every element shift right 1 position\n",
    "            # Origianl second last element located in the last postion\n",
    "            # That's why I save the origianl element in last postion, it has been covered\n",
    "            # Original element located in the 6th postion now move to the 7th postion\n",
    "            # Original element located in the 5th postion now move to the 6th postion\n",
    "            for t in range(m-1):\n",
    "                nums[m-1-t] = nums[m-2-t]\n",
    "                #print(nums)\n",
    "                \n",
    "            #print(\"after right shift\", nums)\n",
    "\n",
    "            # Now Add back the original last element to the 0th index \n",
    "            # Finish one rotation\n",
    "            nums[0] = lastValue\n",
    "            #print(\"finish\", i+1, \"loop\",nums, \"\\n\")\n",
    "        \n",
    "        #print(\"final result\", nums)\n",
    "        return nums"
   ]
  },
  {
   "cell_type": "code",
   "execution_count": 14,
   "metadata": {},
   "outputs": [
    {
     "data": {
      "text/plain": [
       "[5, 6, 7, 1, 2, 3, 4]"
      ]
     },
     "execution_count": 14,
     "metadata": {},
     "output_type": "execute_result"
    }
   ],
   "source": [
    "nums = [1,2,3,4,5,6,7]\n",
    "k = 3\n",
    "#Output: [5,6,7,1,2,3,4]\n",
    "Solution6.rotate(nums, k)"
   ]
  },
  {
   "cell_type": "code",
   "execution_count": 15,
   "metadata": {},
   "outputs": [
    {
     "data": {
      "text/plain": [
       "[1, 2]"
      ]
     },
     "execution_count": 15,
     "metadata": {},
     "output_type": "execute_result"
    }
   ],
   "source": [
    "nums = [1,2]\n",
    "k = 2\n",
    "# expected: [1,2]\n",
    "Solution6.rotate(nums, k)"
   ]
  },
  {
   "cell_type": "code",
   "execution_count": 16,
   "metadata": {},
   "outputs": [
    {
     "data": {
      "text/plain": [
       "[2, 1]"
      ]
     },
     "execution_count": 16,
     "metadata": {},
     "output_type": "execute_result"
    }
   ],
   "source": [
    "nums = [1,2]\n",
    "k = 3\n",
    "# expected: [2,1]\n",
    "Solution6.rotate(nums, k)"
   ]
  },
  {
   "cell_type": "code",
   "execution_count": 17,
   "metadata": {},
   "outputs": [],
   "source": [
    "class Solution7:\n",
    "    def rotate(nums: list[int], k: int) -> None:\n",
    "        \"\"\"\n",
    "        Do not return anything, modify nums in-place instead.\n",
    "        \"\"\"\n",
    "        n=len(nums)\n",
    "        if n<k:\n",
    "            k=k%n\n",
    "        z=nums[n-k:]+nums[:n-k]\n",
    "        for i in range(len(z)):\n",
    "            nums[i]=z[i]\n",
    "        \n",
    "        print(nums)"
   ]
  },
  {
   "cell_type": "code",
   "execution_count": 18,
   "metadata": {},
   "outputs": [
    {
     "name": "stdout",
     "output_type": "stream",
     "text": [
      "[2, 1]\n"
     ]
    }
   ],
   "source": [
    "nums = [1,2]\n",
    "k = 3\n",
    "# expected: [2,1]\n",
    "Solution7.rotate(nums, k)"
   ]
  }
 ],
 "metadata": {
  "kernelspec": {
   "display_name": "Python 3",
   "language": "python",
   "name": "python3"
  },
  "language_info": {
   "codemirror_mode": {
    "name": "ipython",
    "version": 3
   },
   "file_extension": ".py",
   "mimetype": "text/x-python",
   "name": "python",
   "nbconvert_exporter": "python",
   "pygments_lexer": "ipython3",
   "version": "3.9.13"
  }
 },
 "nbformat": 4,
 "nbformat_minor": 2
}
