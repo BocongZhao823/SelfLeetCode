{
 "cells": [
  {
   "cell_type": "markdown",
   "metadata": {},
   "source": [
    "# Two Pointers Tutorial\n",
    "\n",
    "https://youtu.be/0tn0-DSdHdA?si=2KB6LAfF1S50D_Wy\n",
    "\n",
    "- Two pointer approach to check if a string is a palindrome \n",
    "- Two pointer approach to find target value in a sorted array"
   ]
  },
  {
   "cell_type": "code",
   "execution_count": 1,
   "metadata": {},
   "outputs": [],
   "source": [
    "def isPalindrome(s):\n",
    "    # start \n",
    "    i = 0\n",
    "    # end\n",
    "    j = len(s) -1\n",
    "    while i < j:\n",
    "        if s[i] != s[j]:\n",
    "            return False\n",
    "        i = i +1\n",
    "        j = j -1\n",
    "    return True"
   ]
  },
  {
   "cell_type": "code",
   "execution_count": 12,
   "metadata": {},
   "outputs": [
    {
     "name": "stdout",
     "output_type": "stream",
     "text": [
      "True\n",
      "True\n",
      "True\n",
      "False\n",
      "True\n"
     ]
    }
   ],
   "source": [
    "s = [4, \"civic\", \"level\", \"programming\", \"a\"]\n",
    "for i in range(len(s)):\n",
    "    print(isPalindrome(str(s[i])))"
   ]
  },
  {
   "cell_type": "code",
   "execution_count": 1,
   "metadata": {},
   "outputs": [],
   "source": [
    "def twoSum(a, target):\n",
    "    # start\n",
    "    i = 0\n",
    "    # end\n",
    "    j = len(a) -1\n",
    "    while i < j:\n",
    "        sm = a[i] + a[j]\n",
    "        if target == sum:\n",
    "            print(\"{}{}\".format(a[i], a[j]))\n",
    "            print(\"{}{}\".format(i,j))\n",
    "            return True\n",
    "        elif sm < target:\n",
    "            i = i +1\n",
    "        else:\n",
    "            j = j-1\n",
    "    return False"
   ]
  },
  {
   "cell_type": "code",
   "execution_count": 5,
   "metadata": {},
   "outputs": [
    {
     "name": "stdout",
     "output_type": "stream",
     "text": [
      "[1, 4, 10, 16, 20]\n",
      "False\n"
     ]
    }
   ],
   "source": [
    "array = [1,4,10,16,20]\n",
    "# target = 20\n",
    "t = int(input()) \n",
    "for i in range(t):\n",
    "    a = list(map(int, input().split()))\n",
    "    target = int(input())\n",
    "    print(a)\n",
    "    print(twoSum(a, target))"
   ]
  }
 ],
 "metadata": {
  "kernelspec": {
   "display_name": "Python 3",
   "language": "python",
   "name": "python3"
  },
  "language_info": {
   "codemirror_mode": {
    "name": "ipython",
    "version": 3
   },
   "file_extension": ".py",
   "mimetype": "text/x-python",
   "name": "python",
   "nbconvert_exporter": "python",
   "pygments_lexer": "ipython3",
   "version": "3.9.13"
  }
 },
 "nbformat": 4,
 "nbformat_minor": 2
}
