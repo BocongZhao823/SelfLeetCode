{
 "cells": [
  {
   "cell_type": "markdown",
   "metadata": {},
   "source": [
    "# 125. Valid Palindrome\n",
    "\n",
    "A phrase is a palindrome if, after converting all uppercase letters into lowercase letters and removing all non-alphanumeric characters, it reads the same forward and backward. Alphanumeric characters include letters and numbers.\n",
    "\n",
    "Given a string s, return true if it is a palindrome, or false otherwise.\n",
    "\n",
    "\n",
    "### Example 1:\n",
    "\n",
    "Input: s = \"A man, a plan, a canal: Panama\"\n",
    "\n",
    "Output: true\n",
    "\n",
    "Explanation: \"amanaplanacanalpanama\" is a palindrome.\n",
    "\n",
    "### Example 2:\n",
    "\n",
    "Input: s = \"race a car\"\n",
    "\n",
    "Output: false\n",
    "\n",
    "Explanation: \"raceacar\" is not a palindrome.\n",
    "\n",
    "### Example 3:\n",
    "\n",
    "Input: s = \" \"\n",
    "\n",
    "Output: true\n",
    "\n",
    "Explanation: s is an empty string \"\" after removing non-alphanumeric characters.\n",
    "\n",
    "Since an empty string reads the same forward and backward, it is a palindrome.\n",
    " \n",
    "### Constraints:\n",
    "\n",
    "1 <= s.length <= 2 * 105\n",
    "\n",
    "s consists only of printable ASCII characters."
   ]
  },
  {
   "cell_type": "markdown",
   "metadata": {},
   "source": [
    "### This solution 394 / 485 testcases passed --> Issue: I shouldn't return \"true/false\" by myself, instead I should return saveNewSWord == SWord and the system will return \"true\" if they are equal"
   ]
  },
  {
   "cell_type": "code",
   "execution_count": 16,
   "metadata": {},
   "outputs": [],
   "source": [
    "class Solution:\n",
    "    def isPalindrome(s: str) -> bool:\n",
    "        # Get pure alphanumeric char\n",
    "        list = [\"a\",\"b\",\"c\",\"d\",\"e\",\"f\",\"g\",\"h\",\"i\",\"j\",\"k\",\"l\",\"m\",\"n\",\"o\",\"p\",\"q\",\"r\",\"s\",\"t\",\"u\",\"v\",\"w\",\"x\",\"y\",\"z\"]\n",
    "\n",
    "        s = s.lower()\n",
    "        newS = []\n",
    "        for element in s:\n",
    "            if element in list:\n",
    "                newS.append(element)\n",
    "            \n",
    "        SWord = \"\"\n",
    "        for element in newS:\n",
    "            SWord += element\n",
    "\n",
    "        # Reverse that alphanumeric char list\n",
    "        saveNewS = []\n",
    "        for element in newS:\n",
    "            saveNewS.append(element)\n",
    "            \n",
    "        m = len(saveNewS)\n",
    "        for i in range(m):\n",
    "            if i < m/2:\n",
    "                lastValue = saveNewS[-1-i]\n",
    "                firstValue = saveNewS[i]\n",
    "                saveNewS[i] = lastValue\n",
    "                saveNewS[-1-i] = firstValue\n",
    "\n",
    "        saveNewSWord = \"\"\n",
    "        for element in saveNewS:\n",
    "            saveNewSWord += element\n",
    "            \n",
    "        print(saveNewSWord)\n",
    "        print(SWord)\n",
    "        # Compare if the reversed list is the same as the original list\n",
    "        if saveNewSWord == SWord:\n",
    "            return \"true\"\n",
    "        else:\n",
    "            return \"false\"\n",
    "        \n",
    "        # for i in range(m):\n",
    "        #     j = 0\n",
    "        #     while j <= m and saveNewS[i] == newS[i]:\n",
    "        #         j += 1\n",
    "        #     if j == m:\n",
    "        #         return \"true\"\n",
    "        #     else:\n",
    "        #         return \"false\""
   ]
  },
  {
   "cell_type": "markdown",
   "metadata": {},
   "source": [
    "### Solution 1: 462 / 485 testcases passed --> Issue: Does not consider numbers (0,1,2,3...)"
   ]
  },
  {
   "cell_type": "code",
   "execution_count": 24,
   "metadata": {},
   "outputs": [],
   "source": [
    "class Solution1:\n",
    "    def isPalindrome(s: str) -> bool:\n",
    "        # Get pure alphanumeric char\n",
    "        list = [\"a\",\"b\",\"c\",\"d\",\"e\",\"f\",\"g\",\"h\",\"i\",\"j\",\"k\",\"l\",\"m\",\"n\",\"o\",\"p\",\"q\",\"r\",\"s\",\"t\",\"u\",\"v\",\"w\",\"x\",\"y\",\"z\"]\n",
    "\n",
    "        s = s.lower()\n",
    "        newS = []\n",
    "        for element in s:\n",
    "            if element in list:\n",
    "                newS.append(element)\n",
    "            \n",
    "        SWord = \"\"\n",
    "        for element in newS:\n",
    "            SWord += element\n",
    "\n",
    "        # Reverse that alphanumeric char list\n",
    "        saveNewS = []\n",
    "        for element in newS:\n",
    "            saveNewS.append(element)\n",
    "            \n",
    "        m = len(saveNewS)\n",
    "        for i in range(m):\n",
    "            if i < m/2:\n",
    "                lastValue = saveNewS[-1-i]\n",
    "                firstValue = saveNewS[i]\n",
    "                saveNewS[i] = lastValue\n",
    "                saveNewS[-1-i] = firstValue\n",
    "\n",
    "        saveNewSWord = \"\"\n",
    "        for element in saveNewS:\n",
    "            saveNewSWord += element\n",
    "            \n",
    "        print(saveNewSWord)\n",
    "        print(SWord)\n",
    "        # Compare if the reversed list is the same as the original list\n",
    "        return saveNewSWord == SWord"
   ]
  },
  {
   "cell_type": "code",
   "execution_count": 26,
   "metadata": {},
   "outputs": [
    {
     "name": "stdout",
     "output_type": "stream",
     "text": [
      "p\n",
      "p\n"
     ]
    },
    {
     "data": {
      "text/plain": [
       "True"
      ]
     },
     "execution_count": 26,
     "metadata": {},
     "output_type": "execute_result"
    }
   ],
   "source": [
    "s = \"0P\"\n",
    "Solution1.isPalindrome(s)"
   ]
  },
  {
   "cell_type": "markdown",
   "metadata": {},
   "source": [
    "### Solution 2 can pass all the tests! 485/485"
   ]
  },
  {
   "cell_type": "code",
   "execution_count": 27,
   "metadata": {},
   "outputs": [],
   "source": [
    "class Solution2:\n",
    "\n",
    "    def isPalindrome(s: str) -> bool:\n",
    "        # Get pure alphanumeric & numeric char\n",
    "        list = [\"a\",\"b\",\"c\",\"d\",\"e\",\"f\",\"g\",\"h\",\"i\",\"j\",\"k\",\"l\",\"m\",\"n\",\"o\",\"p\",\"q\",\"r\",\"s\",\"t\",\"u\",\"v\",\"w\",\"x\",\"y\",\"z\"]\n",
    "\n",
    "        s = s.lower()\n",
    "        newS = []\n",
    "        for element in s:\n",
    "            if element in list:\n",
    "                newS.append(element)\n",
    "            else:\n",
    "                try:\n",
    "                    int(element)\n",
    "                    newS.append(element)\n",
    "                except ValueError:\n",
    "                    pass\n",
    "            \n",
    "        SWord = \"\"\n",
    "        for element in newS:\n",
    "            SWord += element\n",
    "\n",
    "        # Reverse that alphanumeric char list\n",
    "        saveNewS = []\n",
    "        for element in newS:\n",
    "            saveNewS.append(element)\n",
    "            \n",
    "        m = len(saveNewS)\n",
    "        for i in range(m):\n",
    "            if i < m/2:\n",
    "                lastValue = saveNewS[-1-i]\n",
    "                firstValue = saveNewS[i]\n",
    "                saveNewS[i] = lastValue\n",
    "                saveNewS[-1-i] = firstValue\n",
    "\n",
    "        saveNewSWord = \"\"\n",
    "        for element in saveNewS:\n",
    "            saveNewSWord += element\n",
    "            \n",
    "        print(saveNewSWord)\n",
    "        print(SWord)\n",
    "        # Compare if the reversed list is the same as the original list\n",
    "        return saveNewSWord == SWord"
   ]
  },
  {
   "cell_type": "code",
   "execution_count": 28,
   "metadata": {},
   "outputs": [
    {
     "name": "stdout",
     "output_type": "stream",
     "text": [
      "p0\n",
      "0p\n"
     ]
    },
    {
     "data": {
      "text/plain": [
       "False"
      ]
     },
     "execution_count": 28,
     "metadata": {},
     "output_type": "execute_result"
    }
   ],
   "source": [
    "s = \"0P\"\n",
    "Solution2.isPalindrome(s)"
   ]
  },
  {
   "cell_type": "markdown",
   "metadata": {},
   "source": [
    "### Solution 3 is a much more effective way to solve the task 485/485"
   ]
  },
  {
   "cell_type": "markdown",
   "metadata": {},
   "source": [
    "List Comprehension: Use list comprehension to filter out non-alphanumeric characters and convert the string to lowercase in a more concise way.\n",
    "\n",
    "Reversing a List: Use slicing ([::-1]) to reverse the list more efficiently.\n",
    "\n",
    "Boolean Return: Instead of returning strings \"true\" or \"false,\" it's better to return a boolean value (True or False)."
   ]
  },
  {
   "cell_type": "code",
   "execution_count": null,
   "metadata": {},
   "outputs": [],
   "source": [
    "class Solution3:\n",
    "    def isPalindrome(s: str) -> bool:\n",
    "        \n",
    "        # Filter out non-alphanumeric characters and convert to lowercase\n",
    "        alphanumeric_chars = [char.lower() for char in s if char.isalnum()]\n",
    "\n",
    "        # Compare the original string with its reverse\n",
    "        return alphanumeric_chars == alphanumeric_chars[::-1]\n"
   ]
  }
 ],
 "metadata": {
  "kernelspec": {
   "display_name": "Python 3",
   "language": "python",
   "name": "python3"
  },
  "language_info": {
   "codemirror_mode": {
    "name": "ipython",
    "version": 3
   },
   "file_extension": ".py",
   "mimetype": "text/x-python",
   "name": "python",
   "nbconvert_exporter": "python",
   "pygments_lexer": "ipython3",
   "version": "3.9.13"
  }
 },
 "nbformat": 4,
 "nbformat_minor": 2
}
