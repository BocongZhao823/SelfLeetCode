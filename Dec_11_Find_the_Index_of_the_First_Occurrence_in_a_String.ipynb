{
 "cells": [
  {
   "cell_type": "markdown",
   "metadata": {},
   "source": [
    "# 28. Find the Index of the First Occurrence in a String\n",
    "\n",
    "Given two strings needle and haystack, return the index of the first occurrence of needle in haystack, or -1 if needle is not part of haystack.\n",
    "\n",
    "### Example 1:\n",
    "\n",
    "Input: haystack = \"sadbutsad\", needle = \"sad\"\n",
    "\n",
    "Output: 0\n",
    "\n",
    "Explanation: \"sad\" occurs at index 0 and 6.\n",
    "\n",
    "The first occurrence is at index 0, so we return 0.\n",
    "\n",
    "### Example 2:\n",
    "\n",
    "Input: haystack = \"leetcode\", needle = \"leeto\"\n",
    "\n",
    "Output: -1\n",
    "\n",
    "Explanation: \"leeto\" did not occur in \"leetcode\", so we return -1.\n",
    " \n",
    "### Constraints:\n",
    "\n",
    "1 <= haystack.length, needle.length <= 104\n",
    "\n",
    "haystack and needle consist of only lowercase English characters."
   ]
  },
  {
   "cell_type": "code",
   "execution_count": 111,
   "metadata": {},
   "outputs": [],
   "source": [
    "class Solution:\n",
    "    def strStr(haystack: str, needle: str) -> int:\n",
    "        m, n = len(haystack), len(needle)\n",
    "\n",
    "        # iterates over possible starting positions of substrings in the haystack\n",
    "        # The range is limited to ensure that there are enough characters remaining in the \"haystack\" for a potential match with the \"needle.\"\n",
    "        for i in range(m - n + 1):  # Iterate until the remaining length is less than needle\n",
    "            j = 0\n",
    "            # Compares characters of the \"haystack\" and \"needle\" as long as the characters match. \n",
    "            # The loop increments the variable j until either the entire \"needle\" is matched or a mismatch is found.\n",
    "            while j < n and haystack[i + j] == needle[j]:\n",
    "                j += 1\n",
    "            # a complete match has been found, and the function returns the current index i as the starting position of the match.\n",
    "            if j == n:  # If the entire needle is matched\n",
    "                return i\n",
    "\n",
    "        return -1  # If no match is found"
   ]
  },
  {
   "cell_type": "code",
   "execution_count": 112,
   "metadata": {},
   "outputs": [
    {
     "data": {
      "text/plain": [
       "9"
      ]
     },
     "execution_count": 112,
     "metadata": {},
     "output_type": "execute_result"
    }
   ],
   "source": [
    "haystack = \"pdsdadbutsad\"\n",
    "needle = \"sad\"\n",
    "Solution.strStr(haystack, needle)\n",
    "# Output: 0"
   ]
  }
 ],
 "metadata": {
  "kernelspec": {
   "display_name": "Python 3",
   "language": "python",
   "name": "python3"
  },
  "language_info": {
   "codemirror_mode": {
    "name": "ipython",
    "version": 3
   },
   "file_extension": ".py",
   "mimetype": "text/x-python",
   "name": "python",
   "nbconvert_exporter": "python",
   "pygments_lexer": "ipython3",
   "version": "3.9.13"
  }
 },
 "nbformat": 4,
 "nbformat_minor": 2
}
