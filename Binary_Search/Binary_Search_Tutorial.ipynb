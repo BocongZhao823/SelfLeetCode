{
 "cells": [
  {
   "cell_type": "markdown",
   "metadata": {},
   "source": [
    "# Python Program for Binary Search (Recursive and Iterative)\n",
    "https://www.geeksforgeeks.org/python-program-for-binary-search/\n",
    "\n",
    "In a nutshell, this search algorithm takes advantage of a collection of elements that is already sorted by ignoring half of the elements after just one comparison. \n",
    "\n",
    "Compare x with the middle element.\n",
    "If x matches with the middle element, we return the mid index.\n",
    "Else if x is greater than the mid element, then x can only lie in the right (greater) half subarray after the mid element. Then we apply the algorithm again for the right half.\n",
    "Else if x is smaller, the target x must lie in the left (lower) half. So we apply the algorithm for the left half.\n",
    "\n",
    "## Python Program for Binary Search Using Recursive"
   ]
  },
  {
   "cell_type": "code",
   "execution_count": 1,
   "metadata": {},
   "outputs": [
    {
     "name": "stdout",
     "output_type": "stream",
     "text": [
      "Element is present at index 3\n"
     ]
    }
   ],
   "source": [
    "# Python 3 program for recursive binary search.\n",
    "# Modifications needed for the older Python 2 are found in comments.\n",
    "\n",
    "# Returns index of x in arr if present, else -1\n",
    "def binary_search(arr, low, high, x):\n",
    "\n",
    "\t# Check base case\n",
    "\tif high >= low:\n",
    "\n",
    "\t\tmid = (high + low) // 2\n",
    "\n",
    "\t\t# If element is present at the middle itself\n",
    "\t\tif arr[mid] == x:\n",
    "\t\t\treturn mid\n",
    "\n",
    "\t\t# If element is smaller than mid, then it can only\n",
    "\t\t# be present in left subarray\n",
    "\t\telif arr[mid] > x:\n",
    "\t\t\treturn binary_search(arr, low, mid - 1, x)\n",
    "\n",
    "\t\t# Else the element can only be present in right subarray\n",
    "\t\telse:\n",
    "\t\t\treturn binary_search(arr, mid + 1, high, x)\n",
    "\n",
    "\telse:\n",
    "\t\t# Element is not present in the array\n",
    "\t\treturn -1\n",
    "\n",
    "# Test array\n",
    "arr = [ 2, 3, 4, 10, 40 ]\n",
    "x = 10\n",
    "\n",
    "# Function call\n",
    "result = binary_search(arr, 0, len(arr)-1, x)\n",
    "\n",
    "if result != -1:\n",
    "\tprint(\"Element is present at index\", str(result))\n",
    "else:\n",
    "\tprint(\"Element is not present in array\")\n"
   ]
  },
  {
   "cell_type": "markdown",
   "metadata": {},
   "source": [
    "Time Complexity: O(log n)\n",
    "\n",
    "Auxiliary Space: O(logn)     [NOTE: Recursion creates Call Stack]"
   ]
  },
  {
   "cell_type": "markdown",
   "metadata": {},
   "source": [
    "## Python Program for Binary Search Using Iterative "
   ]
  },
  {
   "cell_type": "code",
   "execution_count": 2,
   "metadata": {},
   "outputs": [
    {
     "name": "stdout",
     "output_type": "stream",
     "text": [
      "Element is present at index 3\n"
     ]
    }
   ],
   "source": [
    "# Iterative Binary Search Function\n",
    "# It returns index of x in given array arr if present,\n",
    "# else returns -1\n",
    "def binary_search(arr, x):\n",
    "\tlow = 0\n",
    "\thigh = len(arr) - 1\n",
    "\tmid = 0\n",
    "\n",
    "\twhile low <= high:\n",
    "\n",
    "\t\tmid = (high + low) // 2\n",
    "\n",
    "\t\t# If x is greater, ignore left half\n",
    "\t\tif arr[mid] < x:\n",
    "\t\t\tlow = mid + 1\n",
    "\n",
    "\t\t# If x is smaller, ignore right half\n",
    "\t\telif arr[mid] > x:\n",
    "\t\t\thigh = mid - 1\n",
    "\n",
    "\t\t# means x is present at mid\n",
    "\t\telse:\n",
    "\t\t\treturn mid\n",
    "\n",
    "\t# If we reach here, then the element was not present\n",
    "\treturn -1\n",
    "\n",
    "\n",
    "# Test array\n",
    "arr = [ 2, 3, 4, 10, 40 ]\n",
    "x = 10\n",
    "\n",
    "# Function call\n",
    "result = binary_search(arr, x)\n",
    "\n",
    "if result != -1:\n",
    "\tprint(\"Element is present at index\", str(result))\n",
    "else:\n",
    "\tprint(\"Element is not present in array\")\n"
   ]
  },
  {
   "cell_type": "markdown",
   "metadata": {},
   "source": [
    "## Python Program for Binary Search Using the built-in bisect module\n",
    "\n",
    "#### Step by step approach:\n",
    "\n",
    "The code imports the bisect module which provides support for binary searching.\n",
    "\n",
    "The binary_search_bisect() function is defined which takes an array arr and the element to search x as inputs.\n",
    "\n",
    "The function calls the bisect_left() function of the bisect module which finds the position of the element in the sorted array arr \n",
    "where x should be inserted to maintain the sorted order. If the element is already present in the array, this function will return its position.\n",
    "\n",
    "The function then checks if the returned index i is within the range of the array and if the element at that index is equal to x.\n",
    "\n",
    "If the condition is true, then the function returns the index i as the position of the element in the array.\n",
    "\n",
    "If the condition is false, then the function returns -1 indicating that the element is not present in the array.\n",
    "\n",
    "The code then defines an array arr and an element x to search.\n",
    "\n",
    "The binary_search_bisect() function is called with arr and x as inputs and the returned result is stored in the result variable.\n",
    "\n",
    "The code then checks if the result is not equal to -1, indicating that the element is present in the array. If true, it prints the \n",
    "position of the element in the array.\n",
    "\n",
    "If the result is equal to -1, then the code prints a message that the element is not present in the array."
   ]
  },
  {
   "cell_type": "code",
   "execution_count": 3,
   "metadata": {},
   "outputs": [
    {
     "name": "stdout",
     "output_type": "stream",
     "text": [
      "Element is present at index 3\n"
     ]
    }
   ],
   "source": [
    "import bisect\n",
    "\n",
    "def binary_search_bisect(arr, x):\n",
    "\ti = bisect.bisect_left(arr, x)\n",
    "\tif i != len(arr) and arr[i] == x:\n",
    "\t\treturn i\n",
    "\telse:\n",
    "\t\treturn -1\n",
    "\n",
    "\n",
    "# Test array\n",
    "arr = [2, 3, 4, 10, 40]\n",
    "x = 10\n",
    "\n",
    "# Function call\n",
    "result = binary_search_bisect(arr, x)\n",
    "\n",
    "if result != -1:\n",
    "\tprint(\"Element is present at index\", str(result))\n",
    "else:\n",
    "\tprint(\"Element is not present in array\")\n"
   ]
  },
  {
   "cell_type": "markdown",
   "metadata": {},
   "source": [
    "Time Complexity: O(log n)\n",
    "\n",
    "Auxiliary Space: O(1)"
   ]
  }
 ],
 "metadata": {
  "kernelspec": {
   "display_name": "Python 3",
   "language": "python",
   "name": "python3"
  },
  "language_info": {
   "codemirror_mode": {
    "name": "ipython",
    "version": 3
   },
   "file_extension": ".py",
   "mimetype": "text/x-python",
   "name": "python",
   "nbconvert_exporter": "python",
   "pygments_lexer": "ipython3",
   "version": "3.9.13"
  }
 },
 "nbformat": 4,
 "nbformat_minor": 2
}
