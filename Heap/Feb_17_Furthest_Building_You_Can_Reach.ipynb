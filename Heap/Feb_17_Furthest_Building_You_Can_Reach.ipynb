{
 "cells": [
  {
   "cell_type": "markdown",
   "metadata": {},
   "source": [
    "# 1642. Furthest Building You Can Reach\n",
    "\n",
    "You are given an integer array `heights` representing the heights of buildings, some bricks, and some ladders.\n",
    "\n",
    "You start your journey from building 0 and move to the next building by possibly using bricks or ladders.\n",
    "\n",
    "While moving from building i to building i+1 (0-indexed),\n",
    "\n",
    "- If the current building's height is greater than or equal to the next building's height, you do not need a ladder or bricks.\n",
    "- If the current building's height is less than the next building's height, you can either use one ladder or `(h[i+1] - h[i])` bricks.\n",
    "\n",
    "Return the furthest building index (0-indexed) you can reach if you use the given ladders and bricks optimally.\n",
    "\n",
    "## Example 1:\n",
    "\n",
    "**Input:** \n",
    "```python\n",
    "heights = [4,2,7,6,9,14,12]\n",
    "bricks = 5\n",
    "ladders = 1\n",
    "```\n",
    "**Output:** \n",
    "```\n",
    "4\n",
    "```\n",
    "**Explanation:** Starting at building 0, you can follow these steps:\n",
    "- Go to building 1 without using ladders nor bricks since 4 >= 2.\n",
    "- Go to building 2 using 5 bricks. You must use either bricks or ladders because 2 < 7.\n",
    "- Go to building 3 without using ladders nor bricks since 7 >= 6.\n",
    "- Go to building 4 using your only ladder. You must use either bricks or ladders because 6 < 9.\n",
    "It is impossible to go beyond building 4 because you do not have any more bricks or ladders.\n",
    "\n",
    "## Example 2:\n",
    "\n",
    "**Input:** \n",
    "```python\n",
    "heights = [4,12,2,7,3,18,20,3,19]\n",
    "bricks = 10\n",
    "ladders = 2\n",
    "```\n",
    "**Output:** \n",
    "```\n",
    "7\n",
    "```\n",
    "\n",
    "## Example 3:\n",
    "\n",
    "**Input:** \n",
    "```python\n",
    "heights = [14,3,19,3]\n",
    "bricks = 17\n",
    "ladders = 0\n",
    "```\n",
    "**Output:** \n",
    "```\n",
    "3\n",
    "```\n",
    "## Constraints:\n",
    "\n",
    "- 1 <= heights.length <= 10^5\n",
    "- 1 <= heights[i] <= 10^6\n",
    "- 0 <= bricks <= 10^9\n",
    "- 0 <= ladders <= heights.length\n"
   ]
  },
  {
   "cell_type": "code",
   "execution_count": 2,
   "metadata": {},
   "outputs": [],
   "source": [
    "from typing import Optional, List\n",
    "import heapq"
   ]
  },
  {
   "cell_type": "markdown",
   "metadata": {},
   "source": [
    "###  Trail 1: 62 / 78 testcases passed\n",
    "\n",
    "The solution is not optimal about using bricks or ladders"
   ]
  },
  {
   "cell_type": "code",
   "execution_count": 3,
   "metadata": {},
   "outputs": [],
   "source": [
    "class Solution:\n",
    "    def furthestBuilding(self, heights: List[int], bricks: int, ladders: int) -> int:\n",
    "        if len(heights) != 0:\n",
    "            initial = heights[0]\n",
    "            for i in range(1,len(heights)):\n",
    "                diff = initial - heights[i]\n",
    "                if diff < 0:\n",
    "                    # Use bricks first because it limited by the height while ladders are not\n",
    "                    if bricks >= abs(diff):\n",
    "                        bricks -= abs(diff)\n",
    "                        initial = heights[i]\n",
    "                    elif ladders > 0:\n",
    "                        ladders -= 1\n",
    "                        initial = heights[i]\n",
    "                    else:\n",
    "                        return i-1\n",
    "                else:\n",
    "                    initial = heights[i]\n",
    "        #  Closed the Solution class definition properly with a closing parenthesis\n",
    "        # If we reach here, it means we can reach the last building\n",
    "        return len(heights) - 1"
   ]
  },
  {
   "cell_type": "markdown",
   "metadata": {},
   "source": [
    "### Trail 2: Optimal the solution, 74 / 78 testcases passed"
   ]
  },
  {
   "cell_type": "code",
   "execution_count": 21,
   "metadata": {},
   "outputs": [],
   "source": [
    "class Solution1:\n",
    "    def furthestBuilding(self, heights: List[int], bricks: int, ladders: int) -> int:\n",
    "\n",
    "        # if there's only one building or no buildings, the method returns 0.\n",
    "        if len(heights) <= 1:\n",
    "            return 0\n",
    "         \n",
    "        # Get to know the height difference between two adjacent buildings\n",
    "        # then decide the optimal way to use bricks or ladders\n",
    "        diffList = []\n",
    "        for i in range(1,len(heights)): # start from 2nd building \n",
    "            # Only when next building is higher, we need to use bricks/ladders\n",
    "            diff = max(0,  heights[i] - heights[i-1])\n",
    "            diffList.append(diff)\n",
    "\n",
    "\n",
    "        # Using ladders for the largest differences first and using bricks for the rest. \n",
    "        # This way, we can minimize the total number of bricks used.\n",
    "            \n",
    "        # This list will be used as a min-heap to keep track of the differences for which ladders have been used.\n",
    "        ladder_heap = []\n",
    "\n",
    "\n",
    "        for diff in diffList:\n",
    "            # checks if there are ladders. \n",
    "            # If there are, it uses a ladder for the current difference. \n",
    "            # It adds the difference to the ladder_heap and decrements the ladders count.\n",
    "            if ladders > 0:\n",
    "                heapq.heappush(ladder_heap, diff)\n",
    "                ladders -= 1\n",
    "            # if there are differences in the ladder_heap \n",
    "            # & if the current difference is greater than the smallest difference in the ladder_heap. \n",
    "            # --> Means: the current difference cannot be covered by a ladder bricks, so it uses ladder instead. \n",
    "            # It pops the smallest difference from the ladder_heap, adds it to the bricks, \n",
    "            # and pushes the current difference onto the ladder_heap.\n",
    "            # i.e., if there are ladders available, it's comparing the current difference with the smallest difference stored in ladder_heap. \n",
    "            # If the current difference is greater than the smallest difference in the heap, it uses bricks instead of ladders.\n",
    "            elif ladder_heap and diff > ladder_heap[0]:\n",
    "                bricks -= heapq.heappop(ladder_heap)\n",
    "                heapq.heappush(ladder_heap, diff)\n",
    "            # if neither ladders nor bricks are sufficient to cover the current difference. \n",
    "            # it returns the index of the building that could not be surpassed using the available resources.\n",
    "            else:\n",
    "                bricks -= diff\n",
    "                # if bricks become negative at any point during the process. \n",
    "                # it means that there were not enough resources to cover a certain difference, \n",
    "                # so it returns the index of the next building (the one that could not be surpassed).\n",
    "                if bricks < 0:\n",
    "                    # The index of the current difference diff from the diffList. \n",
    "                    # It finds the position of diff in the list.\n",
    "                    currentDiffInx  = diffList.index(diff) \n",
    "                    # Once we have the index of diff, we add 1 to it. \n",
    "                    # This gives us the index of the next difference in the original heights list.\n",
    "                    nextDiffInx = currentDiffInx + 1\n",
    "                    # We use the index found in the previous step to retrieve the corresponding height from the heights list. \n",
    "                    # This height represents the building that caused the current difference diff.\n",
    "                    currentBuilding = heights[nextDiffInx] \n",
    "                    # We find the index of the building obtained in the previous step within the original heights list. \n",
    "                    # This provides us with the index of the building that caused the current difference diff in the original heights list.\n",
    "                    BuildingInx = heights.index(currentBuilding) \n",
    "                    # Finally, we subtract 1 from the index of the building found in step 4. \n",
    "                    # This is because we want to return the index of the building that we cannot surpass using the available ladders and bricks. \n",
    "                    # Subtracting 1 ensures that we return the correct index in zero-based indexing,\n",
    "                    return BuildingInx - 1\n",
    "        #  Closed the Solution class definition properly with a closing parenthesis\n",
    "        # If we reach here, it means we can reach the last building\n",
    "        return len(heights) - 1"
   ]
  },
  {
   "cell_type": "code",
   "execution_count": 22,
   "metadata": {},
   "outputs": [
    {
     "data": {
      "text/plain": [
       "2"
      ]
     },
     "execution_count": 22,
     "metadata": {},
     "output_type": "execute_result"
    }
   ],
   "source": [
    "heights = [4,2,7,6,9,14,12]\n",
    "bricks = 5\n",
    "ladders = 1\n",
    "answer = Solution()\n",
    "answer.furthestBuilding(heights,bricks,ladders)"
   ]
  },
  {
   "cell_type": "code",
   "execution_count": 6,
   "metadata": {},
   "outputs": [
    {
     "data": {
      "text/plain": [
       "6"
      ]
     },
     "execution_count": 6,
     "metadata": {},
     "output_type": "execute_result"
    }
   ],
   "source": [
    "heights = [1,5,1,2,3,4,10000]\n",
    "bricks = 4\n",
    "ladders = 1\n",
    "answer = Solution1()\n",
    "answer.furthestBuilding(heights,bricks,ladders)"
   ]
  },
  {
   "cell_type": "code",
   "execution_count": 7,
   "metadata": {},
   "outputs": [
    {
     "data": {
      "text/plain": [
       "8"
      ]
     },
     "execution_count": 7,
     "metadata": {},
     "output_type": "execute_result"
    }
   ],
   "source": [
    "heights = [4,12,2,7,3,18,20,3,19]\n",
    "bricks = 10\n",
    "ladders = 2\n",
    "answer = Solution1()\n",
    "answer.furthestBuilding(heights,bricks,ladders)"
   ]
  },
  {
   "cell_type": "code",
   "execution_count": 8,
   "metadata": {},
   "outputs": [
    {
     "data": {
      "text/plain": [
       "1"
      ]
     },
     "execution_count": 8,
     "metadata": {},
     "output_type": "execute_result"
    }
   ],
   "source": [
    "heights = [4,2,7,6,9,14,12]\n",
    "bricks = 5\n",
    "ladders = 1\n",
    "answer = Solution1()\n",
    "answer.furthestBuilding(heights,bricks,ladders)"
   ]
  }
 ],
 "metadata": {
  "kernelspec": {
   "display_name": "Python 3",
   "language": "python",
   "name": "python3"
  },
  "language_info": {
   "codemirror_mode": {
    "name": "ipython",
    "version": 3
   },
   "file_extension": ".py",
   "mimetype": "text/x-python",
   "name": "python",
   "nbconvert_exporter": "python",
   "pygments_lexer": "ipython3",
   "version": "3.9.13"
  }
 },
 "nbformat": 4,
 "nbformat_minor": 2
}
