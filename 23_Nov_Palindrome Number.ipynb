{
 "cells": [
  {
   "cell_type": "markdown",
   "metadata": {},
   "source": [
    "### 9. Palindrome Number"
   ]
  },
  {
   "cell_type": "markdown",
   "metadata": {},
   "source": [
    "Given an integer x, return true if x is a palindrome, and false otherwise."
   ]
  },
  {
   "cell_type": "markdown",
   "metadata": {},
   "source": [
    "**Constraints:**\n",
    "\n",
    "-2^31 <= x <= 2^31 - 1"
   ]
  },
  {
   "cell_type": "markdown",
   "metadata": {},
   "source": [
    "**My Approach**\n",
    "1. Convert int X to str X, therefore, we can split one string X into multiple string sub_X\n",
    "2. Get 2 lists, originalList & palindromeList. OriginalList contains original sub_x elements. E.g.[1,2,3]. PalindromeList contains reversed sub_X elements. E.g. [3,2,1]\n",
    "3. Create a CheckList to check if at each corresponding position (1st, 2nd,...), original & reverse elements are matched respectively\n",
    "4. If at position t, original & reverse elements are matched, record a 'T' in the checkList. O/W return a False answer directly\n",
    "5. If the number of times that a 'T' is recorded are the same as the number of elements in a list, it indicates that for each position, original & reverse elements are matched. Return answer True"
   ]
  },
  {
   "cell_type": "code",
   "execution_count": 84,
   "metadata": {},
   "outputs": [],
   "source": [
    "class Solution:\n",
    "    def isPalindrome(x: int) -> bool:\n",
    "        originalList = []\n",
    "        palindromeList = []\n",
    "        \n",
    "        # Convert int to str\n",
    "        xString = str(x)\n",
    "\n",
    "        # Split one string X into multiple string sub_X\n",
    "        for i in range(len(xString)):\n",
    "            element = xString[i]\n",
    "            originalList.append(element)\n",
    "            palindromeList.append(element)\n",
    "        \n",
    "        # Reverse element [1,2,3] -> [3,2,1]\n",
    "        palindromeList.reverse()\n",
    "        \n",
    "        m = len(originalList)\n",
    "        # Check if at each position, original & reverse element are matched\n",
    "        checkList = []\n",
    "\n",
    "        for t in range(m):\n",
    "            # If at position t, original & reverse element match\n",
    "            if originalList[t] == palindromeList[t]:\n",
    "                # Record a 'T' in the check list\n",
    "                checkList.append('T')\n",
    "                continue\n",
    "            else:\n",
    "                # O/W return False answer directly\n",
    "                return False\n",
    "        \n",
    "        # If the 'T' recoreded times are the same as the list element numbers\n",
    "        # means for each position, original & reverse element match\n",
    "        if len(checkList) == m:\n",
    "            # Return answer True\n",
    "            return True"
   ]
  },
  {
   "cell_type": "code",
   "execution_count": 85,
   "metadata": {},
   "outputs": [
    {
     "data": {
      "text/plain": [
       "False"
      ]
     },
     "execution_count": 85,
     "metadata": {},
     "output_type": "execute_result"
    }
   ],
   "source": [
    "Solution.isPalindrome(1000021)"
   ]
  },
  {
   "cell_type": "code",
   "execution_count": 86,
   "metadata": {},
   "outputs": [
    {
     "data": {
      "text/plain": [
       "[3, 2, 1]"
      ]
     },
     "execution_count": 86,
     "metadata": {},
     "output_type": "execute_result"
    }
   ],
   "source": [
    "# Trick\n",
    "a = [1,2,3]\n",
    "a.reverse()\n",
    "a"
   ]
  },
  {
   "cell_type": "markdown",
   "metadata": {},
   "source": [
    "**Example 1:**\n",
    "Input: x = 121\n",
    "\n",
    "Output: true\n",
    "\n",
    "Explanation: 121 reads as 121 from left to right and from right to left.\n",
    "\n",
    "**Example 2:**\n",
    "Input: x = -121\n",
    "\n",
    "Output: false\n",
    "\n",
    "Explanation: From left to right, it reads -121. From right to left, it becomes 121-. Therefore it is not a palindrome.\n",
    "\n",
    "**Example 3:**\n",
    "Input: x = 10\n",
    "\n",
    "Output: false\n",
    "\n",
    "Explanation: Reads 01 from right to left. Therefore it is not a palindrome."
   ]
  }
 ],
 "metadata": {
  "kernelspec": {
   "display_name": "Python 3.9.13 64-bit",
   "language": "python",
   "name": "python3"
  },
  "language_info": {
   "codemirror_mode": {
    "name": "ipython",
    "version": 3
   },
   "file_extension": ".py",
   "mimetype": "text/x-python",
   "name": "python",
   "nbconvert_exporter": "python",
   "pygments_lexer": "ipython3",
   "version": "3.9.13"
  },
  "orig_nbformat": 4,
  "vscode": {
   "interpreter": {
    "hash": "e24dad31b70f1ca84e4fa801b027387d3dbd09bc703469d381e644d7caa34431"
   }
  }
 },
 "nbformat": 4,
 "nbformat_minor": 2
}
