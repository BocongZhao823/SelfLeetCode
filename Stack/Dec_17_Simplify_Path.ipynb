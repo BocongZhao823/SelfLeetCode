{
 "cells": [
  {
   "cell_type": "markdown",
   "metadata": {},
   "source": [
    "# 71. Simplify Path\n",
    "\n",
    "Given a string path, which is an absolute path (starting with a slash '/') to a file or directory in a Unix-style file system, convert it to the simplified canonical path.\n",
    "\n",
    "In a Unix-style file system, a period '.' refers to the current directory, a double period '..' refers to the directory up a level, and any multiple consecutive slashes (i.e. '//') are treated as a single slash '/'. For this problem, any other format of periods such as '...' are treated as file/directory names.\n",
    "\n",
    "The canonical path should have the following format:\n",
    "\n",
    "The path starts with a single slash '/'.\n",
    "\n",
    "Any two directories are separated by a single slash '/'.\n",
    "\n",
    "The path does not end with a trailing '/'.\n",
    "\n",
    "The path only contains the directories on the path from the root directory to the target file or directory (i.e., no period '.' or double period '..')\n",
    "\n",
    "Return the simplified canonical path.\n",
    "\n",
    " \n",
    "\n",
    "### Example 1:\n",
    "\n",
    "Input: path = \"/home/\"\n",
    "\n",
    "Output: \"/home\"\n",
    "\n",
    "Explanation: Note that there is no trailing slash after the last directory name.\n",
    "\n",
    "### Example 2:\n",
    "\n",
    "Input: path = \"/../\"\n",
    "\n",
    "Output: \"/\"\n",
    "\n",
    "Explanation: Going one level up from the root directory is a no-op, as the root level is the highest level you can go.\n",
    "\n",
    "### Example 3:\n",
    "\n",
    "Input: path = \"/home//foo/\"\n",
    "\n",
    "Output: \"/home/foo\"\n",
    "\n",
    "Explanation: In the canonical path, multiple consecutive slashes are replaced by a single one.\n",
    " \n",
    "### Constraints:\n",
    "\n",
    "1 <= path.length <= 3000\n",
    "\n",
    "path consists of English letters, digits, period '.', slash '/' or '_'.\n",
    "\n",
    "path is a valid absolute Unix path."
   ]
  },
  {
   "cell_type": "markdown",
   "metadata": {},
   "source": [
    "## Analysis \n",
    "\n",
    "When resolving `..`, you move up one level in the directory structure, effectively canceling out the preceding directory. On the other hand, when resolving `.` in a path, you stay in the current directory, so it doesn't affect the overall structure.\n",
    "\n",
    "So, for resolving `..`, you go up one level, and for resolving `.` you essentially remove it, as it has no effect on the directory structure. The goal is to simplify the path by navigating up and down the directory tree as needed.\n",
    "\n",
    "Here's a summary:\n",
    "\n",
    "- `/home/user/../file.txt` is resolved to `/home/file.txt` (the `user/..` is canceled out).\n",
    "- `/etc/./samba/smb/./conf` is resolved to `/etc/samba/smb/conf` (the `./` is removed).\n",
    "\n",
    "When simplifying a path, you eliminate unnecessary components while maintaining the overall directory structure."
   ]
  },
  {
   "cell_type": "markdown",
   "metadata": {},
   "source": [
    "### More\n",
    "\n",
    "Let's go through an example involving \"...\" and clarify the rule about multiple consecutive slashes.\n",
    "\n",
    "**Example with \"...\" and Multiple Consecutive Slashes:**\n",
    "\n",
    "```plaintext\n",
    "Input: \"/var/.../data//../logs/./file.txt\"\n",
    "```\n",
    "\n",
    "1. Resolve \"...\" (treat as a file/directory name): \"/var/.../data//../logs/./file.txt\" -> \"/var/.../data/../logs/./file.txt\"\n",
    "2. Simplify multiple consecutive slashes: \"/var/.../data/../logs/./file.txt\" -> \"/var/.../data/../logs/file.txt\"\n",
    "3. Resolve \"..\": \"/var/.../data/../logs/file.txt\" -> \"/var/.../logs/file.txt\"\n",
    "4. Resolve \".\": \"/var/.../logs/file.txt\" -> \"/var/.../logs/file.txt\"\n",
    "5. Ensure the path starts with a single slash: \"/var/.../logs/file.txt\" -> \"/var/.../logs/file.txt\"\n",
    "6. Remove the trailing slash (if any): \"/var/.../logs/file.txt\" -> \"/var/.../logs/file.txt\"\n",
    "7. The final simplified canonical path: \"/var/.../logs/file.txt\"\n",
    "\n",
    "In this example, \"...\" is treated as a file/directory name, and multiple consecutive slashes are simplified to a single slash."
   ]
  },
  {
   "cell_type": "code",
   "execution_count": 1,
   "metadata": {},
   "outputs": [],
   "source": [
    "# Reversed the path \n",
    "# resortPath = []\n",
    "# for i in range(len(newPath) -1, -1, -1):\n",
    "#     resortPath.append(newPath[i])\n",
    "# print(resortPath)"
   ]
  },
  {
   "cell_type": "markdown",
   "metadata": {},
   "source": [
    "##  This solution 110 / 258 testcases passed --> Haven't solve \"/a/./b/../../c/\""
   ]
  },
  {
   "cell_type": "code",
   "execution_count": 2,
   "metadata": {},
   "outputs": [],
   "source": [
    "class Solution:\n",
    "    def simplifyPath(self, path: str) -> str:\n",
    "        # Split the path by \"/\"\n",
    "        path = path.split(\"/\") # \"/var/.../data//../logs/./file.txt\" --> ['', 'var', '...', 'data', '', '..', 'logs', '.', 'file.txt']\n",
    "        print(\"split path \",path)\n",
    "        \n",
    "        # Since if \"//\", after split by \"/\" it become \"\", so we can avoid \"\" --> i.e., simplify // to /\n",
    "        newPath = []\n",
    "        for element in path:\n",
    "            if element != '' and element != \".\":\n",
    "                newPath.append(element)\n",
    "        print(\"Avoid // and . \",newPath)\n",
    "\n",
    "        # Check if \"..\" exist, if it exist, get back to previous level\n",
    "        stack = []\n",
    "        for i in range(len(newPath)):\n",
    "            \n",
    "            if not stack and newPath[i] != \"..\":\n",
    "                stack.append(newPath[i])\n",
    "            elif not stack and newPath[i] == \"..\":\n",
    "                if len(newPath) == 1:\n",
    "                    return \"/\"\n",
    "                else:\n",
    "                    pass\n",
    "            elif not not stack:\n",
    "                if stack.pop() != \"..\" :\n",
    "                    stack.append(newPath[i-1])\n",
    "                    stack.append(newPath[i])\n",
    "                    \n",
    "        print(\"Avoid .. \", stack)\n",
    "\n",
    "        # Add \"/\" back \n",
    "        simplePath = \"\"\n",
    "        for element in stack:\n",
    "            simplePath += \"/\" \n",
    "            simplePath += element\n",
    "        \n",
    "        return simplePath\n",
    "       "
   ]
  },
  {
   "cell_type": "markdown",
   "metadata": {},
   "source": [
    "## Solution 1 worked --> 258 / 258 testcases passed "
   ]
  },
  {
   "cell_type": "code",
   "execution_count": 3,
   "metadata": {},
   "outputs": [],
   "source": [
    "class Solution1:\n",
    "    def simplifyPath(self, path: str) -> str:\n",
    "    \n",
    "        # Split the path by \"/\"\n",
    "        path = path.split(\"/\") # \"/var/.../data//../logs/./file.txt\" --> ['', 'var', '...', 'data', '', '..', 'logs', '.', 'file.txt']\n",
    "        print(\"split path \",path)\n",
    "        \n",
    "        # Since if \"//\", after split by \"/\" it become \"\", so we can avoid \"\" --> i.e., simplify // to /\n",
    "        newPath = []\n",
    "        for element in path:\n",
    "            if element != '' and element != \".\":\n",
    "                newPath.append(element)\n",
    "        print(\"Avoid // and . \",newPath)\n",
    "\n",
    "        # If path contains only \"/\" --> E.g., \"///\" or \"/\"\n",
    "        if len(newPath) == 0:\n",
    "            return \"/\" \n",
    "        else:\n",
    "            # Check if \"..\" exist, if it exist, get back to previous level\n",
    "            stack = []\n",
    "            for i in range(len(newPath)):\n",
    "                if not stack and newPath[i] == \"..\":\n",
    "                    if len(newPath) == 1:\n",
    "                        return \"/\"\n",
    "                    else:\n",
    "                        pass\n",
    "                elif newPath[i] != \"..\":\n",
    "                    stack.append(newPath[i])\n",
    "                else:\n",
    "                    stack.pop()\n",
    "                    \n",
    "        print(\"Avoid .. \", stack)\n",
    "\n",
    "        # Add \"/\" back \n",
    "        simplePath = \"\"\n",
    "        for element in stack:\n",
    "            simplePath += \"/\" \n",
    "            simplePath += element\n",
    "        \n",
    "        if simplePath == \"\":\n",
    "            return \"/\"\n",
    "        else:\n",
    "            return simplePath"
   ]
  },
  {
   "cell_type": "code",
   "execution_count": 4,
   "metadata": {},
   "outputs": [
    {
     "name": "stdout",
     "output_type": "stream",
     "text": [
      "split path  ['', 'home', '..', '..', '..']\n",
      "Avoid // and .  ['home', '..', '..', '..']\n",
      "Avoid ..  []\n"
     ]
    },
    {
     "data": {
      "text/plain": [
       "'/'"
      ]
     },
     "execution_count": 4,
     "metadata": {},
     "output_type": "execute_result"
    }
   ],
   "source": [
    "path = \"/home/../../..\"\n",
    "sol = Solution1()\n",
    "sol.simplifyPath(path)"
   ]
  },
  {
   "cell_type": "code",
   "execution_count": 5,
   "metadata": {},
   "outputs": [
    {
     "name": "stdout",
     "output_type": "stream",
     "text": [
      "split path  ['', '...']\n",
      "Avoid // and .  ['...']\n",
      "Avoid ..  ['...']\n"
     ]
    },
    {
     "data": {
      "text/plain": [
       "'/...'"
      ]
     },
     "execution_count": 5,
     "metadata": {},
     "output_type": "execute_result"
    }
   ],
   "source": [
    "path = \"/...\"\n",
    "sol = Solution1()\n",
    "sol.simplifyPath(path)"
   ]
  },
  {
   "cell_type": "code",
   "execution_count": 6,
   "metadata": {},
   "outputs": [
    {
     "name": "stdout",
     "output_type": "stream",
     "text": [
      "split path  ['', 'a', '..', '..', 'b', '..', 'c', '', '.', '', '']\n",
      "Avoid // and .  ['a', '..', '..', 'b', '..', 'c']\n",
      "Avoid ..  ['c']\n"
     ]
    },
    {
     "data": {
      "text/plain": [
       "'/c'"
      ]
     },
     "execution_count": 6,
     "metadata": {},
     "output_type": "execute_result"
    }
   ],
   "source": [
    "path = \"/a/../../b/../c//.//\"\n",
    "sol = Solution1()\n",
    "sol.simplifyPath(path)"
   ]
  },
  {
   "cell_type": "code",
   "execution_count": 7,
   "metadata": {},
   "outputs": [
    {
     "name": "stdout",
     "output_type": "stream",
     "text": [
      "split path  ['', 'a', '.', 'b', '..', '..', 'c', '']\n",
      "Avoid // and .  ['a', 'b', '..', '..', 'c']\n",
      "Avoid ..  ['c']\n"
     ]
    },
    {
     "data": {
      "text/plain": [
       "'/c'"
      ]
     },
     "execution_count": 7,
     "metadata": {},
     "output_type": "execute_result"
    }
   ],
   "source": [
    "path = \"/a/./b/../../c/\"\n",
    "sol = Solution1()\n",
    "sol.simplifyPath(path)"
   ]
  },
  {
   "cell_type": "code",
   "execution_count": 8,
   "metadata": {},
   "outputs": [
    {
     "name": "stdout",
     "output_type": "stream",
     "text": [
      "split path  ['', '..', '']\n",
      "Avoid // and .  ['..']\n"
     ]
    },
    {
     "data": {
      "text/plain": [
       "'/'"
      ]
     },
     "execution_count": 8,
     "metadata": {},
     "output_type": "execute_result"
    }
   ],
   "source": [
    "path = \"/../\"\n",
    "sol = Solution1()\n",
    "sol.simplifyPath(path)"
   ]
  },
  {
   "cell_type": "code",
   "execution_count": 9,
   "metadata": {},
   "outputs": [
    {
     "name": "stdout",
     "output_type": "stream",
     "text": [
      "split path  ['', '..', 'var', '...', 'data', '', '..', 'logs', '.', 'file.txt']\n",
      "Avoid // and .  ['..', 'var', '...', 'data', '..', 'logs', 'file.txt']\n",
      "Avoid ..  ['var', '...', 'logs', 'file.txt']\n"
     ]
    },
    {
     "data": {
      "text/plain": [
       "'/var/.../logs/file.txt'"
      ]
     },
     "execution_count": 9,
     "metadata": {},
     "output_type": "execute_result"
    }
   ],
   "source": [
    "path = \"/../var/.../data//../logs/./file.txt\"\n",
    "sol = Solution1()\n",
    "sol.simplifyPath(path)"
   ]
  },
  {
   "cell_type": "markdown",
   "metadata": {},
   "source": [
    "## Solution 2 is a simplified version of solution 1"
   ]
  },
  {
   "cell_type": "code",
   "execution_count": 10,
   "metadata": {},
   "outputs": [],
   "source": [
    "class Solution2:\n",
    "    def simplifyPath(self, path: str) -> str:\n",
    "        # Split the path by \"/\" --> The path is split into components using `path.split(\"/\")`.\n",
    "        path_components = path.split(\"/\")\n",
    "\n",
    "        # A stack is simulated to handle \"..\"\n",
    "        stack = []\n",
    "        for component in path_components:\n",
    "            # If \"..\" is encountered, it simulates moving up one directory level by popping the last element from the stack.\n",
    "            if component == \"..\":\n",
    "                if stack:\n",
    "                    stack.pop()\n",
    "            # Empty strings and periods are excluded during the iteration.\n",
    "            elif component and component != \".\":\n",
    "                stack.append(component)\n",
    "\n",
    "        # Build the simplified canonical path\n",
    "        # The simplified canonical path is constructed using `\"/\".join`.\n",
    "        result = \"/\" + \"/\".join(stack)\n",
    "\n",
    "        # The result is returned, and if it is an empty string, \"/\" is returned.\n",
    "        return result if result != \"/\" else \"/\""
   ]
  },
  {
   "cell_type": "code",
   "execution_count": 11,
   "metadata": {},
   "outputs": [
    {
     "data": {
      "text/plain": [
       "'/var/.../logs/file.txt'"
      ]
     },
     "execution_count": 11,
     "metadata": {},
     "output_type": "execute_result"
    }
   ],
   "source": [
    "path = \"/../var/.../data//../logs/./file.txt\"\n",
    "sol = Solution2()\n",
    "sol.simplifyPath(path)"
   ]
  },
  {
   "cell_type": "markdown",
   "metadata": {},
   "source": [
    "Certainly! Let's break down the logic in the following part of the code:\n",
    "\n",
    "```python\n",
    "# Simulate stack to handle \"..\"\n",
    "stack = []\n",
    "for component in path_components:\n",
    "    if component == \"..\":\n",
    "        if stack:\n",
    "            stack.pop()\n",
    "    elif component and component != \".\":\n",
    "        stack.append(component)\n",
    "\n",
    "# Build the simplified canonical path\n",
    "result = \"/\" + \"/\".join(stack)\n",
    "\n",
    "# The result is returned, and if it is an empty string, \"/\" is returned.\n",
    "return result if result != \"/\" else \"/\"\n",
    "```\n",
    "\n",
    "1. **Simulating Stack to Handle \"..\":**\n",
    "   - The `stack` is a list that simulates a stack data structure.\n",
    "   - The loop iterates over each component of the path (`path_components`).\n",
    "   - If the component is \"..\":\n",
    "     - If the `stack` is not empty, it simulates moving up one directory level by popping the last element from the stack (`stack.pop()`). This effectively handles the \"..\" case.\n",
    "   - If the component is not \"..\" and not an empty string:\n",
    "     - It checks that the component is not an empty string (`component`) and is not a single period (`component != \".\"`).\n",
    "     - If these conditions are met, it appends the component to the stack (`stack.append(component)`). This step is for adding valid directory or file names to the simulated stack.\n",
    "\n",
    "2. **Building the Simplified Canonical Path:**\n",
    "   - After the loop, the simplified canonical path is constructed by joining the elements in the stack with slashes (`\"/\".join(stack)`).\n",
    "   - The result is then prefixed with a single slash (`\"/\" + ...`) to ensure the path starts with a slash.\n",
    "\n",
    "3. **Returning the Result:**\n",
    "   - The final result is returned.\n",
    "   - If the result is an empty string (meaning the original path had consecutive slashes or other cases that resulted in an empty stack), it returns \"/\" to comply with the requirement that the path should start with a single slash.\n",
    "\n",
    "This logic ensures that valid components are added to the stack, and the stack is appropriately modified when encountering \"..\". The final result is the simplified canonical path."
   ]
  }
 ],
 "metadata": {
  "kernelspec": {
   "display_name": "Python 3",
   "language": "python",
   "name": "python3"
  },
  "language_info": {
   "codemirror_mode": {
    "name": "ipython",
    "version": 3
   },
   "file_extension": ".py",
   "mimetype": "text/x-python",
   "name": "python",
   "nbconvert_exporter": "python",
   "pygments_lexer": "ipython3",
   "version": "3.9.13"
  }
 },
 "nbformat": 4,
 "nbformat_minor": 2
}
