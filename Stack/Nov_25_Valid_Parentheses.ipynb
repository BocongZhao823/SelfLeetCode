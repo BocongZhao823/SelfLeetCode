{
 "cells": [
  {
   "cell_type": "markdown",
   "metadata": {},
   "source": [
    "# 20 Valid Parentheses\n",
    "\n",
    "Given a string s containing just the characters '(', ')', '{', '}', '[' and ']', determine if the input string is valid.\n",
    "\n",
    "An input string is valid if:\n",
    "\n",
    "Open brackets must be closed by the same type of brackets.\n",
    "\n",
    "Open brackets must be closed in the correct order.\n",
    "\n",
    "Every close bracket has a corresponding open bracket of the same type.\n",
    " \n",
    "\n",
    "### Example 1:\n",
    "\n",
    "Input: s = \"()\"\n",
    "\n",
    "Output: true\n",
    "\n",
    "### Example 2:\n",
    "\n",
    "Input: s = \"()[]{}\"\n",
    "\n",
    "Output: true\n",
    "\n",
    "### Example 3:\n",
    "\n",
    "Input: s = \"(]\"\n",
    "\n",
    "Output: false\n",
    " \n",
    "### Constraints:\n",
    "\n",
    "1 <= s.length <= 104\n",
    "\n",
    "s consists of parentheses only '()[]{}'."
   ]
  },
  {
   "cell_type": "code",
   "execution_count": 1,
   "metadata": {},
   "outputs": [],
   "source": [
    "# Not enough \n",
    "# Only consider \"[],{},()\" situation, not nested situation \"{[]}\"\n",
    "class Solution:\n",
    "    def isValid(s: str) -> bool:\n",
    "\n",
    "        #symbol = ['(',')','[',']','{','}']\n",
    "        symbolL = ['(','[','{']\n",
    "        symbolR = [')',']','}']\n",
    "\n",
    "        check = []\n",
    "        for i in range(len(s)):\n",
    "            if i < len(s) - 1:\n",
    "                for t in range(len(symbolL)):\n",
    "                    if s[i] == symbolL[t] and s[i+1] == symbolR[t]:\n",
    "                        check.append('T')\n",
    "        \n",
    "        if len(check) == len(s)/2:\n",
    "            return True\n",
    "        else:\n",
    "            return False"
   ]
  },
  {
   "cell_type": "markdown",
   "metadata": {},
   "source": [
    "## This solution --> 79 / 96 testcases passed"
   ]
  },
  {
   "cell_type": "markdown",
   "metadata": {},
   "source": [
    "There are a few issues in this code.\n",
    "\n",
    "1. The main issue is in the loop where you try to pop elements based on the cut positions. After the first pop, the indices in the `cut` list become invalid, leading to unexpected behavior.\n",
    "\n",
    "2. The logic for checking symmetry seems overly complicated. We can simplify it.\n",
    "\n",
    "3. Instead of using two separate lists (`symbolL` and `symbolR`), you can use a dictionary to map the left symbols to their corresponding right symbols. This will simplify the code and make it more readable."
   ]
  },
  {
   "cell_type": "code",
   "execution_count": 2,
   "metadata": {},
   "outputs": [],
   "source": [
    "class Solution:\n",
    "    def isValid(s: str) -> bool:\n",
    "\n",
    "        #symbol = ['(',')','[',']','{','}']\n",
    "        symbolL = ['(','[','{']\n",
    "        symbolR = [')',']','}']\n",
    "\n",
    "        inputSplit = []\n",
    "        for element in s:\n",
    "            inputSplit.append(element)\n",
    "        print(\"input\", inputSplit)\n",
    "\n",
    "        # Find the left symbol's position of all paired symbols\n",
    "        cut = []\n",
    "        for i in range(len(s) -1 ):\n",
    "            for t in range(len(symbolL)):\n",
    "                if s[i] == symbolL[t] and s[i+1] == symbolR[t]:\n",
    "                    cut.append(i)\n",
    "        print(\"The position(s)\",cut)\n",
    "\n",
    "        # Case 1: total input symbols are not a even number \n",
    "        if len(inputSplit) % 2 != 0:\n",
    "            return False\n",
    "\n",
    "        # Case 1: \"(}\"\n",
    "        # If cut list is empty, indicates there is no paried symbols\n",
    "        elif len(cut) == 0:\n",
    "            return False\n",
    "\n",
    "        # Case 2: \"()[]{}\"\n",
    "        # If there is NO nested symbols\n",
    "        elif len(cut) == len(s)/2:\n",
    "            return True\n",
    "            \n",
    "        # Case 3 & 4: \n",
    "        # If there are nested symbols\n",
    "        elif len(cut) != 0:\n",
    "            \n",
    "            # Split by the 1st cut position, check if bilateral symmetry        \n",
    "            leftList = s[:cut[0]+1]\n",
    "            rightList = s[cut[0]+1:]\n",
    "            print(\"my left part is\",leftList) \n",
    "            print(\"my right part is\", rightList)\n",
    "            rightSplit = []\n",
    "            for element in rightList:\n",
    "                rightSplit.append(element)\n",
    "                \n",
    "            # Case 3: \"{[]}\"\n",
    "            # Symmertry nested \n",
    "            if len(leftList) == len(rightList):\n",
    "                rightSplit.reverse()\n",
    "                print(\"reversed right part is\",rightSplit)\n",
    "                check = []\n",
    "                for p in range(len(leftList)):\n",
    "                    for t in range(len(symbolL)):\n",
    "                        if leftList[p] == symbolL[t]  and rightSplit[p] == symbolR[t]:   \n",
    "                            check.append('T')\n",
    "        \n",
    "                print(check)\n",
    "                if len(check) == len(leftList):\n",
    "                    return True\n",
    "                else:\n",
    "                    return False\n",
    "                \n",
    "            # Case 4: \"( ([]) {})\"\n",
    "            # Non-Symmertry nested \n",
    "            else:\n",
    "                # If the whole input list is not null & the left over numbers are even\n",
    "                for myLoop in range(int(len(inputSplit)/2)):\n",
    "                    cut = []\n",
    "                    for i in range(len(inputSplit) -1 ):\n",
    "                        for t in range(len(symbolL)):\n",
    "                            if s[i] == symbolL[t] and s[i+1] == symbolR[t]:\n",
    "                                cut.append(i)\n",
    "                                print(\"1st cut position is\",cut)\n",
    "                                \n",
    "                                inputSplit.pop( cut[0] )\n",
    "                                print(\"After delete left\",inputSplit)\n",
    "                                inputSplit.pop( cut[0] )\n",
    "                                print(\"After delete right\",inputSplit)\n",
    "                \n",
    "                #print(cut)\n",
    "                #return False"
   ]
  },
  {
   "cell_type": "code",
   "execution_count": 3,
   "metadata": {},
   "outputs": [
    {
     "data": {
      "text/plain": [
       "[2, 3]"
      ]
     },
     "execution_count": 3,
     "metadata": {},
     "output_type": "execute_result"
    }
   ],
   "source": [
    "a = [1,2,3]\n",
    "a.pop(0)\n",
    "a"
   ]
  },
  {
   "cell_type": "code",
   "execution_count": 4,
   "metadata": {},
   "outputs": [
    {
     "name": "stdout",
     "output_type": "stream",
     "text": [
      "input ['(', '}']\n",
      "The position(s) []\n"
     ]
    },
    {
     "data": {
      "text/plain": [
       "False"
      ]
     },
     "execution_count": 4,
     "metadata": {},
     "output_type": "execute_result"
    }
   ],
   "source": [
    "# Case 1:\n",
    "Solution.isValid(\"(}\")"
   ]
  },
  {
   "cell_type": "code",
   "execution_count": 5,
   "metadata": {},
   "outputs": [
    {
     "name": "stdout",
     "output_type": "stream",
     "text": [
      "input ['(', ')', '[', ']', '{', '}']\n",
      "The position(s) [0, 2, 4]\n"
     ]
    },
    {
     "data": {
      "text/plain": [
       "True"
      ]
     },
     "execution_count": 5,
     "metadata": {},
     "output_type": "execute_result"
    }
   ],
   "source": [
    "# Case 2:\n",
    "Solution.isValid(\"()[]{}\")"
   ]
  },
  {
   "cell_type": "code",
   "execution_count": 6,
   "metadata": {},
   "outputs": [
    {
     "name": "stdout",
     "output_type": "stream",
     "text": [
      "input ['{', '[', ']', '}']\n",
      "The position(s) [1]\n",
      "my left part is {[\n",
      "my right part is ]}\n",
      "reversed right part is ['}', ']']\n",
      "['T', 'T']\n"
     ]
    },
    {
     "data": {
      "text/plain": [
       "True"
      ]
     },
     "execution_count": 6,
     "metadata": {},
     "output_type": "execute_result"
    }
   ],
   "source": [
    "# Case 3:\n",
    "Solution.isValid(\"{[]}\")"
   ]
  },
  {
   "cell_type": "code",
   "execution_count": 7,
   "metadata": {},
   "outputs": [
    {
     "name": "stdout",
     "output_type": "stream",
     "text": [
      "input ['(', '(', '[', ']', ')', '{', '}', ')']\n",
      "The position(s) [2, 5]\n",
      "my left part is (([\n",
      "my right part is ]){})\n",
      "1st cut position is [2]\n",
      "After delete left ['(', '(', ']', ')', '{', '}', ')']\n",
      "After delete right ['(', '(', ')', '{', '}', ')']\n",
      "1st cut position is [2, 5]\n",
      "After delete left ['(', '(', '{', '}', ')']\n",
      "After delete right ['(', '(', '}', ')']\n",
      "1st cut position is [2]\n",
      "After delete left ['(', '(', ')']\n",
      "After delete right ['(', '(']\n"
     ]
    }
   ],
   "source": [
    "# Case 4:\n",
    "Solution.isValid(\"(([]){})\")"
   ]
  },
  {
   "cell_type": "markdown",
   "metadata": {},
   "source": [
    "## modified version Solution 1 \n",
    "\n",
    "uses a stack to keep track of the opening symbols. It iterates through the input string, and when it encounters an opening symbol, it pushes it onto the stack. When it encounters a closing symbol, it checks if the stack is empty or if the top of the stack matches the corresponding opening symbol. If not, it returns False. Finally, it checks if the stack is empty at the end, ensuring that all opening symbols have matching closing symbols."
   ]
  },
  {
   "cell_type": "code",
   "execution_count": 11,
   "metadata": {},
   "outputs": [],
   "source": [
    "class Solution1:\n",
    "    def isValid(self, s: str) -> bool:\n",
    "        symbol_map = {')': '(', ']': '[', '}': '{'}\n",
    "        stack = []\n",
    "\n",
    "        for char in s:\n",
    "            if char in symbol_map.values():\n",
    "                stack.append(char)\n",
    "            elif char in symbol_map.keys():\n",
    "                if not stack or stack.pop() != symbol_map[char]:\n",
    "                    return False\n",
    "            else:\n",
    "                return False  # Invalid character\n",
    "\n",
    "        return not stack  # Check if the stack is empty at the end"
   ]
  },
  {
   "cell_type": "code",
   "execution_count": 12,
   "metadata": {},
   "outputs": [
    {
     "name": "stdout",
     "output_type": "stream",
     "text": [
      "True\n"
     ]
    }
   ],
   "source": [
    "# Example usage:\n",
    "solution = Solution1()\n",
    "print(solution.isValid(\"(([]){})\"))  # Output: True"
   ]
  },
  {
   "cell_type": "markdown",
   "metadata": {},
   "source": [
    "Let's go through the code line by line to understand its functionality:\n",
    "\n",
    "```python\n",
    "class Solution:\n",
    "    def isValid(self, s: str) -> bool:\n",
    "```\n",
    "\n",
    "1. `class Solution:`: Defines a class named `Solution`.\n",
    "\n",
    "2. `def isValid(self, s: str) -> bool:`: Defines a method named `isValid` within the `Solution` class. This method takes a string `s` as input and returns a boolean (`True` if the input is valid, `False` otherwise).\n",
    "\n",
    "```python\n",
    "symbol_map = {')': '(', ']': '[', '}': '{'}\n",
    "```\n",
    "\n",
    "3. `symbol_map = {')': '(', ']': '[', '}': '{'}`: Creates a dictionary `symbol_map` that maps closing symbols to their corresponding opening symbols. This is used to check for matching pairs.\n",
    "\n",
    "```python\n",
    "stack = []\n",
    "```\n",
    "\n",
    "4. `stack = []`: Initializes an empty list called `stack`. This list will be used as a stack to keep track of opening symbols encountered in the input string.\n",
    "\n",
    "```python\n",
    "for char in s:\n",
    "```\n",
    "\n",
    "5. `for char in s:`: Iterates through each character in the input string `s`.\n",
    "\n",
    "```python\n",
    "    if char in symbol_map.values():\n",
    "        stack.append(char)\n",
    "```\n",
    "\n",
    "6. `if char in symbol_map.values():`: Checks if the current character is an opening symbol by looking it up in the `symbol_map.values()`.\n",
    "\n",
    "7. `stack.append(char)`: If the character is an opening symbol, it is added to the stack.\n",
    "\n",
    "```python\n",
    "    elif char in symbol_map.keys():\n",
    "        if not stack or stack.pop() != symbol_map[char]:\n",
    "            return False\n",
    "```\n",
    "\n",
    "8. `elif char in symbol_map.keys():`: Checks if the current character is a closing symbol by looking it up in the `symbol_map.keys()`.\n",
    "\n",
    "9. `if not stack or stack.pop() != symbol_map[char]:`: Checks if the stack is empty or if the top of the stack does not match the corresponding opening symbol. If either condition is true, the function returns `False`. For example if it is \"{()[()]}\" --> then { is the 1st top in the stack (as it is an open sign), then ( is the 1st top. Then ) is the key and match the current 1st top (, but ( is pop out so that it can compare with ). So now the 1st top in the stack is { again. Then continuous... \n",
    "\n",
    "```python\n",
    "    else:\n",
    "        return False  # Invalid character\n",
    "```\n",
    "\n",
    "10. `else: return False`: If the character is neither an opening nor a closing symbol (invalid character), the function returns `False`.\n",
    "\n",
    "```python\n",
    "return not stack  # Check if the stack is empty at the end\n",
    "```\n",
    "\n",
    "11. `return not stack`: Returns `True` if the stack is empty at the end, indicating that all opening symbols have matching closing symbols. If the stack is not empty, it returns `False`.\n",
    "\n",
    "In summary, the code uses a stack to keep track of opening symbols encountered in the input string. It checks for matching pairs of opening and closing symbols using a dictionary (`symbol_map`). If the input is valid, the stack will be empty at the end, and the function returns `True`; otherwise, it returns `False`. This approach is a common and efficient way to solve the problem of validating parentheses and brackets."
   ]
  },
  {
   "cell_type": "markdown",
   "metadata": {},
   "source": [
    "## More\n",
    "\n",
    "In Python, the `not stack` expression is used to check if the list (or any iterable) is empty. In a boolean context, an empty list evaluates to `False`, and a non-empty list evaluates to `True`. Therefore, `not stack` is `True` when the stack is empty and `False` when the stack is not empty.\n",
    "\n",
    "This works because Python considers an empty list as falsy and a non-empty list as truthy when used in a boolean context. Using `not stack` is a concise and idiomatic way to check if the stack is empty.\n",
    "\n",
    "Alternatively, you could use `if len(stack) == 0` or `if not len(stack)` to achieve the same result. However, in Python, it is more common and readable to use `not stack` for this purpose.\n",
    "\n",
    "Here's a quick example to illustrate the concept:\n",
    "\n",
    "```python\n",
    "stack = []\n",
    "\n",
    "# Check if the stack is empty using \"not stack\"\n",
    "if not stack:\n",
    "    print(\"The stack is empty\")\n",
    "else:\n",
    "    print(\"The stack is not empty\")\n",
    "```\n",
    "\n",
    "In this example, since the stack is empty, the output will be \"The stack is empty.\""
   ]
  },
  {
   "cell_type": "markdown",
   "metadata": {},
   "source": [
    "## More\n",
    "\n",
    "In Python, the difference between these two class method definitions lies in how the method can be called and how it behaves in terms of instance methods and static methods.\n",
    "\n",
    "1. **Instance Method (`self` parameter):**\n",
    "    ```python\n",
    "    class Solution1:\n",
    "        def isValid(self, s: str) -> bool:\n",
    "            # method implementation\n",
    "    ```\n",
    "\n",
    "    - This is an instance method, as it takes the `self` parameter.\n",
    "    - To use this method, you would need to create an instance of the `Solution1` class and then call the method on that instance.\n",
    "    - Example:\n",
    "        ```python\n",
    "        obj = Solution1()\n",
    "        result = obj.isValid(\"some_string\")\n",
    "        ```\n",
    "\n",
    "2. **Static Method (no `self` parameter):**\n",
    "    ```python\n",
    "    class Solution2:\n",
    "        @staticmethod\n",
    "        def isValid(s: str) -> bool:\n",
    "            # method implementation\n",
    "    ```\n",
    "\n",
    "    - This is a static method, as it does not take the `self` parameter.\n",
    "    - Static methods are bound to the class rather than an instance of the class.\n",
    "    - To use this method, you can call it directly on the class, without creating an instance.\n",
    "    - Example:\n",
    "        ```python\n",
    "        result = Solution2.isValid(\"some_string\")\n",
    "        ```\n",
    "\n",
    "In summary, the first example (`class Solution1: def isValid(self, s: str) -> bool:`) is defining an instance method, and you need to create an instance of the class to call this method. The second example (`class Solution2: @staticmethod def isValid(s: str) -> bool:`) is defining a static method, and you can call it directly on the class without creating an instance. The choice between these depends on whether the method needs access to instance-specific data or if it can be a standalone function related to the class."
   ]
  }
 ],
 "metadata": {
  "kernelspec": {
   "display_name": "Python 3.9.13 64-bit",
   "language": "python",
   "name": "python3"
  },
  "language_info": {
   "codemirror_mode": {
    "name": "ipython",
    "version": 3
   },
   "file_extension": ".py",
   "mimetype": "text/x-python",
   "name": "python",
   "nbconvert_exporter": "python",
   "pygments_lexer": "ipython3",
   "version": "3.9.13"
  },
  "orig_nbformat": 4,
  "vscode": {
   "interpreter": {
    "hash": "e24dad31b70f1ca84e4fa801b027387d3dbd09bc703469d381e644d7caa34431"
   }
  }
 },
 "nbformat": 4,
 "nbformat_minor": 2
}
