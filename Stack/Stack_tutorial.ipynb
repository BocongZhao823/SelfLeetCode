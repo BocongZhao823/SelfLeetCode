{
 "cells": [
  {
   "cell_type": "markdown",
   "metadata": {},
   "source": [
    "# Stack Tutorial\n",
    "\n",
    "https://www.geeksforgeeks.org/stack-in-python/\n",
    "\n",
    "The functions associated with stack are:\n",
    "\n",
    "**empty()** – Returns whether the stack is empty – Time Complexity: O(1)\n",
    "\n",
    "**size()** – Returns the size of the stack – Time Complexity: O(1)\n",
    "\n",
    "**top() / peek()** – Returns a reference to the topmost element of the stack – Time Complexity: O(1)\n",
    "\n",
    "**push(a)** – Inserts the element ‘a’ at the top of the stack – Time Complexity: O(1)\n",
    "\n",
    "**pop()** – Deletes the topmost element of the stack – Time Complexity: O(1)"
   ]
  },
  {
   "cell_type": "markdown",
   "metadata": {},
   "source": [
    "## Implementation using list:"
   ]
  },
  {
   "cell_type": "code",
   "execution_count": 1,
   "metadata": {},
   "outputs": [
    {
     "name": "stdout",
     "output_type": "stream",
     "text": [
      "Initial stack\n",
      "['a', 'b', 'c']\n",
      "\n",
      "Elements popped from stack:\n",
      "c\n",
      "b\n",
      "a\n",
      "\n",
      "Stack after elements are popped:\n",
      "[]\n"
     ]
    }
   ],
   "source": [
    "# Python program to\n",
    "# demonstrate stack implementation\n",
    "# using list\n",
    "\n",
    "stack = []\n",
    "\n",
    "# append() function to push\n",
    "# element in the stack\n",
    "stack.append('a')\n",
    "stack.append('b')\n",
    "stack.append('c')\n",
    "\n",
    "print('Initial stack')\n",
    "print(stack)\n",
    "\n",
    "# pop() function to pop\n",
    "# element from stack in\n",
    "# LIFO order\n",
    "print('\\nElements popped from stack:')\n",
    "print(stack.pop())\n",
    "print(stack.pop())\n",
    "print(stack.pop())\n",
    "\n",
    "print('\\nStack after elements are popped:')\n",
    "print(stack)\n",
    "\n",
    "# uncommenting print(stack.pop())\n",
    "# will cause an IndexError\n",
    "# as the stack is now empty\n"
   ]
  },
  {
   "cell_type": "markdown",
   "metadata": {},
   "source": [
    "## Implementation using collections.deque:\n",
    "\n",
    "Python stack can be implemented using the deque class from the collections module. Deque is preferred over the list in the cases where we need quicker append and pop operations from both the ends of the container, as deque provides an O(1) time complexity for append and pop operations as compared to list which provides O(n) time complexity. \n",
    " \n",
    "The same methods on deque as seen in the list are used, append() and pop()."
   ]
  },
  {
   "cell_type": "code",
   "execution_count": 3,
   "metadata": {},
   "outputs": [
    {
     "name": "stdout",
     "output_type": "stream",
     "text": [
      "Initial stack:\n",
      "deque(['a', 'b', 'c'])\n",
      "\n",
      "Elements popped from stack:\n",
      "c\n",
      "b\n",
      "a\n",
      "\n",
      "Stack after elements are popped:\n",
      "deque([])\n"
     ]
    }
   ],
   "source": [
    "# Python program to\n",
    "# demonstrate stack implementation\n",
    "# using collections.deque\n",
    "\n",
    "from collections import deque\n",
    "\n",
    "stack = deque()\n",
    "\n",
    "# append() function to push\n",
    "# element in the stack\n",
    "stack.append('a')\n",
    "stack.append('b')\n",
    "stack.append('c')\n",
    "\n",
    "print('Initial stack:')\n",
    "print(stack)\n",
    "\n",
    "# pop() function to pop\n",
    "# element from stack in\n",
    "# LIFO order\n",
    "print('\\nElements popped from stack:')\n",
    "print(stack.pop())\n",
    "print(stack.pop())\n",
    "print(stack.pop())\n",
    "\n",
    "print('\\nStack after elements are popped:')\n",
    "print(stack)\n",
    "\n",
    "# uncommenting print(stack.pop())\n",
    "# will cause an IndexError\n",
    "# as the stack is now empty\n"
   ]
  },
  {
   "cell_type": "markdown",
   "metadata": {},
   "source": [
    "## Implementation using queue module\n",
    "\n",
    "Queue module also has a LIFO Queue, which is basically a Stack. Data is inserted into \n",
    "\n",
    "Queue using the put() function and get() takes data out from the Queue. \n",
    "\n",
    "There are various functions available in this module: \n",
    "\n",
    "1. **maxsize** – Number of items allowed in the queue.\n",
    "2. **empty()** – Return True if the queue is empty, False otherwise.\n",
    "3. **full()** – Return True if there are maxsize items in the queue. If the queue was \n",
    "initialized with maxsize=0 (the default), then full() never returns True.\n",
    "4. **get()** – Remove and return an item from the queue. If the queue is empty, wait until an item is available.\n",
    "5. **get_nowait()** – Return an item if one is immediately available, else raise QueueEmpty.\n",
    "6. **put(item)** – Put an item into the queue. If the queue is full, wait until a free slot is available before adding the item.\n",
    "7. **put_nowait(item)** – Put an item into the queue without blocking. If no free slot is immediately available, raise QueueFull.\n",
    "8. **qsize()** – Return the number of items in the queue."
   ]
  },
  {
   "cell_type": "code",
   "execution_count": 1,
   "metadata": {},
   "outputs": [
    {
     "name": "stdout",
     "output_type": "stream",
     "text": [
      "0\n",
      "Full:  True\n",
      "Size:  3\n",
      "\n",
      "Elements popped from the stack\n",
      "c\n",
      "b\n",
      "a\n",
      "\n",
      "Empty:  True\n"
     ]
    }
   ],
   "source": [
    "# Python program to\n",
    "# demonstrate stack implementation\n",
    "# using queue module\n",
    "\n",
    "from queue import LifoQueue\n",
    "\n",
    "# Initializing a stack\n",
    "stack = LifoQueue(maxsize=3)\n",
    "\n",
    "# qsize() show the number of elements\n",
    "# in the stack\n",
    "print(stack.qsize())\n",
    "\n",
    "# put() function to push\n",
    "# element in the stack\n",
    "stack.put('a')\n",
    "stack.put('b')\n",
    "stack.put('c')\n",
    "\n",
    "print(\"Full: \", stack.full())\n",
    "print(\"Size: \", stack.qsize())\n",
    "\n",
    "# get() function to pop\n",
    "# element from stack in\n",
    "# LIFO order\n",
    "print('\\nElements popped from the stack')\n",
    "print(stack.get())\n",
    "print(stack.get())\n",
    "print(stack.get())\n",
    "\n",
    "print(\"\\nEmpty: \", stack.empty())\n"
   ]
  },
  {
   "cell_type": "markdown",
   "metadata": {},
   "source": [
    "## Implementation using a singly linked list:\n",
    "\n",
    "The linked list has two methods addHead(item) and removeHead() that run in constant time. These two methods are suitable to implement a stack. \n",
    "\n",
    "1. **getSize()**– Get the number of items in the stack.\n",
    "2. **isEmpty()** – Return True if the stack is empty, False otherwise.\n",
    "3. **peek()** – Return the top item in the stack. If the stack is empty, raise an exception.\n",
    "4. **push(value)** – Push a value into the head of the stack.\n",
    "5. **pop()** – Remove and return a value in the head of the stack. If the stack is empty, raise an exception."
   ]
  },
  {
   "cell_type": "code",
   "execution_count": 2,
   "metadata": {},
   "outputs": [
    {
     "name": "stdout",
     "output_type": "stream",
     "text": [
      "Stack: 10->9->8->7->6->5->4->3->2->1\n",
      "Pop: 10\n",
      "Pop: 9\n",
      "Pop: 8\n",
      "Pop: 7\n",
      "Pop: 6\n",
      "Stack: 5->4->3->2->1\n"
     ]
    }
   ],
   "source": [
    "# Python program to demonstrate\n",
    "# stack implementation using a linked list.\n",
    "# node class\n",
    "\n",
    "class Node:\n",
    "\tdef __init__(self, value):\n",
    "\t\tself.value = value\n",
    "\t\tself.next = None\n",
    "\n",
    "\n",
    "class Stack:\n",
    "\n",
    "\t# Initializing a stack.\n",
    "\t# Use a dummy node, which is\n",
    "\t# easier for handling edge cases.\n",
    "\tdef __init__(self):\n",
    "\t\tself.head = Node(\"head\")\n",
    "\t\tself.size = 0\n",
    "\n",
    "\t# String representation of the stack\n",
    "\tdef __str__(self):\n",
    "\t\tcur = self.head.next\n",
    "\t\tout = \"\"\n",
    "\t\twhile cur:\n",
    "\t\t\tout += str(cur.value) + \"->\"\n",
    "\t\t\tcur = cur.next\n",
    "\t\treturn out[:-2]\n",
    "\n",
    "\t# Get the current size of the stack\n",
    "\tdef getSize(self):\n",
    "\t\treturn self.size\n",
    "\n",
    "\t# Check if the stack is empty\n",
    "\tdef isEmpty(self):\n",
    "\t\treturn self.size == 0\n",
    "\n",
    "\t# Get the top item of the stack\n",
    "\tdef peek(self):\n",
    "\n",
    "\t\t# Sanitary check to see if we\n",
    "\t\t# are peeking an empty stack.\n",
    "\t\tif self.isEmpty():\n",
    "\t\t\traise Exception(\"Peeking from an empty stack\")\n",
    "\t\treturn self.head.next.value\n",
    "\n",
    "\t# Push a value into the stack.\n",
    "\tdef push(self, value):\n",
    "\t\tnode = Node(value)\n",
    "\t\tnode.next = self.head.next\n",
    "\t\tself.head.next = node\n",
    "\t\tself.size += 1\n",
    "\n",
    "\t# Remove a value from the stack and return.\n",
    "\tdef pop(self):\n",
    "\t\tif self.isEmpty():\n",
    "\t\t\traise Exception(\"Popping from an empty stack\")\n",
    "\t\tremove = self.head.next\n",
    "\t\tself.head.next = self.head.next.next\n",
    "\t\tself.size -= 1\n",
    "\t\treturn remove.value\n",
    "\n",
    "\n",
    "# Driver Code\n",
    "if __name__ == \"__main__\":\n",
    "\tstack = Stack()\n",
    "\tfor i in range(1, 11):\n",
    "\t\tstack.push(i)\n",
    "\tprint(f\"Stack: {stack}\")\n",
    "\n",
    "\tfor _ in range(1, 6):\n",
    "\t\tremove = stack.pop()\n",
    "\t\tprint(f\"Pop: {remove}\")\n",
    "\tprint(f\"Stack: {stack}\")\n"
   ]
  }
 ],
 "metadata": {
  "kernelspec": {
   "display_name": "Python 3",
   "language": "python",
   "name": "python3"
  },
  "language_info": {
   "codemirror_mode": {
    "name": "ipython",
    "version": 3
   },
   "file_extension": ".py",
   "mimetype": "text/x-python",
   "name": "python",
   "nbconvert_exporter": "python",
   "pygments_lexer": "ipython3",
   "version": "3.9.13"
  }
 },
 "nbformat": 4,
 "nbformat_minor": 2
}
