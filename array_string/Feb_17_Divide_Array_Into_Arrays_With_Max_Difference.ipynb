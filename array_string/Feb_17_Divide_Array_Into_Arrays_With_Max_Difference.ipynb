{
 "cells": [
  {
   "cell_type": "markdown",
   "metadata": {},
   "source": [
    "## 2966. Divide Array Into Arrays With Max Difference\n",
    "\n",
    "You are given an integer array nums of size n and a positive integer k.\n",
    "\n",
    "Divide the array into one or more arrays of size 3 satisfying the following conditions:\n",
    "\n",
    "- Each element of nums should be in exactly one array.\n",
    "- The difference between any two elements in one array is less than or equal to k.\n",
    "\n",
    "Return a 2D array containing all the arrays. If it is impossible to satisfy the conditions, return an empty array. And if there are multiple answers, return any of them.\n",
    "\n",
    "### Example 1:\n",
    "\n",
    "- Input: nums = [1,3,4,8,7,9,3,5,1], k = 2\n",
    "- Output: [[1,1,3],[3,4,5],[7,8,9]]\n",
    "- Explanation: We can divide the array into the following arrays: [1,1,3], [3,4,5] and [7,8,9].\n",
    "The difference between any two elements in each array is less than or equal to 2.\n",
    "- Note that the order of elements is not important.\n",
    "\n",
    "### Example 2:\n",
    "\n",
    "- Input: nums = [1,3,3,2,7,3], k = 3\n",
    "- Output: []\n",
    "- Explanation: It is not possible to divide the array satisfying all the conditions.\n",
    "\n",
    "### Constraints:\n",
    "\n",
    "- n == nums.length\n",
    "- 1 <= n <= 105\n",
    "- n is a multiple of 3.\n",
    "- 1 <= nums[i] <= 105\n",
    "- 1 <= k <= 105"
   ]
  },
  {
   "cell_type": "code",
   "execution_count": 1,
   "metadata": {},
   "outputs": [],
   "source": [
    "from typing import Optional, List\n",
    "import heapq"
   ]
  },
  {
   "cell_type": "markdown",
   "metadata": {},
   "source": [
    "### Trail 1:\n",
    "- check if the length of list is divideable by 3 --> make sure we may have 3 elements inside 1 sublist\n",
    "- To make the difference smaller or equal to 2. We need to make the numbers within the same arrary as close as possible.\n",
    "- --> Thus, ranking the whole list first\n",
    "- Then check at which point the difference bewteen two adjacent numbers beyond 2 --> which means we need a new sub-list\n",
    "- --> Use binary search, if two numbers in the middle has difference >2 move to the left; O/W move to the right.\n",
    "- --> i.e., check if the current last element in the sub-list & the 2nd last element match the condition\n",
    "- Note each sublist can only contains 3 elements\n",
    "- --> from the midIndx cout back 3 element and create a new subList base on that\n",
    "- But we need to keep all numbers within the same sub-list has the difference <=2\n",
    "- --> Check if the 1st element & last element inside the same sub-list match the conidtion\n",
    "- --> Check the current mid value & 1st element inside the sub-list\n",
    "- Next, save the satisfied subList to the new list\n",
    "- Remove this satified sublist from the original list\n",
    "- use the leftover original list do the checking again\n",
    "- HOWEVER use binary search is not suitable in this case, I cannot make sure the left over of left & right subList divideable by 3"
   ]
  },
  {
   "cell_type": "code",
   "execution_count": 37,
   "metadata": {},
   "outputs": [],
   "source": [
    "# WRONG ANS\n",
    "class SolutionWrong:\n",
    "    def divideArray(self, nums: List[int], k: int) -> List[List[int]]:\n",
    "        wholeList = []\n",
    "\n",
    "        n = len(nums)\n",
    "        if n%3 != 0:\n",
    "            return wholeList\n",
    "        \n",
    "        # Ranking the whole array\n",
    "        nums.sort()\n",
    "        print(nums)\n",
    "\n",
    "        # Then check at which point the difference bewteen two adjacent numbers beyond 2\n",
    "        # Use binary search\n",
    "        newList = nums\n",
    "        while len(newList) > 1:\n",
    "            midInx = len(newList)//2\n",
    "            print(\"initial mid\",midInx)\n",
    "            diffLast = abs(newList[midInx-1] - newList[midInx])\n",
    "            print(f\"{newList[midInx-1]} - {newList[midInx]} is\", diffLast)\n",
    "            #while midInx < len(newList):\n",
    "            if diffLast <= 2:\n",
    "                while midInx > 0:\n",
    "                    firstInx = midInx - 2\n",
    "                    diffFirst = abs(newList[firstInx] - newList[midInx])\n",
    "                    print(\"diffF\",diffFirst)\n",
    "                    if diffFirst <= 2:\n",
    "                        subList = newList[firstInx:midInx+1]\n",
    "                        wholeList.append(subList)\n",
    "                        newList = newList[midInx+1:]\n",
    "                        print(newList)\n",
    "                        break\n",
    "                    else:\n",
    "                        midInx -= 1\n",
    "                        print(\"left\", midInx)\n",
    "            \n",
    "            else:\n",
    "                midInx -= 1\n",
    "                print(\"left to\", midInx)\n",
    "        print(midInx)\n",
    "        print(wholeList)\n",
    "            "
   ]
  },
  {
   "cell_type": "markdown",
   "metadata": {},
   "source": [
    "### Trail 2:\n",
    "- check if the length of list is divideable by 3 --> make sure we may have 3 elements inside 1 sublist\n",
    "- To make the difference smaller or equal to k. We need to make the numbers within the same arrary as close as possible.\n",
    "- --> Thus, ranking the whole list first\n",
    "- As we need to make sure each subList has exact 3 elements\n",
    "- --> we split this whole list into sublists (3 elements per sublist)\n",
    "- Check if each subList meet the condition\n",
    "- --> As the 1st & 3rd elements has the largest difference, if they meet the condition, then others meet conditions\n",
    "- --> 1st & 2nd and 2nd & 3rd\n",
    "- --> if not means this group is not satisfied --> and the problem is unsolve --> As we cannot make sure each subList contains 3 elements "
   ]
  },
  {
   "cell_type": "code",
   "execution_count": 61,
   "metadata": {},
   "outputs": [],
   "source": [
    "class Solution:\n",
    "    def divideArray(self, nums: List[int], k: int) -> List[List[int]]:\n",
    "        nullList = []\n",
    "\n",
    "        # Check if potentially we might make 3 elements per sublist\n",
    "        n = len(nums)\n",
    "        if n%3 != 0:\n",
    "            return nullList\n",
    "        \n",
    "        # Ranking the whole array\n",
    "        nums.sort()\n",
    "\n",
    "        # Divide list into sublist (3 elements per sublist)\n",
    "        newList = list(zip(*[iter(nums)] * 3))\n",
    "        newNew = newList\n",
    "\n",
    "        # Check if each sublist meet the conditions\n",
    "        while len(newNew) != 0:\n",
    "            subList = newNew[0]\n",
    "            diff = abs(subList[0] - subList[-1])\n",
    "            if diff > k:\n",
    "                return nullList\n",
    "            else:\n",
    "                newNew = newNew[1:]\n",
    "\n",
    "        return newList"
   ]
  },
  {
   "cell_type": "code",
   "execution_count": 62,
   "metadata": {},
   "outputs": [
    {
     "data": {
      "text/plain": [
       "[(3, 4, 8), (15, 16, 16), (18, 18, 20), (24, 24, 24), (26, 33, 34)]"
      ]
     },
     "execution_count": 62,
     "metadata": {},
     "output_type": "execute_result"
    }
   ],
   "source": [
    "nums = [33,26,4,18,16,24,24,15,8,18,34,20,24,16,3]\n",
    "k = 8\n",
    "answer = Solution()\n",
    "answer.divideArray(nums,k)"
   ]
  }
 ],
 "metadata": {
  "kernelspec": {
   "display_name": "Python 3",
   "language": "python",
   "name": "python3"
  },
  "language_info": {
   "codemirror_mode": {
    "name": "ipython",
    "version": 3
   },
   "file_extension": ".py",
   "mimetype": "text/x-python",
   "name": "python",
   "nbconvert_exporter": "python",
   "pygments_lexer": "ipython3",
   "version": "3.9.13"
  }
 },
 "nbformat": 4,
 "nbformat_minor": 2
}
