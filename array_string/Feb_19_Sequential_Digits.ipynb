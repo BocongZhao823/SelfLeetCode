{
 "cells": [
  {
   "cell_type": "markdown",
   "metadata": {},
   "source": [
    "## 1291. Sequential Digits\n",
    "\n",
    "Topics: Enumeration\n",
    "\n",
    "An integer has sequential digits if and only if each digit in the number is one more than the previous digit.\n",
    "\n",
    "Return a sorted list of all the integers in the range [low, high] inclusive that have sequential digits.\n",
    "\n",
    "### Example 1:\n",
    "**Input:** \n",
    "```\n",
    "low = 100, high = 300\n",
    "```\n",
    "**Output:** \n",
    "```\n",
    "[123, 234]\n",
    "```\n",
    "### Example 2:\n",
    "**Input:** \n",
    "```\n",
    "low = 1000, high = 13000\n",
    "```\n",
    "**Output:** \n",
    "```\n",
    "[1234, 2345, 3456, 4567, 5678, 6789, 12345]\n",
    "```\n",
    "\n",
    "### Constraints:\n",
    "- 10 <= low <= high <= 10^9"
   ]
  },
  {
   "cell_type": "code",
   "execution_count": 16,
   "metadata": {},
   "outputs": [],
   "source": [
    "from typing import Optional, List\n",
    "import heapq"
   ]
  },
  {
   "cell_type": "markdown",
   "metadata": {},
   "source": [
    "### Trail 1\n",
    "- start from 1, mimum len would be the len of low; max len would be the len of high\n",
    "- then loop to 2,3,...9\n",
    "- fix the 1st digtal, following digtals add by 1 until the limit of number of digtals meet\n",
    "- make list of numbers first [1,2,3,4] then covert to 1234 by use 10**x"
   ]
  },
  {
   "cell_type": "code",
   "execution_count": null,
   "metadata": {},
   "outputs": [],
   "source": [
    "class Solution:\n",
    "\n",
    "    def countDigit(n): \n",
    "        count = 0\n",
    "        while n != 0: \n",
    "            n //= 10\n",
    "            count += 1\n",
    "        return count \n",
    "\n",
    "    def sequentialDigits(self, low: int, high: int) -> List[int]:\n",
    "        lowN = Solution.countDigit(low)\n",
    "        highN = Solution.countDigit(high)\n",
    "        myList = []\n",
    "        for i in range(1,10): \n",
    "            myList.append(i)\n",
    "            for t in range(i,lowN):\n",
    "                myList.append(i+1)\n",
    "            print(myList)\n",
    "        #low = i*(10**lowN)\n"
   ]
  },
  {
   "cell_type": "code",
   "execution_count": null,
   "metadata": {},
   "outputs": [
    {
     "name": "stdout",
     "output_type": "stream",
     "text": [
      "0\n",
      "i 1\n",
      "low 10000\n",
      "0\n",
      "i 2\n",
      "low 20000\n",
      "0\n",
      "i 3\n",
      "low 30000\n",
      "0\n",
      "i 4\n",
      "low 40000\n",
      "0\n",
      "i 5\n",
      "low 50000\n",
      "0\n",
      "i 6\n",
      "low 60000\n",
      "0\n",
      "i 7\n",
      "low 70000\n",
      "0\n",
      "i 8\n",
      "low 80000\n",
      "0\n",
      "i 9\n",
      "low 90000\n"
     ]
    }
   ],
   "source": [
    "low = 1000\n",
    "high = 13000\n",
    "answer = Solution()\n",
    "answer.sequentialDigits(low,high)"
   ]
  }
 ],
 "metadata": {
  "kernelspec": {
   "display_name": "Python 3",
   "language": "python",
   "name": "python3"
  },
  "language_info": {
   "codemirror_mode": {
    "name": "ipython",
    "version": 3
   },
   "file_extension": ".py",
   "mimetype": "text/x-python",
   "name": "python",
   "nbconvert_exporter": "python",
   "pygments_lexer": "ipython3",
   "version": "3.9.13"
  }
 },
 "nbformat": 4,
 "nbformat_minor": 2
}
