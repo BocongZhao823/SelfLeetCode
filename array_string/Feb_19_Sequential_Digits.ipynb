{
 "cells": [
  {
   "cell_type": "markdown",
   "metadata": {},
   "source": [
    "## 1291. Sequential Digits\n",
    "\n",
    "Topics: Enumeration\n",
    "\n",
    "An integer has sequential digits if and only if each digit in the number is one more than the previous digit.\n",
    "\n",
    "Return a sorted list of all the integers in the range [low, high] inclusive that have sequential digits.\n",
    "\n",
    "### Example 1:\n",
    "**Input:** \n",
    "```\n",
    "low = 100, high = 300\n",
    "```\n",
    "**Output:** \n",
    "```\n",
    "[123, 234]\n",
    "```\n",
    "### Example 2:\n",
    "**Input:** \n",
    "```\n",
    "low = 1000, high = 13000\n",
    "```\n",
    "**Output:** \n",
    "```\n",
    "[1234, 2345, 3456, 4567, 5678, 6789, 12345]\n",
    "```\n",
    "\n",
    "### Constraints:\n",
    "- 10 <= low <= high <= 10^9"
   ]
  },
  {
   "cell_type": "code",
   "execution_count": 86,
   "metadata": {},
   "outputs": [],
   "source": [
    "from typing import Optional, List\n",
    "import heapq"
   ]
  },
  {
   "cell_type": "markdown",
   "metadata": {},
   "source": [
    "### Trail 1\n",
    "- start from 1, mimum len would be the len of low; max len would be the len of high\n",
    "- then loop to 2,3,...9\n",
    "- fix the 1st digtal, following digtals add by 1 until the limit of number of digtals meet\n",
    "- make list of numbers first [1,2,3,4] then covert to 1234 by use 10**x OR combine strings\n",
    "- Also the value should bigger than min & smaller than max"
   ]
  },
  {
   "cell_type": "code",
   "execution_count": 132,
   "metadata": {},
   "outputs": [],
   "source": [
    "class Solution:\n",
    "\n",
    "    def countDigit(n): \n",
    "        count = 0\n",
    "        while n != 0: \n",
    "            n //= 10\n",
    "            count += 1\n",
    "        return count \n",
    "    \n",
    "    def splitDig(n):\n",
    "        n = str(n)\n",
    "        newList =[]\n",
    "        for i in n:\n",
    "            newList.append(int(i))\n",
    "        return newList\n",
    "    \n",
    "    def combDig(n):\n",
    "        value = ''  # Initializing an empty string to store combined digits\n",
    "        for i in n:  # Iterating over the elements of the list\n",
    "            i = str(i)  # Converting the integer to a string\n",
    "            value = value + i  # Concatenating the string representation of the integer\n",
    "        return int(value)  # Converting the combined string to an integer and returning it\n",
    "\n",
    "    def sequentialDigits(self, low: int, high: int) -> List[int]:\n",
    "        lowN = Solution.countDigit(low)\n",
    "        highN = Solution.countDigit(high)\n",
    "        \n",
    "        wholeList = []\n",
    "        while lowN != highN+1:\n",
    "            myList = []\n",
    "            i = 1\n",
    "            while i != 10-lowN+1: # sine each digite <=9\n",
    "                subList = []\n",
    "                for t in range(0,lowN):\n",
    "                    subList.append(t+i)\n",
    "                newSub = Solution.combDig(subList)\n",
    "                myList.append(newSub)\n",
    "                i +=1\n",
    "            lowN +=1\n",
    "            wholeList.append(myList)\n",
    "        print(wholeList)\n",
    "        print(\"len\",len(wholeList))\n",
    "\n",
    "        # Check if min < number < max --> Only care about 1st sublist & last sublist\n",
    "        if len(wholeList) > 1:\n",
    "            newFirstSub = []\n",
    "            newLastSub = []\n",
    "            for num in wholeList[0]:\n",
    "                if num >= low:\n",
    "                    newFirstSub.append(num)\n",
    "                \n",
    "            for num in wholeList[-1]:\n",
    "                if num <= high:\n",
    "                    newLastSub.append(num)\n",
    "\n",
    "            newW = []\n",
    "            for sub in wholeList[1:len(wholeList)]:\n",
    "                for ele in sub:\n",
    "                    newW.append(ele)\n",
    "\n",
    "            ans =  newFirstSub +newW + newLastSub\n",
    "            return ans\n",
    "        else:\n",
    "            newW = []\n",
    "            for sub in wholeList:\n",
    "                for ele in sub:\n",
    "                    if ele >= low and ele <= high:\n",
    "                        newW.append(ele)\n",
    "            return newW\n",
    "\n"
   ]
  },
  {
   "cell_type": "code",
   "execution_count": 133,
   "metadata": {},
   "outputs": [
    {
     "name": "stdout",
     "output_type": "stream",
     "text": [
      "[[123, 234, 345, 456, 567, 678, 789]]\n",
      "len 1\n"
     ]
    },
    {
     "data": {
      "text/plain": [
       "[123, 234, 345, 456, 567, 678, 789]"
      ]
     },
     "execution_count": 133,
     "metadata": {},
     "output_type": "execute_result"
    }
   ],
   "source": [
    "low = 100\n",
    "high = 300\n",
    "answer = Solution()\n",
    "answer.sequentialDigits(low,high)"
   ]
  }
 ],
 "metadata": {
  "kernelspec": {
   "display_name": "Python 3",
   "language": "python",
   "name": "python3"
  },
  "language_info": {
   "codemirror_mode": {
    "name": "ipython",
    "version": 3
   },
   "file_extension": ".py",
   "mimetype": "text/x-python",
   "name": "python",
   "nbconvert_exporter": "python",
   "pygments_lexer": "ipython3",
   "version": "3.9.13"
  }
 },
 "nbformat": 4,
 "nbformat_minor": 2
}
