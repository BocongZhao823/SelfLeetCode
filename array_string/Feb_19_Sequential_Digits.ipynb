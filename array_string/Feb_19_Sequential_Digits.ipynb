{
 "cells": [
  {
   "cell_type": "markdown",
   "metadata": {},
   "source": [
    "## 1291. Sequential Digits\n",
    "\n",
    "Topics: Enumeration\n",
    "\n",
    "An integer has sequential digits if and only if each digit in the number is one more than the previous digit.\n",
    "\n",
    "Return a sorted list of all the integers in the range [low, high] inclusive that have sequential digits.\n",
    "\n",
    "### Example 1:\n",
    "**Input:** \n",
    "```\n",
    "low = 100, high = 300\n",
    "```\n",
    "**Output:** \n",
    "```\n",
    "[123, 234]\n",
    "```\n",
    "### Example 2:\n",
    "**Input:** \n",
    "```\n",
    "low = 1000, high = 13000\n",
    "```\n",
    "**Output:** \n",
    "```\n",
    "[1234, 2345, 3456, 4567, 5678, 6789, 12345]\n",
    "```\n",
    "\n",
    "### Constraints:\n",
    "- 10 <= low <= high <= 10^9"
   ]
  },
  {
   "cell_type": "code",
   "execution_count": 2,
   "metadata": {},
   "outputs": [],
   "source": [
    "from typing import Optional, List\n",
    "import heapq"
   ]
  },
  {
   "cell_type": "markdown",
   "metadata": {},
   "source": [
    "### Trail 1\n",
    "- start from 1, mimum len would be the len of low; max len would be the len of high\n",
    "- then loop to 2,3,...9\n",
    "- fix the 1st digtal, following digtals add by 1 until the limit of number of digtals meet\n",
    "- make list of numbers first [1,2,3,4] then covert to 1234 by use 10**x\n",
    "- Also the value should bigger than min & smaller than max"
   ]
  },
  {
   "cell_type": "code",
   "execution_count": 72,
   "metadata": {},
   "outputs": [],
   "source": [
    "class Solution:\n",
    "\n",
    "    def countDigit(n): \n",
    "        count = 0\n",
    "        while n != 0: \n",
    "            n //= 10\n",
    "            count += 1\n",
    "        return count \n",
    "    \n",
    "    def convertDig(n):\n",
    "        n = str(n)\n",
    "        newList =[]\n",
    "        for i in n:\n",
    "            newList.append(int(i))\n",
    "        return newList\n",
    "    \n",
    "    def combDig(n):\n",
    "        n = str(n)\n",
    "        value = ''\n",
    "        for i in n:\n",
    "            value +=i\n",
    "        return value\n",
    "\n",
    "    def sequentialDigits(self, low: int, high: int) -> List[int]:\n",
    "        lowDig = Solution.convertDig(low)\n",
    "        highDig = Solution.convertDig(high)\n",
    "        lowN = Solution.countDigit(low)\n",
    "        highN = Solution.countDigit(high)\n",
    "        print(lowDig)\n",
    "        print(Solution.combDig(lowDig))\n",
    "        \n",
    "        wholeList = []\n",
    "        while lowN != highN+1:\n",
    "            myList = []\n",
    "            i = 1\n",
    "            while i != 10-lowN+1: # sine i + lowN = 9, as each digite <=9\n",
    "                subList = []\n",
    "                for t in range(0,lowN):\n",
    "                    subList.append(t+i)\n",
    "                myList.append(subList)\n",
    "                i +=1\n",
    "            lowN +=1\n",
    "            wholeList.append(myList)\n",
    "        print(wholeList)\n",
    "\n",
    "\n",
    "\n",
    "\n",
    "        #low = i*(10**lowN)\n"
   ]
  },
  {
   "cell_type": "code",
   "execution_count": 84,
   "metadata": {},
   "outputs": [
    {
     "name": "stdout",
     "output_type": "stream",
     "text": [
      "1\n"
     ]
    },
    {
     "data": {
      "text/plain": [
       "1"
      ]
     },
     "execution_count": 84,
     "metadata": {},
     "output_type": "execute_result"
    }
   ],
   "source": [
    "def combDig(n):\n",
    "    value = ''\n",
    "    for i in n:\n",
    "        if i%1 == 0 or i == 0:\n",
    "            i = str(i)\n",
    "            print()\n",
    "            value = value + i\n",
    "            print(i)\n",
    "        return int(value)\n",
    "\n",
    "combDig([1,0,0])"
   ]
  },
  {
   "cell_type": "code",
   "execution_count": 73,
   "metadata": {},
   "outputs": [
    {
     "name": "stdout",
     "output_type": "stream",
     "text": [
      "[1, 0, 0]\n",
      "[1, 0, 0]\n",
      "[[[1, 2, 3], [2, 3, 4], [3, 4, 5], [4, 5, 6], [5, 6, 7], [6, 7, 8], [7, 8, 9]], [[1, 2, 3, 4], [2, 3, 4, 5], [3, 4, 5, 6], [4, 5, 6, 7], [5, 6, 7, 8], [6, 7, 8, 9]]]\n"
     ]
    }
   ],
   "source": [
    "low = 100\n",
    "high = 1300\n",
    "answer = Solution()\n",
    "answer.sequentialDigits(low,high)"
   ]
  }
 ],
 "metadata": {
  "kernelspec": {
   "display_name": "Python 3",
   "language": "python",
   "name": "python3"
  },
  "language_info": {
   "codemirror_mode": {
    "name": "ipython",
    "version": 3
   },
   "file_extension": ".py",
   "mimetype": "text/x-python",
   "name": "python",
   "nbconvert_exporter": "python",
   "pygments_lexer": "ipython3",
   "version": "3.9.13"
  }
 },
 "nbformat": 4,
 "nbformat_minor": 2
}
