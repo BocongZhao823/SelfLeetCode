{
 "cells": [
  {
   "cell_type": "markdown",
   "metadata": {},
   "source": [
    "#### 13. Roman to Integer"
   ]
  },
  {
   "cell_type": "markdown",
   "metadata": {},
   "source": [
    "Roman numerals are represented by seven different symbols: I, V, X, L, C, D and M.\n",
    "\n",
    "| Symbol | Value type    | \n",
    "|--------|---------------|\n",
    "|I       | 1             |\n",
    "|V       | 5             |\n",
    "|X       | 10            |\n",
    "|L       | 50            |\n",
    "|C       |100            |\n",
    "|D       |500            |\n",
    "|M       |1000           |\n",
    "\n",
    "For example, 2 is written as II in Roman numeral, just two ones added together. 12 is written as XII, which is simply X + II. The number 27 is written as XXVII, which is XX + V + II.\n",
    "\n",
    "Roman numerals are usually written largest to smallest from left to right. However, the numeral for four is not IIII. Instead, the number four is written as IV. Because the one is before the five we subtract it making four. The same principle applies to the number nine, which is written as IX. There are six instances where subtraction is used:\n",
    "\n",
    "I can be placed before V (5) and X (10) to make 4 and 9. \n",
    "\n",
    "X can be placed before L (50) and C (100) to make 40 and 90. \n",
    "\n",
    "C can be placed before D (500) and M (1000) to make 400 and 900.\n",
    "\n",
    "Given a roman numeral, convert it to an integer."
   ]
  },
  {
   "cell_type": "markdown",
   "metadata": {},
   "source": [
    "**Constraints:**\n",
    "\n",
    "1 <= s.length <= 15\n",
    "\n",
    "s contains only the characters ('I', 'V', 'X', 'L', 'C', 'D', 'M').\n",
    "\n",
    "It is guaranteed that s is a valid roman numeral in the range [1, 3999]."
   ]
  },
  {
   "cell_type": "markdown",
   "metadata": {},
   "source": [
    "#### My approach\n",
    "If there are totally **n** (e.g., = 5) Roman characters:\n",
    "\n",
    "1. Initialise our totally count amount to 0\n",
    "\n",
    "2. Split into 2 situations: \n",
    "\n",
    "**1)** when the Roman character locates at the (n-1)th position *--> The last Roman character's position* \n",
    "\n",
    "**2)** When the Roman character locates before the (n-1)th position --> *Before the last Roman character's position** \n",
    "\n",
    "**Note 1**: Reason why we treat \"(n-1)th\" as the last character's position:   * We count 0 as the 1st position, thus, if n=5, the last character locates at n-1 = 5-1 = 4th position, NOT the n = 5th position.* \n",
    "\n",
    "**Note 2**: Reason why split \"position<n-1\" & \"postion==n-1\" situation  * We have to consider when we are not writing characters largest to smallest from left to right.  For example, if the ith character is 'I' and (i+ 1)th character is 'V'.  * The last character's position (n-1) does not have any more characters next to it. (It would out of index!). Thus, It could be discuss individually.\n",
    "\n",
    "3. In the 1st situation, the first n-1 (i.e., 5 - 1 = 4) Roman characters could be checked with its next Roman characters based on the rule in the question description. For example, if the ith Roman character is 'I', its next (ie., i+1 th ) character is 'V' or 'X', then we should delete 1 from totally count. \n",
    "\n",
    "4. In the 2nd situation, we don't need to do any check, all Roman characters should be accumalte to the total count. "
   ]
  },
  {
   "cell_type": "code",
   "execution_count": 63,
   "metadata": {},
   "outputs": [],
   "source": [
    "class Solution:\n",
    "    def romanToInt(s: str) -> int:\n",
    "        n = len(s)\n",
    "        count = 0\n",
    "\n",
    "        for i in range(0,n):\n",
    "            if i == n-1: \n",
    "                if s[i] == \"I\":\n",
    "                    count += 1\n",
    "                elif s[i] == \"V\":\n",
    "                    count += 5\n",
    "                elif s[i] == \"X\":\n",
    "                    count += 10\n",
    "                elif s[i] == \"L\":\n",
    "                    count += 50\n",
    "                elif s[i] == \"C\":\n",
    "                    count += 100\n",
    "                elif s[i] == \"D\":\n",
    "                    count += 500\n",
    "                elif s[i] == \"M\":\n",
    "                    count += 1000\n",
    "            \n",
    "            elif i < n-1:\n",
    "                #print(\"my s[i] is\" ,s[i])\n",
    "                j = i + 1\n",
    "\n",
    "                if s[i] == 'V':\n",
    "                    count += 5\n",
    "\n",
    "                elif s[i] == 'L':\n",
    "                    count += 50\n",
    "            \n",
    "                elif s[i] == 'D':\n",
    "                    count += 500\n",
    "                    \n",
    "                elif s[i] == 'M':\n",
    "                    count += 1000\n",
    "                    \n",
    "                elif s[i] == 'I' and s[j] != 'V' and s[j] != 'X':\n",
    "                    count += 1\n",
    "                elif s[i] == 'I' and s[j] == 'V':\n",
    "                    count -= 1\n",
    "                elif s[i] == 'I' and s[j] == 'X':\n",
    "                    count -= 1\n",
    "                \n",
    "                elif s[i] == 'X' and s[j] != 'L' and s[j] != 'C':\n",
    "                    count += 10     \n",
    "                elif s[i] == 'X' and s[j] == 'L':\n",
    "                    count -= 10\n",
    "                elif s[i] == 'X' and s[j] == 'C':\n",
    "                    count -= 10\n",
    "                \n",
    "                elif s[i] == 'C' and s[j] != 'D' and s[j] != 'M':\n",
    "                    count += 100\n",
    "                elif s[i] == 'C' and s[j] == 'D':\n",
    "                    count -= 100\n",
    "                elif s[i] == 'C' and s[j] == 'M':\n",
    "                    count -= 100\n",
    "                    \n",
    "        return count\n",
    "            "
   ]
  },
  {
   "cell_type": "code",
   "execution_count": 64,
   "metadata": {},
   "outputs": [
    {
     "data": {
      "text/plain": [
       "58"
      ]
     },
     "execution_count": 64,
     "metadata": {},
     "output_type": "execute_result"
    }
   ],
   "source": [
    "Solution.romanToInt(\"LVIII\")"
   ]
  },
  {
   "cell_type": "markdown",
   "metadata": {},
   "source": [
    "**Example 1:**\n",
    "\n",
    "Input: s = \"III\"\n",
    "\n",
    "Output: 3\n",
    "\n",
    "Explanation: III = 3.\n",
    "\n",
    "**Example 2:**\n",
    "\n",
    "Input: s = \"LVIII\"\n",
    "\n",
    "Output: 58\n",
    "\n",
    "Explanation: L = 50, V= 5, III = 3.\n",
    "\n",
    "**Example 3:**\n",
    "\n",
    "Input: s = \"MCMXCIV\"\n",
    "\n",
    "Output: 1994\n",
    "\n",
    "Explanation: M = 1000, CM = 900, XC = 90 and IV = 4.\n",
    " "
   ]
  }
 ],
 "metadata": {
  "kernelspec": {
   "display_name": "Python 3.9.13 64-bit",
   "language": "python",
   "name": "python3"
  },
  "language_info": {
   "codemirror_mode": {
    "name": "ipython",
    "version": 3
   },
   "file_extension": ".py",
   "mimetype": "text/x-python",
   "name": "python",
   "nbconvert_exporter": "python",
   "pygments_lexer": "ipython3",
   "version": "3.9.13"
  },
  "orig_nbformat": 4,
  "vscode": {
   "interpreter": {
    "hash": "e24dad31b70f1ca84e4fa801b027387d3dbd09bc703469d381e644d7caa34431"
   }
  }
 },
 "nbformat": 4,
 "nbformat_minor": 2
}
