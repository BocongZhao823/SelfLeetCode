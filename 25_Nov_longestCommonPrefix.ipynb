{
 "cells": [
  {
   "cell_type": "markdown",
   "metadata": {},
   "source": [
    "14. Longest Common Prefix"
   ]
  },
  {
   "cell_type": "code",
   "execution_count": 102,
   "metadata": {},
   "outputs": [],
   "source": [
    "class Solution:\n",
    "    def longestCommonPrefix(strs: list[str]) -> str:\n",
    "\n",
    "        # The latest point to stop the comparision steps\n",
    "        # is when the string with the shorest number of alphabets runs out of its alphabets\n",
    "        lenList = []\n",
    "        for element in strs:\n",
    "            lenList.append(len(element))\n",
    "        minLength = min(lenList) \n",
    "        print(\"The maximum comparsion times are\",minLength)\n",
    "\n",
    "        # Create a list contains all comparision results respectively\n",
    "        wholeList = []\n",
    "        for i in range(minLength):\n",
    "            myList = []\n",
    "            for t in range(len(strs)):\n",
    "                # if I haven't add the 1st alphabet to the list, add it now\n",
    "                # To check if a list is empty or not, I could check its length \n",
    "                if len(myList) == 0:\n",
    "                    myList.append(strs[t][i])\n",
    "                else:\n",
    "                    # Only when the new alphabet is the same as the 1st added alphabet, I add it to the list\n",
    "                    if myList[0] == strs[t][i]:\n",
    "                        myList.append(strs[t][i])\n",
    "            wholeList.append(myList)\n",
    "        print(\"The comparsion result for each time is\",wholeList)\n",
    "\n",
    "        # Check within each time of comparisions, if all alphabets are the same\n",
    "        # To do so, check if the length of each case are the same as the total number of given strings\n",
    "        alphabets = []\n",
    "        for subList in wholeList:\n",
    "            if len(subList) == len(strs):\n",
    "                alphabets.append(subList[0])\n",
    "        print(\"The same alphabets are\",alphabets)\n",
    "\n",
    "        # Combine all alphabets together\n",
    "        answer = ''\n",
    "        for myAlphabets in alphabets:\n",
    "            answer = answer + myAlphabets\n",
    "        \n",
    "        return answer"
   ]
  },
  {
   "cell_type": "code",
   "execution_count": 103,
   "metadata": {},
   "outputs": [
    {
     "name": "stdout",
     "output_type": "stream",
     "text": [
      "The maximum comparsion times are 4\n",
      "The comparsion result for each time is [['f', 'f', 'f'], ['l', 'l', 'l'], ['o', 'o'], ['w', 'w']]\n",
      "The same alphabets are ['f', 'l']\n"
     ]
    },
    {
     "data": {
      "text/plain": [
       "'fl'"
      ]
     },
     "execution_count": 103,
     "metadata": {},
     "output_type": "execute_result"
    }
   ],
   "source": [
    "Solution.longestCommonPrefix([\"flower\",\"flow\",\"flight\"])"
   ]
  }
 ],
 "metadata": {
  "kernelspec": {
   "display_name": "Python 3.9.13 64-bit",
   "language": "python",
   "name": "python3"
  },
  "language_info": {
   "codemirror_mode": {
    "name": "ipython",
    "version": 3
   },
   "file_extension": ".py",
   "mimetype": "text/x-python",
   "name": "python",
   "nbconvert_exporter": "python",
   "pygments_lexer": "ipython3",
   "version": "3.9.13"
  },
  "orig_nbformat": 4,
  "vscode": {
   "interpreter": {
    "hash": "e24dad31b70f1ca84e4fa801b027387d3dbd09bc703469d381e644d7caa34431"
   }
  }
 },
 "nbformat": 4,
 "nbformat_minor": 2
}
