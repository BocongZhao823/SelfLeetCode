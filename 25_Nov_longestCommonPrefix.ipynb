{
 "cells": [
  {
   "cell_type": "markdown",
   "metadata": {},
   "source": [
    "#### 14. Longest Common Prefix"
   ]
  },
  {
   "cell_type": "markdown",
   "metadata": {},
   "source": [
    "Write a function to find the longest common prefix string amongst an array of strings.\n",
    "\n",
    "If there is no common prefix, return an empty string \"\"."
   ]
  },
  {
   "cell_type": "markdown",
   "metadata": {},
   "source": [
    "#### My Approach"
   ]
  },
  {
   "cell_type": "code",
   "execution_count": 222,
   "metadata": {},
   "outputs": [],
   "source": [
    "class Solution:\n",
    "    def longestCommonPrefix(strs: list[str]) -> str:\n",
    "\n",
    "        # Step 1:\n",
    "        # The latest point to stop the comparision steps\n",
    "        # is when the string with the shorest number of alphabets runs out of its alphabets\n",
    "        lenList = []\n",
    "        for element in strs:\n",
    "            lenList.append(len(element))\n",
    "        minLength = min(lenList) \n",
    "        print(\"The maximum comparsion times are\",minLength)\n",
    "\n",
    "        # Step 2:\n",
    "        # Create a list contains all comparision results respectively\n",
    "        wholeList = []\n",
    "        for i in range(minLength):\n",
    "            myList = []\n",
    "            for t in range(len(strs)):\n",
    "                # if I haven't add the 1st alphabet to the list, add it now\n",
    "                # To check if a list is empty or not, I could check its length \n",
    "                if len(myList) == 0:\n",
    "                    myList.append(strs[t][i])\n",
    "                else:\n",
    "                    # Only when the new alphabet is the same as the 1st added alphabet, I add it to the list\n",
    "                    if myList[0] == strs[t][i]:\n",
    "                        myList.append(strs[t][i])\n",
    "            wholeList.append(myList)\n",
    "        print(\"The comparsion result for each time is\",wholeList)\n",
    "        \n",
    "        # Step 3:\n",
    "        # Check within each time of comparisions, if all alphabets are the same\n",
    "        # To do so, check if the length of each case are the same as the total number of given strings\n",
    "        alphabets = []\n",
    "        index = []\n",
    "        for t in range(len(wholeList)):\n",
    "            if len(wholeList[t]) == len(strs):\n",
    "                alphabets.append(wholeList[t][0])\n",
    "                index.append(t)\n",
    "        print(\"The same alphabets are\",alphabets)\n",
    "        print(\"The index are\", index)\n",
    "\n",
    "        # Step 4:\n",
    "        # Also, once we find the situation where the length of the case is NOT the same as the total number of given strings\n",
    "        # We stop the process and won't continuous checking the following cases.\n",
    "        # To do so, we check when the index is not succession\n",
    "        myCut = []\n",
    "        for p in range(len(index)):\n",
    "            if p > 0:\n",
    "                if index[p] - index[p-1] != 1:\n",
    "                    myCut.append(p)\n",
    "        \n",
    "        # Step 5:\n",
    "        if len(index) !=0 and index[0] != 0:\n",
    "            finalAnsterList = ''\n",
    "        elif len(myCut) != 0:\n",
    "            cutNo = myCut[0]\n",
    "            finalAnsterList = alphabets[:cutNo]\n",
    "        else:\n",
    "            finalAnsterList = alphabets\n",
    "        print(\"finalAnsterList\",finalAnsterList)  \n",
    "\n",
    "        # Step 6:\n",
    "        # Combine all alphabets together\n",
    "        answer = ''\n",
    "        if len(finalAnsterList) != 0:\n",
    "            for myAlphabets in finalAnsterList:\n",
    "                answer = answer + myAlphabets\n",
    "        else:\n",
    "            answer = ''\n",
    "        \n",
    "        return answer"
   ]
  },
  {
   "cell_type": "code",
   "execution_count": 223,
   "metadata": {},
   "outputs": [
    {
     "name": "stdout",
     "output_type": "stream",
     "text": [
      "The maximum comparsion times are 3\n",
      "The comparsion result for each time is [['a'], ['c'], ['d', 'd']]\n",
      "The same alphabets are ['d']\n",
      "The index are [2]\n",
      "finalAnsterList \n"
     ]
    },
    {
     "data": {
      "text/plain": [
       "''"
      ]
     },
     "execution_count": 223,
     "metadata": {},
     "output_type": "execute_result"
    }
   ],
   "source": [
    "Solution.longestCommonPrefix([\"acd\",\"cbd\"])"
   ]
  },
  {
   "cell_type": "markdown",
   "metadata": {},
   "source": [
    "**Example 1:**\n",
    "\n",
    "Input: strs = [\"flower\",\"flow\",\"flight\"]\n",
    "\n",
    "Output: \"fl\"\n",
    "\n",
    "**Example 2:**\n",
    "\n",
    "Input: strs = [\"dog\",\"racecar\",\"car\"]\n",
    "\n",
    "Output: \"\"\n",
    "\n",
    "Explanation: There is no common prefix among the input strings.\n",
    " "
   ]
  }
 ],
 "metadata": {
  "kernelspec": {
   "display_name": "Python 3.9.13 64-bit",
   "language": "python",
   "name": "python3"
  },
  "language_info": {
   "codemirror_mode": {
    "name": "ipython",
    "version": 3
   },
   "file_extension": ".py",
   "mimetype": "text/x-python",
   "name": "python",
   "nbconvert_exporter": "python",
   "pygments_lexer": "ipython3",
   "version": "3.9.13"
  },
  "orig_nbformat": 4,
  "vscode": {
   "interpreter": {
    "hash": "e24dad31b70f1ca84e4fa801b027387d3dbd09bc703469d381e644d7caa34431"
   }
  }
 },
 "nbformat": 4,
 "nbformat_minor": 2
}
