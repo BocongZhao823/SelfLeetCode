{
 "cells": [
  {
   "cell_type": "markdown",
   "metadata": {},
   "source": [
    "# 108. Convert Sorted Array to Binary Search Tree\n",
    "\n",
    "Given an integer array nums where the elements are sorted in ascending order, convert it to a \n",
    "height-balanced binary search tree.\n",
    "\n",
    "### Example 1:\n",
    "\n",
    "```\n",
    "     0\n",
    "   /  \\\n",
    "  -3    9\n",
    " /     / \n",
    "-10   5  \n",
    "```\n",
    "\n",
    "Input: nums = [-10,-3,0,5,9]\n",
    "\n",
    "Output: [0,-3,9,-10,null,5]\n",
    "\n",
    "Explanation: [0,-10,5,null,-3,null,9] is also accepted:\n",
    "\n",
    "```\n",
    "     0\n",
    "   /  \\\n",
    "  -10    5\n",
    "    \\     \\\n",
    "    -3     9  \n",
    "```\n",
    "\n",
    "### Example 2:\n",
    "\n",
    "```\n",
    "    3\n",
    "   /  \n",
    "  1      \n",
    "```\n",
    "\n",
    "Input: nums = [1,3]\n",
    "\n",
    "Output: [3,1]\n",
    "\n",
    "Explanation: [1,null,3] and [3,1] are both height-balanced BSTs.\n",
    "\n",
    "```\n",
    "  1\n",
    "   \\     \n",
    "    3         \n",
    "```\n",
    " \n",
    "### Constraints:\n",
    "\n",
    "1 <= nums.length <= 104\n",
    "\n",
    "-104 <= nums[i] <= 104\n",
    "\n",
    "nums is sorted in a strictly increasing order."
   ]
  },
  {
   "cell_type": "markdown",
   "metadata": {},
   "source": [
    "https://www.youtube.com/watch?v=0K0uCMYq5ng"
   ]
  },
  {
   "cell_type": "code",
   "execution_count": 1,
   "metadata": {},
   "outputs": [],
   "source": [
    "from typing import Optional, List\n",
    "\n",
    "# Definition for a binary tree node.\n",
    "class TreeNode:\n",
    "    def __init__(self, val=0, left=None, right=None):\n",
    "        self.val = val\n",
    "        self.left = left\n",
    "        self.right = right\n",
    "\n",
    "# Left & Right pointer\n",
    "# Find middle node \n",
    "        \n",
    "# [-10, -3, 0, 5, 9]\n",
    "#  (L-sub ) M (R-sub)\n",
    "class Solution:\n",
    "    def sortedArrayToBST(self, nums: List[int]) -> Optional[TreeNode]:\n",
    "        \n",
    "        def helper(l,r):\n",
    "            if l > r:\n",
    "                return None\n",
    "            \n",
    "            # find middle value and set as root\n",
    "            m = (l + r)//2\n",
    "            root = TreeNode(nums[m])\n",
    "\n",
    "            # find left sub-tree\n",
    "            root.left = helper(l, m-1)\n",
    "            root.right = helper(m+1, r)\n",
    "            return root\n",
    "        \n",
    "        return(helper(0, len(nums) -1))\n"
   ]
  },
  {
   "cell_type": "code",
   "execution_count": 2,
   "metadata": {},
   "outputs": [
    {
     "data": {
      "text/plain": [
       "<__main__.TreeNode at 0x1ff29829850>"
      ]
     },
     "execution_count": 2,
     "metadata": {},
     "output_type": "execute_result"
    }
   ],
   "source": [
    "nums = [-10,-3,0,5,9]\n",
    "mySol = Solution()\n",
    "mySol.sortedArrayToBST(nums)"
   ]
  }
 ],
 "metadata": {
  "kernelspec": {
   "display_name": "Python 3",
   "language": "python",
   "name": "python3"
  },
  "language_info": {
   "codemirror_mode": {
    "name": "ipython",
    "version": 3
   },
   "file_extension": ".py",
   "mimetype": "text/x-python",
   "name": "python",
   "nbconvert_exporter": "python",
   "pygments_lexer": "ipython3",
   "version": "3.9.13"
  }
 },
 "nbformat": 4,
 "nbformat_minor": 2
}
