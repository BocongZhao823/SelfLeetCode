{
 "cells": [
  {
   "cell_type": "markdown",
   "metadata": {},
   "source": [
    "# 2. Add Two Numbers\n",
    "\n",
    "You are given two non-empty linked lists representing two non-negative integers. The digits are stored in reverse order, and each of their nodes contains a single digit. Add the two numbers and return the sum as a linked list.\n",
    "\n",
    "You may assume the two numbers do not contain any leading zero, except the number 0 itself.\n",
    "\n",
    "### Example 1:\n",
    "\n",
    "Input: l1 = [2,4,3], l2 = [5,6,4]\n",
    "\n",
    "Output: [7,0,8]\n",
    "\n",
    "Explanation: 342 + 465 = 807.\n",
    "\n",
    "### Example 2:\n",
    "\n",
    "Input: l1 = [0], l2 = [0]\n",
    "\n",
    "Output: [0]\n",
    "\n",
    "### Example 3:\n",
    "\n",
    "Input: l1 = [9,9,9,9,9,9,9], l2 = [9,9,9,9]\n",
    "\n",
    "Output: [8,9,9,9,0,0,0,1]\n",
    " \n",
    "\n",
    "### Constraints:\n",
    "\n",
    "The number of nodes in each linked list is in the range [1, 100].\n",
    "\n",
    "0 <= Node.val <= 9\n",
    "\n",
    "It is guaranteed that the list represents a number that does not have leading zeros."
   ]
  },
  {
   "cell_type": "markdown",
   "metadata": {},
   "source": [
    "### This draft solution misunderstood the input type. As input is already pure numbers. I don't need to convert to str then only save integers to the list."
   ]
  },
  {
   "cell_type": "code",
   "execution_count": 1,
   "metadata": {},
   "outputs": [],
   "source": [
    "# Definition for singly-linked list.\n",
    "# class ListNode:\n",
    "#     def __init__(self, val=0, next=None):\n",
    "#         self.val = val\n",
    "#         self.next = next\n",
    "class Solution:\n",
    "    def addTwoNumbers(l1, l2):\n",
    "        newL1 = []\n",
    "        reverseL1 = []\n",
    "\n",
    "        # Split l1 and convert it to strings --> [2, 4, 3] --> \"[\" \"2\" \",\" \" \" \"4\"... --> len is 9\n",
    "        strL1 = str(l1)\n",
    "\n",
    "        # Check each element inside L1, if it can be a number or not\n",
    "        # \"[\" \"2\" \",\" \" \" \"4\"... --> ['2', '4', '3'] --> len is 3\n",
    "        for i in range(len(strL1)):\n",
    "            try:\n",
    "                int(strL1[i])\n",
    "                newL1.append(strL1[i])\n",
    "            except ValueError:\n",
    "                pass\n",
    "\n",
    "        # Reverse l1 --> ['2', '4', '3'] --> ['3', '4', '2'] \n",
    "        initialM = len(newL1) - 1\n",
    "        #print(f\"initial index # {initialM}\")\n",
    "        while len(newL1) > 0: # A long as L1 has number(s), convert it\n",
    "            m = len(newL1) - 1\n",
    "            for i in range(initialM): \n",
    "                # print(f\"new {newL1}\")\n",
    "                if len(newL1) != 0: # A long as L1 has number(s)\n",
    "                    reverseL1.append(newL1[-1]) # Add the last element to reversed List 1\n",
    "                    newL1 = newL1[:m-i] # Delete the last element from list 1\n",
    "                    \n",
    "        # Combine it to whole number       \n",
    "        stringNumber = \"\"\n",
    "        for element in reverseL1:\n",
    "            stringNumber += element\n",
    "        \n",
    "        # Convert number from Str to Int\n",
    "        intNumber1 = int(stringNumber)\n",
    "        \n",
    "        print(intNumber1)\n",
    "                \n",
    "        \n",
    "        "
   ]
  },
  {
   "cell_type": "code",
   "execution_count": 2,
   "metadata": {},
   "outputs": [
    {
     "name": "stdout",
     "output_type": "stream",
     "text": [
      "342\n"
     ]
    }
   ],
   "source": [
    "l1 = [2,4,3]\n",
    "l2 = [5,6,4]\n",
    "#Output: [7,0,8]\n",
    "Solution.addTwoNumbers(l1, l2)"
   ]
  },
  {
   "cell_type": "markdown",
   "metadata": {},
   "source": [
    "### Soluation 1 assumed list NOT linked-list which is not what this question asked..."
   ]
  },
  {
   "cell_type": "code",
   "execution_count": 3,
   "metadata": {},
   "outputs": [],
   "source": [
    "# Definition for singly-linked list.\n",
    "# class ListNode:\n",
    "#      def __init__(self, val=0, next=None):\n",
    "#          self.val = val\n",
    "#          self.next = next\n",
    "\n",
    "class Auxiliary:\n",
    "    def reversedList(myList):\n",
    "        reverseL1 = []\n",
    "\n",
    "        initialM = len(myList) - 1\n",
    "        while len(myList) > 0: \n",
    "            m = len(myList) - 1\n",
    "            for i in range(initialM): \n",
    "                if len(myList) != 0:\n",
    "                    reverseL1.append(myList[-1]) \n",
    "                    myList = myList[:m-i] \n",
    "        return reverseL1\n",
    "    \n",
    "    def intNum(myList):\n",
    "        stringNumber = \"\"\n",
    "        reverseL1 = Auxiliary.reversedList(myList) \n",
    "        for element in reverseL1:\n",
    "            stringNumber += str(element)\n",
    "\n",
    "        intNumber1 = int(stringNumber)\n",
    "        return intNumber1\n",
    "\n",
    "class Solution1:\n",
    "    def addTwoNumbers(l1, l2):\n",
    "        ### Deal with L1\n",
    "        intNumber1 = Auxiliary.intNum(l1)     \n",
    "        ### Deal with L2\n",
    "        intNumber2 = Auxiliary.intNum(l2)     \n",
    "        ### Add L1 & L2\n",
    "        result = intNumber1 + intNumber2\n",
    "        ### convert result format 807 --> [8,0,7]\n",
    "        resultStr = str(result)\n",
    "        stringResultList = []\n",
    "        for element in resultStr:\n",
    "            stringResultList.append(element)\n",
    "        ### Reverse [8,0,7] --> [7,0,8]\n",
    "        reverseResult = Auxiliary.reversedList(stringResultList)  \n",
    "        return reverseResult"
   ]
  },
  {
   "cell_type": "code",
   "execution_count": 4,
   "metadata": {},
   "outputs": [
    {
     "data": {
      "text/plain": [
       "['7', '0', '8']"
      ]
     },
     "execution_count": 4,
     "metadata": {},
     "output_type": "execute_result"
    }
   ],
   "source": [
    "l1 = [2,4,3]\n",
    "l2 = [5,6,4]\n",
    "#Output: [7,0,8]\n",
    "Solution1.addTwoNumbers(l1, l2)"
   ]
  },
  {
   "cell_type": "markdown",
   "metadata": {},
   "source": [
    "###  Solution2 is done by https://youtu.be/Fs5xgNNoP5c\n",
    "### Linked list a->b->c->d woule be a:b,b:c,c:d,d:None"
   ]
  },
  {
   "cell_type": "markdown",
   "metadata": {},
   "source": [
    "First we create a new ListNode, head, which will hold our answer. We then traverse the two lists, and at every node, we add the values together, create a new node with the sum, and link it to head. However, the problem is complicated by the need to keep track of carries. Here's how we deal with it. After adding two digits together:\n",
    "\n",
    "The non-carry part is obtained by doing total % 10. By taking the remainder of a number after dividing by 10, we only get what's left in the ones place. For example, if the total is 15, then 15 % 10 = 5, so we create a new ListNode with value 5 and link it to head\n",
    "The carry is obtained by doing total // 10 (floor division by 10). By dividing by 10 and rounding down, we get the carry value. So 15 // 10 = 1 (1.5 rounded down is 1) so that corresponds to a carry of 1.\n",
    "We then keep repeating this until all lists have reached the end AND there are no more carry values. At the end, head.nextholds the very first node of our answer, so we return head.next."
   ]
  },
  {
   "cell_type": "code",
   "execution_count": null,
   "metadata": {},
   "outputs": [],
   "source": [
    "# Definition for singly-linked list.\n",
    "class ListNode:\n",
    "     def __init__(self, val=0, next=None):\n",
    "         self.val = val\n",
    "         self.next = next\n",
    "\n",
    "class Solution2(object):\n",
    "    def addTwoNumbers(self, l1, l2):\n",
    "        head = ListNode()\n",
    "        current = head\n",
    "        carry = 0\n",
    "        while (l1 != None or l2 != None or carry != 0):\n",
    "            l1_value = l1.val if l1 else 0\n",
    "            l2_value = l2.val if l2 else 0\n",
    "            total = l1_value + l2_value + carry\n",
    "            current.next = ListNode(total % 10)\n",
    "            carry = total // 10\n",
    "            # Move list pointers forward\n",
    "            l1 = l1.next if l1 else None\n",
    "            l2 = l2.next if l2 else None\n",
    "            current = current.next\n",
    "        return head.next"
   ]
  },
  {
   "cell_type": "code",
   "execution_count": null,
   "metadata": {},
   "outputs": [],
   "source": [
    "l1 = [2,4,3]\n",
    "l2 = [5,6,4]\n",
    "#Output: [7,0,8]\n",
    "Solution2.addTwoNumbers(l1, l2)"
   ]
  }
 ],
 "metadata": {
  "kernelspec": {
   "display_name": "Python 3",
   "language": "python",
   "name": "python3"
  },
  "language_info": {
   "codemirror_mode": {
    "name": "ipython",
    "version": 3
   },
   "file_extension": ".py",
   "mimetype": "text/x-python",
   "name": "python",
   "nbconvert_exporter": "python",
   "pygments_lexer": "ipython3",
   "version": "3.9.13"
  }
 },
 "nbformat": 4,
 "nbformat_minor": 2
}
