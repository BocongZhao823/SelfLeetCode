{
 "cells": [
  {
   "cell_type": "markdown",
   "metadata": {},
   "source": [
    "# 2. Add Two Numbers\n",
    "\n",
    "You are given two non-empty linked lists representing two non-negative integers. The digits are stored in reverse order, and each of their nodes contains a single digit. Add the two numbers and return the sum as a linked list.\n",
    "\n",
    "You may assume the two numbers do not contain any leading zero, except the number 0 itself.\n",
    "\n",
    "### Example 1:\n",
    "\n",
    "Input: l1 = [2,4,3], l2 = [5,6,4]\n",
    "\n",
    "Output: [7,0,8]\n",
    "\n",
    "Explanation: 342 + 465 = 807.\n",
    "\n",
    "### Example 2:\n",
    "\n",
    "Input: l1 = [0], l2 = [0]\n",
    "\n",
    "Output: [0]\n",
    "\n",
    "### Example 3:\n",
    "\n",
    "Input: l1 = [9,9,9,9,9,9,9], l2 = [9,9,9,9]\n",
    "\n",
    "Output: [8,9,9,9,0,0,0,1]\n",
    " \n",
    "\n",
    "### Constraints:\n",
    "\n",
    "The number of nodes in each linked list is in the range [1, 100].\n",
    "\n",
    "0 <= Node.val <= 9\n",
    "\n",
    "It is guaranteed that the list represents a number that does not have leading zeros."
   ]
  },
  {
   "cell_type": "code",
   "execution_count": null,
   "metadata": {},
   "outputs": [],
   "source": []
  }
 ],
 "metadata": {
  "kernelspec": {
   "display_name": "Python 3",
   "language": "python",
   "name": "python3"
  },
  "language_info": {
   "name": "python",
   "version": "3.9.13"
  }
 },
 "nbformat": 4,
 "nbformat_minor": 2
}
