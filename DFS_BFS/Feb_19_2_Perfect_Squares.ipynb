{
 "cells": [
  {
   "cell_type": "markdown",
   "metadata": {},
   "source": [
    "## 279. Perfect Squares\n",
    "\n",
    "### Problem Statement\n",
    "Given an integer `n`, return the least number of perfect square numbers that sum to `n`.\n",
    "\n",
    "A perfect square is an integer that is the square of an integer; in other words, it is the product of some integer with itself. For example, 1, 4, 9, and 16 are perfect squares while 3 and 11 are not.\n",
    "\n",
    "#### Example 1:\n",
    "```\n",
    "Input: n = 12\n",
    "Output: 3\n",
    "Explanation: 12 = 4 + 4 + 4.\n",
    "```\n",
    "#### Example 2:\n",
    "```\n",
    "Input: n = 13\n",
    "Output: 2\n",
    "Explanation: 13 = 4 + 9.\n",
    "```\n",
    "#### Constraints:\n",
    "- 1 <= n <= 10^4"
   ]
  },
  {
   "cell_type": "code",
   "execution_count": 4,
   "metadata": {},
   "outputs": [],
   "source": [
    "from typing import Optional, List\n",
    "import math"
   ]
  },
  {
   "cell_type": "code",
   "execution_count": 5,
   "metadata": {},
   "outputs": [],
   "source": [
    "class Solution:\n",
    "    \n",
    "    @staticmethod\n",
    "    def checkSqrt(n):\n",
    "        sqrt_num = math. sqrt(n)\n",
    "        return sqrt_num. is_integer()\n",
    "        \n",
    "    @staticmethod\n",
    "    def findSqrt(n):\n",
    "        # Check all values < n & are perfect square\n",
    "        n = n-1\n",
    "        sqrtList = []\n",
    "        while n>0:\n",
    "            if Solution.checkSqrt(n):\n",
    "                sqrtList.append(n)\n",
    "                n -= 1\n",
    "            else:\n",
    "                n -= 1\n",
    "        return sqrtList\n",
    "\n",
    "    def numSquares(self, n: int) -> int:\n",
    "        perfectSquares = Solution.findSqrt(n)\n",
    "        if n <= 0:\n",
    "            return 0\n",
    "        # Check if n itself is a perfect square\n",
    "        elif Solution.checkSqrt(n):\n",
    "            return 1\n",
    "        else:\n",
    "            # Use BFS to find the shortest combination of perfect squares that sum to n\n",
    "            queue = [(n, 0)]  # (remaining number, level)\n",
    "            visited = set()    # keep track of visited numbers\n",
    "            while queue:\n",
    "                num, level = queue.pop(0)\n",
    "                for square in perfectSquares:\n",
    "                    if num - square == 0:\n",
    "                        return level + 1\n",
    "                    elif num - square not in visited and num - square > 0:\n",
    "                        queue.append((num - square, level + 1))\n",
    "                        visited.add(num - square)\n",
    "            return -1"
   ]
  },
  {
   "cell_type": "code",
   "execution_count": 6,
   "metadata": {},
   "outputs": [
    {
     "data": {
      "text/plain": [
       "3"
      ]
     },
     "execution_count": 6,
     "metadata": {},
     "output_type": "execute_result"
    }
   ],
   "source": [
    "n = 12\n",
    "answer = Solution()\n",
    "answer.numSquares(n)"
   ]
  },
  {
   "cell_type": "markdown",
   "metadata": {},
   "source": [
    "```python\n",
    "            # Use BFS to find the shortest combination of perfect squares that sum to n\n",
    "            queue = [(n, 0)]  # (remaining number, level)\n",
    "            visited = set()    # keep track of visited numbers\n",
    "            while queue:\n",
    "                num, level = queue.pop(0)\n",
    "                for square in perfect_squares:\n",
    "                    if num - square == 0:\n",
    "                        return level + 1\n",
    "                    elif num - square not in visited and num - square > 0:\n",
    "                        queue.append((num - square, level + 1))\n",
    "                        visited.add(num - square)\n",
    "            return -1\n",
    "```\n",
    "\n",
    "Explanation line by line:\n",
    "\n",
    "1. `queue = [(n, 0)]`: We initialize a queue with a tuple containing the remaining number to be decomposed and its corresponding level in the BFS traversal. Initially, we have the number `n` to be decomposed, and its level is 0.\n",
    "\n",
    "2. `visited = set()`: We initialize an empty set to keep track of the numbers we have visited so far.\n",
    "\n",
    "3. `while queue:`: We start a while loop that continues as long as the queue is not empty. This loop drives the BFS traversal.\n",
    "\n",
    "4. `num, level = queue.pop(0)`: We dequeue the first element from the queue. `num` represents the remaining number to be decomposed, and `level` represents the level of the BFS traversal at this point.\n",
    "\n",
    "5. `for square in perfect_squares:`: We iterate over all perfect square numbers that we precomputed.\n",
    "\n",
    "6. `if num - square == 0:`: If the difference between the current `num` and the `square` we are considering is 0, it means we have found a combination of perfect squares that sum up to `n`. In this case, we return the current level + 1, indicating the length of the combination.\n",
    "\n",
    "7. `elif num - square not in visited and num - square > 0:`: If the difference between the current `num` and the `square` is not in the `visited` set (meaning we haven't encountered it before) and the difference is greater than 0 (meaning it's a valid number to continue exploring), we append `(num - square, level + 1)` to the queue, representing the new state in the BFS traversal. We also add `num - square` to the `visited` set to mark it as visited.\n",
    "\n",
    "8. `return -1`: If we exhaust all possibilities in the while loop and haven't found a combination that sums up to `n`, we return -1, indicating that no valid combination exists.\n",
    "\n",
    "This structure implements BFS to explore all possible combinations of perfect square numbers that sum up to `n`, ensuring that we find the shortest combination."
   ]
  },
  {
   "cell_type": "markdown",
   "metadata": {},
   "source": [
    "In the provided code, the situation where `while queue:` is not satisfied doesn't necessarily mean that `n` has become 0. Instead, it means that the queue has been exhausted, indicating that there are no more nodes to explore in the BFS traversal. \n",
    "\n",
    "The BFS algorithm explores nodes level by level. In this context, each node represents a number that is being decomposed into perfect squares. If the queue becomes empty, it means that all possible combinations of perfect squares that sum up to `n` have been explored, and the algorithm couldn't find a combination that works.\n",
    "\n",
    "Returning -1 in this case implies that there is no valid combination of perfect squares that sum up to `n`, and thus, it's not possible to represent `n` as a sum of perfect squares.\n",
    "\n",
    "In the code, the queue never explicitly becomes `[(0, 0)]`. It's possible to enqueue `(0, 0)` into the queue if `n` itself is a perfect square, but in other cases, the queue will contain various combinations of remaining numbers to be decomposed and their respective levels in the BFS traversal. Once the queue is exhausted, and no valid combination is found, the function returns -1."
   ]
  },
  {
   "cell_type": "markdown",
   "metadata": {},
   "source": [
    "In the given code structure, the position of perfect squares inside the tree is not relevant. The code is focused on exploring all possible combinations of perfect squares that sum up to `n`, and it doesn't construct an actual tree with left and right nodes.\n",
    "\n",
    "The BFS algorithm employed here treats each node in the queue equally; there's no distinction between left and right nodes because the tree structure isn't explicitly defined or utilized.\n",
    "\n",
    "The queue stores tuples of the form `(remaining number, level)`, where the remaining number represents the number that needs to be decomposed into perfect squares, and the level represents the depth of the BFS traversal at that point. Each level corresponds to a possible combination of perfect squares that sum up to `n`.\n",
    "\n",
    "The algorithm explores all possible combinations systematically, checking if subtracting a perfect square from the remaining number leads to another valid number to explore further. It doesn't differentiate between left or right nodes as in a traditional tree structure. It's more like a state exploration where each state represents a number to be decomposed into perfect squares.\n",
    "\n",
    "So, to answer your question directly: No, in the given code, we don't care about the position of nodes inside a tree, and we don't differentiate between left and right nodes. We're focused on exploring all possible combinations of perfect squares to find one that sums up to `n`."
   ]
  },
  {
   "cell_type": "markdown",
   "metadata": {},
   "source": [
    "Example: \n",
    "\n",
    "In the case of `n = 12`, the algorithm explores all possible combinations of perfect square numbers to find the least number of perfect square numbers that sum to `12`.\n",
    "\n",
    "1. We start with `n = 12`.\n",
    "2. We generate all perfect square numbers up to the square root of `n`, which is `[1, 4, 9]`.\n",
    "3. We initialize our queue with `[(12, 0)]`, indicating that we need to decompose `12`, and we're at level `0`.\n",
    "4. We start the BFS traversal. At each step, we pop a tuple `(num, level)` from the queue.\n",
    "   - At the first step, we pop `(12, 0)`.\n",
    "   - We subtract each perfect square from `12` and add the new numbers to the queue along with the corresponding level + 1.\n",
    "     - For `12 - 1^2 = 11`, we add `(11, 1)` to the queue.\n",
    "     - For `12 - 2^2 = 8`, we add `(8, 1)` to the queue.\n",
    "     - For `12 - 3^2 = 3`, we add `(3, 1)` to the queue.\n",
    "   - We mark `11`, `8`, and `3` as visited.\n",
    "5. Now, the algorithm continues. It pops `(11, 1)` from the queue and explores its possibilities, and so on.\n",
    "6. Finally, the algorithm finds that `12` can be decomposed into `4 + 4 + 4`, which represents `3` perfect squares (`4` is a perfect square), so the least number of perfect square numbers that sum to `12` is `3`."
   ]
  }
 ],
 "metadata": {
  "kernelspec": {
   "display_name": "Python 3",
   "language": "python",
   "name": "python3"
  },
  "language_info": {
   "codemirror_mode": {
    "name": "ipython",
    "version": 3
   },
   "file_extension": ".py",
   "mimetype": "text/x-python",
   "name": "python",
   "nbconvert_exporter": "python",
   "pygments_lexer": "ipython3",
   "version": "3.12.2"
  }
 },
 "nbformat": 4,
 "nbformat_minor": 2
}
