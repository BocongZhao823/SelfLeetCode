{
 "cells": [
  {
   "cell_type": "markdown",
   "metadata": {},
   "source": [
    "#### 20 Valid Parentheses"
   ]
  },
  {
   "cell_type": "code",
   "execution_count": 62,
   "metadata": {},
   "outputs": [],
   "source": [
    "# Not enough \n",
    "# Only consider \"[],{},()\" situation, not nested situation \"{[]}\"\n",
    "class Solution:\n",
    "    def isValid(s: str) -> bool:\n",
    "\n",
    "        #symbol = ['(',')','[',']','{','}']\n",
    "        symbolL = ['(','[','{']\n",
    "        symbolR = [')',']','}']\n",
    "\n",
    "        check = []\n",
    "        for i in range(len(s)):\n",
    "            if i < len(s) - 1:\n",
    "                for t in range(len(symbolL)):\n",
    "                    if s[i] == symbolL[t] and s[i+1] == symbolR[t]:\n",
    "                        check.append('T')\n",
    "        \n",
    "        if len(check) == len(s)/2:\n",
    "            return True\n",
    "        else:\n",
    "            return False"
   ]
  },
  {
   "cell_type": "code",
   "execution_count": 69,
   "metadata": {},
   "outputs": [],
   "source": [
    "class Solution:\n",
    "    def isValid(s: str) -> bool:\n",
    "\n",
    "        #symbol = ['(',')','[',']','{','}']\n",
    "        symbolL = ['(','[','{']\n",
    "        symbolR = [')',']','}']\n",
    "\n",
    "        inputSplit = []\n",
    "        for element in s:\n",
    "            inputSplit.append(element)\n",
    "        print(\"input\", inputSplit)\n",
    "\n",
    "        # Find the left symbol's position of all paired symbols\n",
    "        cut = []\n",
    "        for i in range(len(s) -1 ):\n",
    "            for t in range(len(symbolL)):\n",
    "                if s[i] == symbolL[t] and s[i+1] == symbolR[t]:\n",
    "                    cut.append(i)\n",
    "        print(\"The position(s)\",cut)\n",
    "\n",
    "        # Case 1: total input symbols are not a even number \n",
    "        if len(inputSplit) % 2 != 0:\n",
    "            return False\n",
    "\n",
    "        # Case 1: \"(}\"\n",
    "        # If cut list is empty, indicates there is no paried symbols\n",
    "        elif len(cut) == 0:\n",
    "            return False\n",
    "\n",
    "        # Case 2: \"()[]{}\"\n",
    "        # If there is NO nested symbols\n",
    "        elif len(cut) == len(s)/2:\n",
    "            return True\n",
    "            \n",
    "        # Case 3 & 4: \n",
    "        # If there are nested symbols\n",
    "        elif len(cut) != 0:\n",
    "            \n",
    "            # Split by the 1st cut position, check if bilateral symmetry        \n",
    "            leftList = s[:cut[0]+1]\n",
    "            rightList = s[cut[0]+1:]\n",
    "            print(\"my left part is\",leftList) \n",
    "            print(\"my right part is\", rightList)\n",
    "            rightSplit = []\n",
    "            for element in rightList:\n",
    "                rightSplit.append(element)\n",
    "                \n",
    "            # Case 3: \"{[]}\"\n",
    "            # Symmertry nested \n",
    "            if len(leftList) == len(rightList):\n",
    "                rightSplit.reverse()\n",
    "                print(\"reversed right part is\",rightSplit)\n",
    "                check = []\n",
    "                for p in range(len(leftList)):\n",
    "                    for t in range(len(symbolL)):\n",
    "                        if leftList[p] == symbolL[t]  and rightSplit[p] == symbolR[t]:   \n",
    "                            check.append('T')\n",
    "        \n",
    "                print(check)\n",
    "                if len(check) == len(leftList):\n",
    "                    return True\n",
    "                else:\n",
    "                    return False\n",
    "                \n",
    "            # Case 4: \"( ([]) {})\"\n",
    "            # Non-Symmertry nested \n",
    "            else:\n",
    "                # If the whole input list is not null & the left over numbers are even\n",
    "                for myLoop in range(int(len(inputSplit)/2)):\n",
    "                    cut = []\n",
    "                    for i in range(len(inputSplit) -1 ):\n",
    "                        for t in range(len(symbolL)):\n",
    "                            if s[i] == symbolL[t] and s[i+1] == symbolR[t]:\n",
    "                                cut.append(i)\n",
    "                                print(\"1st cut position is\",cut)\n",
    "                                \n",
    "                                inputSplit.pop( cut[0] )\n",
    "                                print(\"After delete left\",inputSplit)\n",
    "                                inputSplit.pop( cut[0] )\n",
    "                                print(\"After delete right\",inputSplit)\n",
    "                \n",
    "                #print(cut)\n",
    "                #return False"
   ]
  },
  {
   "cell_type": "code",
   "execution_count": 25,
   "metadata": {},
   "outputs": [
    {
     "data": {
      "text/plain": [
       "[2, 3]"
      ]
     },
     "execution_count": 25,
     "metadata": {},
     "output_type": "execute_result"
    }
   ],
   "source": [
    "a = [1,2,3]\n",
    "a.pop(0)\n",
    "a"
   ]
  },
  {
   "cell_type": "code",
   "execution_count": 10,
   "metadata": {},
   "outputs": [
    {
     "name": "stdout",
     "output_type": "stream",
     "text": [
      "The position(s) []\n"
     ]
    },
    {
     "data": {
      "text/plain": [
       "False"
      ]
     },
     "execution_count": 10,
     "metadata": {},
     "output_type": "execute_result"
    }
   ],
   "source": [
    "# Case 1:\n",
    "Solution.isValid(\"(}\")"
   ]
  },
  {
   "cell_type": "code",
   "execution_count": 11,
   "metadata": {},
   "outputs": [
    {
     "name": "stdout",
     "output_type": "stream",
     "text": [
      "The position(s) [0, 2, 4]\n"
     ]
    },
    {
     "data": {
      "text/plain": [
       "True"
      ]
     },
     "execution_count": 11,
     "metadata": {},
     "output_type": "execute_result"
    }
   ],
   "source": [
    "# Case 2:\n",
    "Solution.isValid(\"()[]{}\")"
   ]
  },
  {
   "cell_type": "code",
   "execution_count": 12,
   "metadata": {},
   "outputs": [
    {
     "name": "stdout",
     "output_type": "stream",
     "text": [
      "The position(s) [1]\n",
      "my left part is {[\n",
      "my right part is ]}\n",
      "reversed right part is ['}', ']']\n",
      "['T', 'T']\n"
     ]
    },
    {
     "data": {
      "text/plain": [
       "True"
      ]
     },
     "execution_count": 12,
     "metadata": {},
     "output_type": "execute_result"
    }
   ],
   "source": [
    "# Case 3:\n",
    "Solution.isValid(\"{[]}\")"
   ]
  },
  {
   "cell_type": "code",
   "execution_count": 70,
   "metadata": {},
   "outputs": [
    {
     "name": "stdout",
     "output_type": "stream",
     "text": [
      "input ['(', '(', '[', ']', ')', '{', '}', ')']\n",
      "The position(s) [2, 5]\n",
      "my left part is (([\n",
      "my right part is ]){})\n",
      "1st cut position is [2]\n",
      "After delete left ['(', '(', ']', ')', '{', '}', ')']\n",
      "After delete right ['(', '(', ')', '{', '}', ')']\n",
      "1st cut position is [2, 5]\n",
      "After delete left ['(', '(', '{', '}', ')']\n",
      "After delete right ['(', '(', '}', ')']\n",
      "1st cut position is [2]\n",
      "After delete left ['(', '(', ')']\n",
      "After delete right ['(', '(']\n"
     ]
    }
   ],
   "source": [
    "# Case 4:\n",
    "Solution.isValid(\"(([]){})\")"
   ]
  }
 ],
 "metadata": {
  "kernelspec": {
   "display_name": "Python 3.9.13 64-bit",
   "language": "python",
   "name": "python3"
  },
  "language_info": {
   "codemirror_mode": {
    "name": "ipython",
    "version": 3
   },
   "file_extension": ".py",
   "mimetype": "text/x-python",
   "name": "python",
   "nbconvert_exporter": "python",
   "pygments_lexer": "ipython3",
   "version": "3.9.13 (tags/v3.9.13:6de2ca5, May 17 2022, 16:36:42) [MSC v.1929 64 bit (AMD64)]"
  },
  "orig_nbformat": 4,
  "vscode": {
   "interpreter": {
    "hash": "e24dad31b70f1ca84e4fa801b027387d3dbd09bc703469d381e644d7caa34431"
   }
  }
 },
 "nbformat": 4,
 "nbformat_minor": 2
}
