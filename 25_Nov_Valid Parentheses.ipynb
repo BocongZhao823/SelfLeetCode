{
 "cells": [
  {
   "cell_type": "markdown",
   "metadata": {},
   "source": [
    "#### 20 Valid Parentheses"
   ]
  },
  {
   "cell_type": "code",
   "execution_count": 62,
   "metadata": {},
   "outputs": [],
   "source": [
    "class Solution:\n",
    "    def isValid(s: str) -> bool:\n",
    "\n",
    "        #symbol = ['(',')','[',']','{','}']\n",
    "        symbolL = ['(','[','{']\n",
    "        symbolR = [')',']','}']\n",
    "\n",
    "        check = []\n",
    "        for i in range(len(s)):\n",
    "            if i < len(s) - 1:\n",
    "                for t in range(len(symbolL)):\n",
    "                    if s[i] == symbolL[t] and s[i+1] == symbolR[t]:\n",
    "                        check.append('T')\n",
    "        \n",
    "        if len(check) == len(s)/2:\n",
    "            return True\n",
    "        else:\n",
    "            return False\n",
    "        \n",
    "        \n",
    "\n"
   ]
  },
  {
   "cell_type": "code",
   "execution_count": 64,
   "metadata": {},
   "outputs": [
    {
     "data": {
      "text/plain": [
       "False"
      ]
     },
     "execution_count": 64,
     "metadata": {},
     "output_type": "execute_result"
    }
   ],
   "source": [
    "Solution.isValid(\"{[]}\")"
   ]
  }
 ],
 "metadata": {
  "kernelspec": {
   "display_name": "Python 3.9.13 64-bit",
   "language": "python",
   "name": "python3"
  },
  "language_info": {
   "codemirror_mode": {
    "name": "ipython",
    "version": 3
   },
   "file_extension": ".py",
   "mimetype": "text/x-python",
   "name": "python",
   "nbconvert_exporter": "python",
   "pygments_lexer": "ipython3",
   "version": "3.9.13"
  },
  "orig_nbformat": 4,
  "vscode": {
   "interpreter": {
    "hash": "e24dad31b70f1ca84e4fa801b027387d3dbd09bc703469d381e644d7caa34431"
   }
  }
 },
 "nbformat": 4,
 "nbformat_minor": 2
}
